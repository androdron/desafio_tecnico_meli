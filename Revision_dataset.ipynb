{
 "cells": [
  {
   "cell_type": "code",
   "execution_count": 30,
   "metadata": {},
   "outputs": [
    {
     "name": "stdout",
     "output_type": "stream",
     "text": [
      "Defaulting to user installation because normal site-packages is not writeable\n",
      "Collecting selenium\n",
      "  Downloading selenium-3.141.0-py2.py3-none-any.whl (904 kB)\n",
      "\u001b[K     |████████████████████████████████| 904 kB 3.4 MB/s eta 0:00:01\n",
      "\u001b[?25hRequirement already satisfied: urllib3 in /usr/lib/python3/dist-packages (from selenium) (1.25.8)\n",
      "Installing collected packages: selenium\n",
      "Successfully installed selenium-3.141.0\n",
      "\u001b[33mWARNING: You are using pip version 20.1.1; however, version 20.2.4 is available.\n",
      "You should consider upgrading via the '/usr/bin/python3 -m pip install --upgrade pip' command.\u001b[0m\n"
     ]
    }
   ],
   "source": [
    "!pip install selenium"
   ]
  },
  {
   "cell_type": "code",
   "execution_count": 67,
   "metadata": {},
   "outputs": [],
   "source": [
    "import json\n",
    "import requests\n",
    "from selenium_driver import setProxy\n",
    "import time\n",
    "import re\n",
    "from selenium.webdriver.common.action_chains import ActionChains"
   ]
  },
  {
   "cell_type": "code",
   "execution_count": 95,
   "metadata": {},
   "outputs": [],
   "source": [
    "link_descuentos = 'https://www.mercadolibre.com.ar/ofertas?cat=#origin=scut&filter_position=1&is_recommended_domain=false'\n",
    "driver = setProxy(headless=True)"
   ]
  },
  {
   "cell_type": "code",
   "execution_count": 23,
   "metadata": {},
   "outputs": [],
   "source": [
    "actions = ActionChains(driver)"
   ]
  },
  {
   "cell_type": "code",
   "execution_count": 16,
   "metadata": {},
   "outputs": [],
   "source": [
    "driver.get(link_descuentos)"
   ]
  },
  {
   "cell_type": "code",
   "execution_count": 17,
   "metadata": {},
   "outputs": [],
   "source": [
    "prom_class = 'promotion-item__link-container'"
   ]
  },
  {
   "cell_type": "code",
   "execution_count": 18,
   "metadata": {},
   "outputs": [],
   "source": [
    "actions = ActionChains(driver)"
   ]
  },
  {
   "cell_type": "code",
   "execution_count": 43,
   "metadata": {},
   "outputs": [],
   "source": [
    "cant_paginas = 209\n",
    "with open('discount_items_links2.txt','a') as fi:\n",
    "    for pag in range(4,210):\n",
    "        driver.get('https://www.mercadolibre.com.ar/ofertas?page={}'.format(pag))\n",
    "        for elem in driver.find_elements_by_class_name(prom_class):\n",
    "            fi.write(elem.get_attribute('href')+'\\n')\n",
    "\n",
    "        \n",
    "        time.sleep(2)"
   ]
  },
  {
   "cell_type": "code",
   "execution_count": 37,
   "metadata": {},
   "outputs": [],
   "source": [
    "driver.get('https://www.mercadolibre.com.ar/ofertas?page=2')"
   ]
  },
  {
   "cell_type": "code",
   "execution_count": 44,
   "metadata": {},
   "outputs": [],
   "source": [
    "with open('discount_items_links2.txt','r') as fi:\n",
    "    selenium_items_links = fi.readlines()"
   ]
  },
  {
   "cell_type": "code",
   "execution_count": 63,
   "metadata": {},
   "outputs": [],
   "source": []
  },
  {
   "cell_type": "code",
   "execution_count": 91,
   "metadata": {},
   "outputs": [],
   "source": [
    "driver.get(selenium_items_links[199])"
   ]
  },
  {
   "cell_type": "code",
   "execution_count": 94,
   "metadata": {},
   "outputs": [],
   "source": [
    "driver.close()"
   ]
  },
  {
   "cell_type": "code",
   "execution_count": 83,
   "metadata": {},
   "outputs": [
    {
     "data": {
      "text/plain": [
       "'https://articulo.mercadolibre.com.ar/MLA-883990644-detergente-para-lavavajillas-finish-automatico-powerball-all-in-1-max-tabletas-repuesto-30u-_JM?hide_psmb=true#reco_item_pos=7&reco_backend=promotions-sorted-by-score-mla-A&reco_backend_type=low_level&reco_client=seller-promotions&reco_id=993271fa-c505-41da-bcf9-e09e6cbfb359&deal_print_id=5e7ff7a0-2833-11eb-a08e-eb65606e9454&model_version=recommendations/prueba-promotions-MLA__3628__KAKUY&promotion_type=TODAY_PROMOTION\\n'"
      ]
     },
     "execution_count": 83,
     "metadata": {},
     "output_type": "execute_result"
    }
   ],
   "source": [
    "selenium_items_links[199]"
   ]
  },
  {
   "cell_type": "code",
   "execution_count": 92,
   "metadata": {},
   "outputs": [
    {
     "data": {
      "text/plain": [
       "'49'"
      ]
     },
     "execution_count": 92,
     "metadata": {},
     "output_type": "execute_result"
    }
   ],
   "source": [
    "(driver.find_element_by_class_name('ui-pdp-review__amount').text).split()[0]"
   ]
  },
  {
   "cell_type": "code",
   "execution_count": 97,
   "metadata": {},
   "outputs": [],
   "source": [
    "clase_descripcion = 'ui-pdp-description__content'\n",
    "\n",
    "with open('discount_items_rating_descrip.txt','a') as fi:\n",
    "    fail_count = 0\n",
    "    for item_link in selenium_items_links[2:]:\n",
    "        driver.get(item_link)\n",
    "        item_id = 'MLA'+re.search(r'.*\\/MLA-(\\d+)-.*',item_link).group(1)\n",
    "        try:\n",
    "            fail_count = 0\n",
    "            rewiew_amount = (driver.find_element_by_class_name('ui-pdp-review__amount').text).split()[0]\n",
    "            parent_rating = driver.find_element_by_class_name('ui-pdp-review__ratings')\n",
    "            rating_stars_ls = [[x.get_attribute('class').split('-')[-1],x.get_attribute('width')] for x in parent_rating.find_elements_by_xpath(\"./*\")]\n",
    "            stars = 0\n",
    "            for stars_ls in rating_stars_ls:\n",
    "                if stars_ls[0] == 'full' and stars_ls[1] == '10': # Representa una estrella completa, si el segundo elemento es 11 la estrella esta vacia\n",
    "                    stars += 1\n",
    "                elif stars_ls[0] == 'half': # Representa una media estrella\n",
    "                    stars += 0.5\n",
    "                else:\n",
    "                    pass\n",
    "            \n",
    "        except:\n",
    "            stars = 0\n",
    "            review_amount = '0'\n",
    "            fail_count += 1\n",
    "        try:\n",
    "            descripcion = (driver.find_element_by_class_name(clase_descripcion).text).replace('\\n',' ')\n",
    "        except:\n",
    "            descripcion = 'None'\n",
    "        fi.write('_\\t\\t_'.join([item_id,str(stars),rewiew_amount,descripcion])+'\\n')\n",
    "        \n",
    "        if fail_count >= 100:\n",
    "            print('Todo mal :c')\n",
    "            break"
   ]
  },
  {
   "cell_type": "code",
   "execution_count": 48,
   "metadata": {},
   "outputs": [
    {
     "data": {
      "text/plain": [
       "'https://articulo.mercadolibre.com.ar/MLA-693504981-cama-elastica-precio-oferta-3-metros-ninos-adulto-grande-_JM?variation=28515514448&hide_psmb=true#reco_item_pos=1&reco_backend=promotions-sorted-by-score-mla-A&reco_backend_type=low_level&reco_client=seller-promotions&reco_id=d98ff632-ded7-4c1f-9678-db1bbb6d520e&deal_print_id=f26c6d00-2832-11eb-b20e-81231f32d6fd&model_version=recommendations/prueba-promotions-MLA__3628__KAKUY&promotion_type=DEAL_OF_THE_DAY\\n'"
      ]
     },
     "execution_count": 48,
     "metadata": {},
     "output_type": "execute_result"
    }
   ],
   "source": [
    "selenium_items_links[1]"
   ]
  },
  {
   "cell_type": "code",
   "execution_count": null,
   "metadata": {},
   "outputs": [],
   "source": [
    "for link in selenium_items_links:\n",
    "    driver.get(link)\n",
    "    "
   ]
  },
  {
   "cell_type": "code",
   "execution_count": 20,
   "metadata": {},
   "outputs": [],
   "source": [
    "json_dict = []\n",
    "with open('items_test.jl','r') as fi:\n",
    "    for line in fi.readlines():\n",
    "        json_dict.append(json.loads(line))"
   ]
  },
  {
   "cell_type": "code",
   "execution_count": 22,
   "metadata": {},
   "outputs": [],
   "source": [
    "len(json_dict)\n",
    "\n",
    "count = 0\n",
    "for item in json_dict:\n",
    "    if item['original_price'] != None:\n",
    "        count += 1\n",
    "print(count)"
   ]
  },
  {
   "cell_type": "code",
   "execution_count": 3,
   "metadata": {},
   "outputs": [],
   "source": [
    "item1 = 'MLA873113583'"
   ]
  },
  {
   "cell_type": "code",
   "execution_count": 4,
   "metadata": {},
   "outputs": [],
   "source": [
    "response = requests.get('https://api.mercadolibre.com/items?ids={}'.format(item1))"
   ]
  },
  {
   "cell_type": "code",
   "execution_count": 5,
   "metadata": {},
   "outputs": [
    {
     "data": {
      "text/plain": [
       "[{'code': 200,\n",
       "  'body': {'id': 'MLA873113583',\n",
       "   'site_id': 'MLA',\n",
       "   'title': 'Tostadora Kanji Home Kjh-tm140 1400w Metal 4 Panes 6 Niveles',\n",
       "   'subtitle': None,\n",
       "   'seller_id': 12626860,\n",
       "   'category_id': 'MLA10068',\n",
       "   'official_store_id': None,\n",
       "   'price': 2899,\n",
       "   'base_price': 2899,\n",
       "   'original_price': 3399,\n",
       "   'currency_id': 'ARS',\n",
       "   'initial_quantity': 81,\n",
       "   'available_quantity': 50,\n",
       "   'sold_quantity': 5,\n",
       "   'sale_terms': [{'id': 'WARRANTY_TIME',\n",
       "     'name': 'Tiempo de garantía',\n",
       "     'value_id': None,\n",
       "     'value_name': '6 meses',\n",
       "     'value_struct': {'number': 6, 'unit': 'meses'},\n",
       "     'values': [{'id': None,\n",
       "       'name': '6 meses',\n",
       "       'struct': {'number': 6, 'unit': 'meses'}}]},\n",
       "    {'id': 'WARRANTY_TYPE',\n",
       "     'name': 'Tipo de garantía',\n",
       "     'value_id': '2230279',\n",
       "     'value_name': 'Garantía de fábrica',\n",
       "     'value_struct': None,\n",
       "     'values': [{'id': '2230279',\n",
       "       'name': 'Garantía de fábrica',\n",
       "       'struct': None}]}],\n",
       "   'buying_mode': 'buy_it_now',\n",
       "   'listing_type_id': 'gold_pro',\n",
       "   'start_time': '2020-08-13T12:53:46.000Z',\n",
       "   'stop_time': '2040-08-14T15:26:27.000Z',\n",
       "   'condition': 'new',\n",
       "   'permalink': 'https://articulo.mercadolibre.com.ar/MLA-873113583-tostadora-kanji-home-kjh-tm140-1400w-metal-4-panes-6-niveles-_JM',\n",
       "   'thumbnail_id': '815727-MLA43155330951_082020',\n",
       "   'thumbnail': 'http://http2.mlstatic.com/D_815727-MLA43155330951_082020-I.jpg',\n",
       "   'secure_thumbnail': 'https://http2.mlstatic.com/D_815727-MLA43155330951_082020-I.jpg',\n",
       "   'pictures': [{'id': '815727-MLA43155330951_082020',\n",
       "     'url': 'http://http2.mlstatic.com/D_815727-MLA43155330951_082020-O.jpg',\n",
       "     'secure_url': 'https://http2.mlstatic.com/D_815727-MLA43155330951_082020-O.jpg',\n",
       "     'size': '500x371',\n",
       "     'max_size': '1162x864',\n",
       "     'quality': ''},\n",
       "    {'id': '866723-MLA43155357602_082020',\n",
       "     'url': 'http://http2.mlstatic.com/D_866723-MLA43155357602_082020-O.jpg',\n",
       "     'secure_url': 'https://http2.mlstatic.com/D_866723-MLA43155357602_082020-O.jpg',\n",
       "     'size': '500x499',\n",
       "     'max_size': '1202x1200',\n",
       "     'quality': ''},\n",
       "    {'id': '683938-MLA43155329930_082020',\n",
       "     'url': 'http://http2.mlstatic.com/D_683938-MLA43155329930_082020-O.jpg',\n",
       "     'secure_url': 'https://http2.mlstatic.com/D_683938-MLA43155329930_082020-O.jpg',\n",
       "     'size': '469x500',\n",
       "     'max_size': '1000x1064',\n",
       "     'quality': ''},\n",
       "    {'id': '886500-MLA43155352652_082020',\n",
       "     'url': 'http://http2.mlstatic.com/D_886500-MLA43155352652_082020-O.jpg',\n",
       "     'secure_url': 'https://http2.mlstatic.com/D_886500-MLA43155352652_082020-O.jpg',\n",
       "     'size': '469x500',\n",
       "     'max_size': '1000x1064',\n",
       "     'quality': ''}],\n",
       "   'video_id': None,\n",
       "   'descriptions': [{'id': 'MLA873113583-2854618651'}],\n",
       "   'accepts_mercadopago': True,\n",
       "   'non_mercado_pago_payment_methods': [],\n",
       "   'shipping': {'mode': 'me2',\n",
       "    'free_methods': [{'id': 73328,\n",
       "      'rule': {'default': True,\n",
       "       'free_mode': 'country',\n",
       "       'free_shipping_flag': True,\n",
       "       'value': None}}],\n",
       "    'tags': ['self_service_out', 'mandatory_free_shipping'],\n",
       "    'dimensions': None,\n",
       "    'local_pick_up': False,\n",
       "    'free_shipping': True,\n",
       "    'logistic_type': 'fulfillment',\n",
       "    'store_pick_up': False},\n",
       "   'international_delivery_mode': 'none',\n",
       "   'seller_address': {'city': {'id': 'TUxBQkZMTzg5MjFa', 'name': 'Floresta'},\n",
       "    'state': {'id': 'AR-C', 'name': 'Capital Federal'},\n",
       "    'country': {'id': 'AR', 'name': 'Argentina'},\n",
       "    'search_location': {'neighborhood': {'id': 'TUxBQkZMTzg5MjFa',\n",
       "      'name': 'Floresta'},\n",
       "     'city': {'id': 'TUxBQ0NBUGZlZG1sYQ', 'name': 'Capital Federal'},\n",
       "     'state': {'id': 'TUxBUENBUGw3M2E1', 'name': 'Capital Federal'}},\n",
       "    'id': 204361504},\n",
       "   'seller_contact': None,\n",
       "   'location': {},\n",
       "   'coverage_areas': [],\n",
       "   'attributes': [{'id': 'BRAND',\n",
       "     'name': 'Marca',\n",
       "     'value_id': '93504',\n",
       "     'value_name': 'Kanji',\n",
       "     'value_struct': None,\n",
       "     'values': [{'id': '93504', 'name': 'Kanji', 'struct': None}],\n",
       "     'attribute_group_id': 'OTHERS',\n",
       "     'attribute_group_name': 'Otros'},\n",
       "    {'id': 'FUNCTIONS',\n",
       "     'name': 'Funciones',\n",
       "     'value_id': '110765',\n",
       "     'value_name': 'Tostar',\n",
       "     'value_struct': None,\n",
       "     'values': [{'id': '110765', 'name': 'Tostar', 'struct': None}],\n",
       "     'attribute_group_id': 'OTHERS',\n",
       "     'attribute_group_name': 'Otros'},\n",
       "    {'id': 'ITEM_CONDITION',\n",
       "     'name': 'Condición del ítem',\n",
       "     'value_id': '2230284',\n",
       "     'value_name': 'Nuevo',\n",
       "     'value_struct': None,\n",
       "     'values': [{'id': '2230284', 'name': 'Nuevo', 'struct': None}],\n",
       "     'attribute_group_id': 'OTHERS',\n",
       "     'attribute_group_name': 'Otros'},\n",
       "    {'id': 'LEVELS',\n",
       "     'name': 'Cantidad de niveles',\n",
       "     'value_id': None,\n",
       "     'value_name': '6',\n",
       "     'value_struct': None,\n",
       "     'values': [{'id': None, 'name': '6', 'struct': None}],\n",
       "     'attribute_group_id': 'OTHERS',\n",
       "     'attribute_group_name': 'Otros'},\n",
       "    {'id': 'MODEL',\n",
       "     'name': 'Modelo',\n",
       "     'value_id': None,\n",
       "     'value_name': 'KJH-TM1400SEC01',\n",
       "     'value_struct': None,\n",
       "     'values': [{'id': None, 'name': 'KJH-TM1400SEC01', 'struct': None}],\n",
       "     'attribute_group_id': 'OTHERS',\n",
       "     'attribute_group_name': 'Otros'},\n",
       "    {'id': 'SLICE_CAPACITY',\n",
       "     'name': 'Capacidad de rodajas',\n",
       "     'value_id': None,\n",
       "     'value_name': '2',\n",
       "     'value_struct': None,\n",
       "     'values': [{'id': None, 'name': '2', 'struct': None}],\n",
       "     'attribute_group_id': 'OTHERS',\n",
       "     'attribute_group_name': 'Otros'}],\n",
       "   'warnings': [],\n",
       "   'listing_source': '',\n",
       "   'variations': [{'id': 61866443186,\n",
       "     'price': 2899.0,\n",
       "     'attribute_combinations': [{'id': 'COLOR',\n",
       "       'name': 'Color',\n",
       "       'value_id': None,\n",
       "       'value_name': 'Inox',\n",
       "       'value_struct': None,\n",
       "       'values': [{'id': None, 'name': 'Inox', 'struct': None}]}],\n",
       "     'available_quantity': 50,\n",
       "     'sold_quantity': 5,\n",
       "     'sale_terms': [],\n",
       "     'picture_ids': ['815727-MLA43155330951_082020',\n",
       "      '866723-MLA43155357602_082020',\n",
       "      '683938-MLA43155329930_082020',\n",
       "      '886500-MLA43155352652_082020'],\n",
       "     'catalog_product_id': None}],\n",
       "   'status': 'active',\n",
       "   'sub_status': [],\n",
       "   'tags': ['brand_verified',\n",
       "    'deal_of_the_day',\n",
       "    'extended_warranty_eligible',\n",
       "    'good_quality_picture',\n",
       "    'good_quality_thumbnail',\n",
       "    'immediate_payment',\n",
       "    'cart_eligible'],\n",
       "   'warranty': 'Garantía de fábrica: 6 meses',\n",
       "   'catalog_product_id': None,\n",
       "   'domain_id': 'MLA-TOASTERS',\n",
       "   'parent_item_id': None,\n",
       "   'differential_pricing': None,\n",
       "   'deal_ids': [],\n",
       "   'automatic_relist': False,\n",
       "   'date_created': '2020-08-13T12:53:47.000Z',\n",
       "   'last_updated': '2020-11-16T13:05:01.515Z',\n",
       "   'health': 1,\n",
       "   'catalog_listing': False}}]"
      ]
     },
     "execution_count": 5,
     "metadata": {},
     "output_type": "execute_result"
    }
   ],
   "source": [
    "json.loads(response.text)"
   ]
  },
  {
   "cell_type": "code",
   "execution_count": 19,
   "metadata": {},
   "outputs": [],
   "source": []
  },
  {
   "cell_type": "code",
   "execution_count": null,
   "metadata": {},
   "outputs": [],
   "source": []
  }
 ],
 "metadata": {
  "kernelspec": {
   "display_name": "Python 3",
   "language": "python",
   "name": "python3"
  },
  "language_info": {
   "codemirror_mode": {
    "name": "ipython",
    "version": 3
   },
   "file_extension": ".py",
   "mimetype": "text/x-python",
   "name": "python",
   "nbconvert_exporter": "python",
   "pygments_lexer": "ipython3",
   "version": "3.8.2"
  }
 },
 "nbformat": 4,
 "nbformat_minor": 4
}
