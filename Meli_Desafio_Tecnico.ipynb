{
 "cells": [
  {
   "cell_type": "code",
   "execution_count": 446,
   "metadata": {
    "id": "N5Z5Z-_r0skN"
   },
   "outputs": [],
   "source": [
    "import json\n",
    "import pandas as pd\n",
    "import re\n",
    "import requests\n",
    "from pprint import pprint\n",
    "import numpy as np\n",
    "import seaborn as sns\n",
    "import matplotlib.pyplot as plt\n",
    "import warnings\n",
    "import time\n",
    "import collections\n",
    "from selenium_driver import setProxy\n",
    "from gc import collect\n",
    "from sklearn.ensemble import RandomForestRegressor\n",
    "from sklearn.model_selection import train_test_split\n",
    "from unidecode import unidecode\n",
    "\n",
    "warnings.filterwarnings('ignore')\n",
    "pd.set_option('max_colwidth', 300)\n",
    "\n",
    "BASE_PATH = '/content/gdrive/My Drive/Colab Notebooks/Meli2020/Meli_Desafio_Archivos'\n",
    "\n",
    "def flatten(d, parent_key='', sep='_'):\n",
    "    items = []\n",
    "    for k, v in d.items():\n",
    "        new_key = parent_key + sep + k if parent_key else k\n",
    "        if isinstance(v, collections.MutableMapping):\n",
    "            items.extend(flatten(v, new_key, sep=sep).items())\n",
    "        else:\n",
    "            items.append((new_key, v))\n",
    "    return dict(items)"
   ]
  },
  {
   "cell_type": "markdown",
   "metadata": {},
   "source": [
    "Consigna del ejercicio:\n",
    "- análisis exploratorio de las publicaciones con descuento\n",
    "- generar un modelo que genere prediccion de la cantidad de ventas de un articulo"
   ]
  },
  {
   "cell_type": "markdown",
   "metadata": {},
   "source": [
    "Links:\n",
    "- REFERENCIA DE UTILIZACION DE API PARA BUSCAR ITEMS https://developers.mercadolibre.com.ar/es_ar/items-y-busquedas\n",
    "- REFERENCIA DE UTILIZACION DE API PARA CATEGORIAS https://developers.mercadolibre.com.ar/es_ar/categoriza-productos\n"
   ]
  },
  {
   "cell_type": "markdown",
   "metadata": {},
   "source": [
    "Que parametros pueden influeciar las ventas de un producto?\n",
    "- Rating del vendedor\n",
    "- Titulo del articulo\n",
    "- Descripcion del articulo\n",
    "- Precio\n",
    "- Cantidad disponible (al inicio de la publicacion)\n",
    "- Condicion\n",
    "- Porcentaje de descuento (mas siendo que se va a trabajar exclusivamente con articulos en descuento)\n",
    "- Cuotas ?"
   ]
  },
  {
   "cell_type": "code",
   "execution_count": 79,
   "metadata": {},
   "outputs": [],
   "source": [
    "#atributos para trae por articulo \n",
    "\n",
    "item_filter_keys = [\n",
    "    'id',\n",
    "    'seller_id',\n",
    "    'available_quantity',\n",
    "    'tags',\n",
    "    'seller', # revisar\n",
    "    'price',\n",
    "    'original_price',\n",
    "    'installments',\n",
    "    'condition',\n",
    "    'catalog_listing',\n",
    "    'listing_type_id',\n",
    "    'sale_price',\n",
    "    'shipping',\n",
    "    'sold_quantity',\n",
    "    'tags',\n",
    "    'title',\n",
    "    'attributes', #count\n",
    "    'catalog_product_id',\n",
    "    'pictures',\n",
    "    'health'\n",
    "]"
   ]
  },
  {
   "cell_type": "code",
   "execution_count": 61,
   "metadata": {},
   "outputs": [],
   "source": [
    "items_ls = []\n",
    "categorias = ['televisor','celular','monitor','auricular','mouse','teclado','cable','accesorio','silla']\n",
    "marcas = ['samsung','asus','logitech','genius','razer','steel series','apple','lg','acer']\n",
    "\n",
    "with open('items_test.jl','a') as fi:\n",
    "    for categ in categorias:\n",
    "        for marca in marcas:\n",
    "            for off in range(0,1050,50):\n",
    "                response = requests.get('https://api.mercadolibre.com/sites/MLA/search?q={}%{}&limit=50&offset={}'.format(categ,marca,off))\n",
    "                try:\n",
    "                    for result in json.loads(response.text)['results']:\n",
    "                        result_dict = {}\n",
    "                        for fil in item_filter_keys:\n",
    "                            if fil in result.keys():\n",
    "                                result_dict[fil] = result[fil]\n",
    "                            \n",
    "                        fi.write(json.dumps(result_dict)+'\\n')\n",
    "                \n",
    "                except Exception as e:\n",
    "                    print(str(e))\n",
    "                    pass\n",
    "                \n",
    "                time.sleep(2)"
   ]
  },
  {
   "cell_type": "code",
   "execution_count": null,
   "metadata": {},
   "outputs": [],
   "source": [
    "json_dict = []\n",
    "with open('items_test.jl','r') as fi:\n",
    "    for line in fi.readlines():\n",
    "        json_dict.append(json.loads(line))"
   ]
  },
  {
   "cell_type": "code",
   "execution_count": null,
   "metadata": {},
   "outputs": [],
   "source": [
    "print('Cantidad de items obtenidos: ',len(json_dict))\n",
    "\n",
    "count = 0\n",
    "for item in json_dict:\n",
    "    if item['original_price'] != None:\n",
    "        count += 1\n",
    "print('Cantidad de items con descuento: ',count)"
   ]
  },
  {
   "cell_type": "markdown",
   "metadata": {},
   "source": [
    "<h3>No fueron muchos los productos con descuento obtenidos a traves de la API...\n",
    "Plan B<\\h3>"
   ]
  },
  {
   "cell_type": "code",
   "execution_count": null,
   "metadata": {},
   "outputs": [],
   "source": [
    "driver = setProxy(headless=True)\n",
    "cant_paginas = 209\n",
    "with open('discount_items_links2.txt','a') as fi:\n",
    "    for pag in range(1,210):\n",
    "        driver.get('https://www.mercadolibre.com.ar/ofertas?page={}'.format(pag))\n",
    "        for elem in driver.find_elements_by_class_name(prom_class):\n",
    "            fi.write(elem.get_attribute('href')+'\\n')\n",
    "\n",
    "        \n",
    "        time.sleep(2)"
   ]
  },
  {
   "cell_type": "code",
   "execution_count": 6,
   "metadata": {},
   "outputs": [
    {
     "name": "stdout",
     "output_type": "stream",
     "text": [
      "10192\n",
      "10192\n"
     ]
    }
   ],
   "source": [
    "with open('discount_items_links2.txt','r') as fi:\n",
    "    selenium_items_links = fi.readlines()\n",
    "\n",
    "print(len(selenium_items_links))\n",
    "print(len(set(selenium_items_links)))"
   ]
  },
  {
   "cell_type": "code",
   "execution_count": 14,
   "metadata": {},
   "outputs": [],
   "source": [
    "selenium_parsed_links = ['MLA'+re.search(r'.*\\/MLA-(\\d+)-.*',x).group(1) for x in selenium_items_links]"
   ]
  },
  {
   "cell_type": "code",
   "execution_count": 23,
   "metadata": {},
   "outputs": [],
   "source": [
    "with open('discount_items_api_info.jl','a') as fi:\n",
    "    for item in selenium_parsed_links:\n",
    "        response = requests.get('https://api.mercadolibre.com/items?ids={}'.format(item))\n",
    "        fi.write(json.dumps(json.loads(response.text)[0]['body'])+'\\n')"
   ]
  },
  {
   "cell_type": "code",
   "execution_count": 24,
   "metadata": {},
   "outputs": [],
   "source": [
    "items_json_dict = []\n",
    "with open('discount_items_api_info.jl','r') as fi:\n",
    "    for line in fi.readlines():\n",
    "        items_json_dict.append(json.loads(line))"
   ]
  },
  {
   "cell_type": "code",
   "execution_count": 28,
   "metadata": {},
   "outputs": [
    {
     "name": "stdout",
     "output_type": "stream",
     "text": [
      "Ids de vendedores unicos:  1721\n"
     ]
    }
   ],
   "source": [
    "seller_ids = [x['seller_id'] for x in items_json_dict]\n",
    "print('Ids de vendedores unicos: ',len(set(seller_ids)))"
   ]
  },
  {
   "cell_type": "code",
   "execution_count": 32,
   "metadata": {},
   "outputs": [],
   "source": [
    "with open('discount_items_sellers_info.jl','a') as fi:\n",
    "    for seller in set(seller_ids):\n",
    "        fi.write((requests.get('https://api.mercadolibre.com/users/{}'.format(seller)).text)+'\\n')"
   ]
  },
  {
   "cell_type": "markdown",
   "metadata": {},
   "source": [
    "<h3>Obteniendo los ratings y cantidad de reviews de un producto<\\h3>"
   ]
  },
  {
   "cell_type": "code",
   "execution_count": null,
   "metadata": {},
   "outputs": [],
   "source": [
    "clase_descripcion = 'ui-pdp-description__content'\n",
    "\n",
    "with open('discount_items_rating_descrip.txt','a') as fi:\n",
    "    fail_count = 0\n",
    "    for item_link in selenium_items_links[2:]:\n",
    "        driver.get(item_link)\n",
    "        item_id = 'MLA'+re.search(r'.*\\/MLA-(\\d+)-.*',item_link).group(1)\n",
    "        try:\n",
    "            fail_count = 0\n",
    "            rewiew_amount = (driver.find_element_by_class_name('ui-pdp-review__amount').text).split()[0]\n",
    "            parent_rating = driver.find_element_by_class_name('ui-pdp-review__ratings')\n",
    "            rating_stars_ls = [[x.get_attribute('class').split('-')[-1],x.get_attribute('width')] for x in parent_rating.find_elements_by_xpath(\"./*\")]\n",
    "            stars = 0\n",
    "            for stars_ls in rating_stars_ls:\n",
    "                if stars_ls[0] == 'full' and stars_ls[1] == '10': # Representa una estrella completa, si el segundo elemento es 11 la estrella esta vacia\n",
    "                    stars += 1\n",
    "                elif stars_ls[0] == 'half': # Representa una media estrella\n",
    "                    stars += 0.5\n",
    "                else:\n",
    "                    pass\n",
    "            \n",
    "        except:\n",
    "            stars = 0\n",
    "            review_amount = '0'\n",
    "            fail_count += 1\n",
    "        try:\n",
    "            descripcion = (driver.find_element_by_class_name(clase_descripcion).text).replace('\\n',' ')\n",
    "        except:\n",
    "            descripcion = 'None'\n",
    "        fi.write('_\\t\\t_'.join([item_id,str(stars),rewiew_amount,descripcion])+'\\n')\n",
    "        \n",
    "        if fail_count >= 100:\n",
    "            print('Todo mal :c')\n",
    "            break\n",
    "            \n",
    "driver.close()"
   ]
  },
  {
   "cell_type": "markdown",
   "metadata": {},
   "source": [
    "<h3> Juntando los datos </h3>"
   ]
  },
  {
   "cell_type": "code",
   "execution_count": 246,
   "metadata": {},
   "outputs": [],
   "source": [
    "with open('discount_items_api_info.jl','r') as fi:\n",
    "    items_api_info_dict = [json.loads(x) for x in fi.readlines()]"
   ]
  },
  {
   "cell_type": "code",
   "execution_count": 247,
   "metadata": {},
   "outputs": [],
   "source": [
    "filtered_items_api = []\n",
    "for item in items_api_info_dict:\n",
    "    new_item = {}\n",
    "    for filt in item_filter_keys:\n",
    "        if filt in item.keys():\n",
    "            if (filt == 'attributes') or (filt == 'pictures'):\n",
    "                new_item[filt] = len(item[filt])\n",
    "            else:\n",
    "                new_item[filt] = item[filt]\n",
    "    \n",
    "    filtered_items_api.append(new_item)"
   ]
  },
  {
   "cell_type": "code",
   "execution_count": 248,
   "metadata": {},
   "outputs": [],
   "source": [
    "with open('discount_items_rating_descrip.txt','r') as fi:\n",
    "    selenium_items = [x.split('_\\t\\t_') for x in fi.readlines()]"
   ]
  },
  {
   "cell_type": "code",
   "execution_count": 249,
   "metadata": {},
   "outputs": [],
   "source": [
    "with open('discount_items_sellers_info.jl','r') as fi:\n",
    "    items_seller_dict = [json.loads(x) for x in fi.readlines()]"
   ]
  },
  {
   "cell_type": "code",
   "execution_count": 250,
   "metadata": {},
   "outputs": [],
   "source": [
    "seller_filter_ls = [\n",
    "    'id',\n",
    "    'user_type',\n",
    "    'tags',\n",
    "    'points',\n",
    "    'seller_reputation_level_id',\n",
    "    'seller_reputation_power_seller_status',\n",
    "    'seller_reputation_transactions_canceled',\n",
    "    'seller_reputation_transactions_completed',\n",
    "    'seller_reputation_transactions_ratings_negative',\n",
    "    'seller_reputation_transactions_ratings_neutral',\n",
    "    'seller_reputation_transactions_ratings_positive',\n",
    "    'buyer_reputation_tags'\n",
    "]"
   ]
  },
  {
   "cell_type": "code",
   "execution_count": 251,
   "metadata": {},
   "outputs": [],
   "source": [
    "flat_items_seller_dict = [flatten(x) for x in items_seller_dict]\n",
    "filtered_seller_info = []\n",
    "for item in flat_items_seller_dict:\n",
    "    new_item = {}\n",
    "    for filt in seller_filter_ls:\n",
    "        if filt in item.keys():\n",
    "            new_item[filt] = item[filt]\n",
    "    \n",
    "    filtered_seller_info.append(new_item)"
   ]
  },
  {
   "cell_type": "code",
   "execution_count": 252,
   "metadata": {},
   "outputs": [],
   "source": [
    "df_info_api = pd.DataFrame(filtered_items_api)\n",
    "df_descript = pd.DataFrame(selenium_items,columns=['item_id','rating','review_count','description'])\n",
    "df_sellers  = pd.DataFrame(filtered_seller_info)"
   ]
  },
  {
   "cell_type": "code",
   "execution_count": 253,
   "metadata": {},
   "outputs": [
    {
     "data": {
      "text/plain": [
       "1379396"
      ]
     },
     "execution_count": 253,
     "metadata": {},
     "output_type": "execute_result"
    }
   ],
   "source": [
    "# Limpiando un poco la memoria\n",
    "del flat_items_seller_dict, items_seller_dict, selenium_items, filtered_items_api, items_api_info_dict\n",
    "collect()"
   ]
  },
  {
   "cell_type": "code",
   "execution_count": 254,
   "metadata": {},
   "outputs": [
    {
     "name": "stdout",
     "output_type": "stream",
     "text": [
      "[]\n",
      "[]\n",
      "['id', 'tags']\n"
     ]
    }
   ],
   "source": [
    "# Revisando columnas con mismo nombre\n",
    "print([x for x in df_descript.columns if x in df_info_api.columns])\n",
    "print([x for x in df_descript.columns if x in df_sellers.columns])\n",
    "print([x for x in df_info_api.columns if x in df_sellers.columns])"
   ]
  },
  {
   "cell_type": "code",
   "execution_count": 255,
   "metadata": {},
   "outputs": [],
   "source": [
    "df_sellers.rename(columns={'tags':'seller_tags','id':'seller_id'},inplace=True)\n",
    "df_info_api.rename(columns={'id':'item_id'},inplace=True)"
   ]
  },
  {
   "cell_type": "code",
   "execution_count": 256,
   "metadata": {},
   "outputs": [],
   "source": [
    "df_main = pd.merge(df_info_api,df_descript,on='item_id')\n",
    "df_main = pd.merge(df_main,df_sellers,on='seller_id')"
   ]
  },
  {
   "cell_type": "code",
   "execution_count": 257,
   "metadata": {},
   "outputs": [
    {
     "name": "stdout",
     "output_type": "stream",
     "text": [
      "<class 'pandas.core.frame.DataFrame'>\n",
      "Int64Index: 10492 entries, 0 to 10671\n",
      "Data columns (total 30 columns):\n",
      " #   Column                                           Non-Null Count  Dtype  \n",
      "---  ------                                           --------------  -----  \n",
      " 0   item_id                                          10492 non-null  object \n",
      " 1   seller_id                                        10492 non-null  int64  \n",
      " 2   available_quantity                               10492 non-null  int64  \n",
      " 3   tags                                             10492 non-null  object \n",
      " 4   price                                            10492 non-null  float64\n",
      " 5   original_price                                   10492 non-null  float64\n",
      " 6   condition                                        10492 non-null  object \n",
      " 7   catalog_listing                                  10492 non-null  bool   \n",
      " 8   listing_type_id                                  10492 non-null  object \n",
      " 9   shipping                                         10492 non-null  object \n",
      " 10  sold_quantity                                    10492 non-null  int64  \n",
      " 11  title                                            10492 non-null  object \n",
      " 12  attributes                                       10492 non-null  int64  \n",
      " 13  catalog_product_id                               2041 non-null   object \n",
      " 14  pictures                                         10492 non-null  int64  \n",
      " 15  health                                           9711 non-null   float64\n",
      " 16  rating                                           10492 non-null  object \n",
      " 17  review_count                                     10492 non-null  object \n",
      " 18  description                                      10492 non-null  object \n",
      " 19  user_type                                        10492 non-null  object \n",
      " 20  seller_tags                                      10492 non-null  object \n",
      " 21  points                                           10492 non-null  int64  \n",
      " 22  seller_reputation_level_id                       10492 non-null  object \n",
      " 23  seller_reputation_power_seller_status            10306 non-null  object \n",
      " 24  seller_reputation_transactions_canceled          10492 non-null  int64  \n",
      " 25  seller_reputation_transactions_completed         10492 non-null  int64  \n",
      " 26  seller_reputation_transactions_ratings_negative  10492 non-null  float64\n",
      " 27  seller_reputation_transactions_ratings_neutral   10492 non-null  float64\n",
      " 28  seller_reputation_transactions_ratings_positive  10492 non-null  float64\n",
      " 29  buyer_reputation_tags                            10492 non-null  object \n",
      "dtypes: bool(1), float64(6), int64(8), object(15)\n",
      "memory usage: 2.4+ MB\n"
     ]
    }
   ],
   "source": [
    "df_main = df_main[df_main['original_price'].notnull()]\n",
    "df_main.info()"
   ]
  },
  {
   "cell_type": "markdown",
   "metadata": {},
   "source": [
    "<h3> Normalizcion de los datos <\\h3>"
   ]
  },
  {
   "cell_type": "code",
   "execution_count": 258,
   "metadata": {},
   "outputs": [],
   "source": [
    "df_main['rating'] = df_main['rating'].astype('float')\n",
    "df_main['review_count'] = df_main['review_count'].astype('int')\n",
    "df_main['catalog_listing'] = df_main['catalog_listing'].astype('int')"
   ]
  },
  {
   "cell_type": "code",
   "execution_count": 259,
   "metadata": {},
   "outputs": [
    {
     "data": {
      "text/plain": [
       "9909"
      ]
     },
     "execution_count": 259,
     "metadata": {},
     "output_type": "execute_result"
    }
   ],
   "source": [
    "df_main['item_id'].nunique()"
   ]
  },
  {
   "cell_type": "code",
   "execution_count": 260,
   "metadata": {},
   "outputs": [
    {
     "data": {
      "text/plain": [
       "9909"
      ]
     },
     "execution_count": 260,
     "metadata": {},
     "output_type": "execute_result"
    }
   ],
   "source": [
    "df_main = df_main.drop_duplicates(['item_id'])\n",
    "df_main['item_id'].count()"
   ]
  },
  {
   "cell_type": "code",
   "execution_count": 261,
   "metadata": {},
   "outputs": [
    {
     "data": {
      "text/plain": [
       "Index(['item_id', 'seller_id', 'available_quantity', 'tags', 'price',\n",
       "       'original_price', 'condition', 'catalog_listing', 'listing_type_id',\n",
       "       'shipping', 'sold_quantity', 'title', 'attributes',\n",
       "       'catalog_product_id', 'pictures', 'health', 'rating', 'review_count',\n",
       "       'description', 'user_type', 'seller_tags', 'points',\n",
       "       'seller_reputation_level_id', 'seller_reputation_power_seller_status',\n",
       "       'seller_reputation_transactions_canceled',\n",
       "       'seller_reputation_transactions_completed',\n",
       "       'seller_reputation_transactions_ratings_negative',\n",
       "       'seller_reputation_transactions_ratings_neutral',\n",
       "       'seller_reputation_transactions_ratings_positive',\n",
       "       'buyer_reputation_tags'],\n",
       "      dtype='object')"
      ]
     },
     "execution_count": 261,
     "metadata": {},
     "output_type": "execute_result"
    }
   ],
   "source": [
    "df_main.columns"
   ]
  },
  {
   "cell_type": "code",
   "execution_count": 263,
   "metadata": {},
   "outputs": [],
   "source": [
    "map_power_status = {None:0,\"silver\" : 1, \"gold\": 2, \"platinum\": 3}\n",
    "df_main['seller_reputation_power_seller_status'] = df_main['seller_reputation_power_seller_status'].map(map_power_status)"
   ]
  },
  {
   "cell_type": "code",
   "execution_count": 264,
   "metadata": {},
   "outputs": [
    {
     "name": "stdout",
     "output_type": "stream",
     "text": [
      "{'store_pick_up', 'free_methods', 'logistic_type', 'local_pick_up', 'free_shipping', 'mode', 'tags', 'dimensions', 'methods'}\n"
     ]
    }
   ],
   "source": [
    "shipping_ls = [a for x in list(df_main['shipping']) for a in x]\n",
    "print(set(shipping_ls))"
   ]
  },
  {
   "cell_type": "code",
   "execution_count": 265,
   "metadata": {},
   "outputs": [
    {
     "name": "stdout",
     "output_type": "stream",
     "text": [
      "{'supermarket_eligible', 'loyalty_discount_eligible', 'good_quality_thumbnail', 'extended_warranty_eligible', 'poor_quality_thumbnail', 'under_infractions', 'catalog_listing_eligible', 'brand_verified', 'good_quality_picture', 'cart_eligible', 'ahora-12', 'immediate_payment', 'lightning_deal', 'dragged_bids_and_visits', 'deal_of_the_day', 'incomplete_technical_specs', 'poor_quality_picture'}\n"
     ]
    }
   ],
   "source": [
    "tags_ls = [a for x in list(df_main['tags']) for a in x]\n",
    "print(set(tags_ls))"
   ]
  },
  {
   "cell_type": "code",
   "execution_count": 266,
   "metadata": {},
   "outputs": [
    {
     "name": "stdout",
     "output_type": "stream",
     "text": [
      "{'medium_seller_advanced', 'normal', 'from_facebook', 'brand', 'medium_seller', 'large_seller', 'user_info_verified', 'eshop', 'developer', 'mshops'}\n"
     ]
    }
   ],
   "source": [
    "seller_tags_ls = [a for x in list(df_main['seller_tags']) for a in x]\n",
    "print(set(seller_tags_ls))"
   ]
  },
  {
   "cell_type": "code",
   "execution_count": 267,
   "metadata": {},
   "outputs": [],
   "source": [
    "df_main_save = df_main"
   ]
  },
  {
   "cell_type": "code",
   "execution_count": 235,
   "metadata": {},
   "outputs": [],
   "source": [
    "df_main = df_main_save"
   ]
  },
  {
   "cell_type": "code",
   "execution_count": 272,
   "metadata": {},
   "outputs": [],
   "source": [
    "df_main = list_column_expand(df_main,'tags')"
   ]
  },
  {
   "cell_type": "code",
   "execution_count": 273,
   "metadata": {},
   "outputs": [],
   "source": [
    "df_main = list_column_expand(df_main,'seller_tags')\n",
    "df_main = list_column_expand(df_main,'shipping')"
   ]
  },
  {
   "cell_type": "code",
   "execution_count": 166,
   "metadata": {},
   "outputs": [],
   "source": [
    "def list_column_expand(df,col_name):\n",
    "    new_cols_ls = [a for x in list(df[col_name]) for a in x]\n",
    "    for new_col in new_cols_ls:\n",
    "        df[col_name+'_'+new_col] = df[col_name].apply(lambda x: int(bool(new_col in x)))\n",
    "        \n",
    "    return df"
   ]
  },
  {
   "cell_type": "code",
   "execution_count": 274,
   "metadata": {},
   "outputs": [],
   "source": [
    "df_main.drop(columns=['condition','buyer_reputation_tags','catalog_product_id','seller_reputation_level_id'],inplace=True)"
   ]
  },
  {
   "cell_type": "code",
   "execution_count": 275,
   "metadata": {},
   "outputs": [],
   "source": [
    "df_main['title_words'] = df_main['title'].apply(lambda x: len(re.findall(r'[a-zA-Z]{3,}',x)))"
   ]
  },
  {
   "cell_type": "code",
   "execution_count": 276,
   "metadata": {},
   "outputs": [],
   "source": [
    "df_main['description_words'] = df_main['description'].apply(lambda x: len(re.findall(r'[a-zA-Z]{5,}',x)))"
   ]
  },
  {
   "cell_type": "code",
   "execution_count": 240,
   "metadata": {},
   "outputs": [
    {
     "name": "stdout",
     "output_type": "stream",
     "text": [
      "Number of classes in item_id\n",
      "9909\n",
      "--------------------------\n",
      "Number of classes in tags\n",
      "Number of classes in condition\n",
      "1\n",
      "--------------------------\n",
      "Number of classes in listing_type_id\n",
      "2\n",
      "--------------------------\n",
      "Number of classes in shipping\n",
      "Number of classes in title\n",
      "9750\n",
      "--------------------------\n",
      "Number of classes in catalog_product_id\n",
      "1572\n",
      "--------------------------\n",
      "Number of classes in description\n",
      "8670\n",
      "--------------------------\n",
      "Number of classes in seller_tags\n",
      "Number of classes in seller_reputation_level_id\n",
      "4\n",
      "--------------------------\n",
      "Number of classes in buyer_reputation_tags\n"
     ]
    }
   ],
   "source": [
    "cat_cols = df_main.select_dtypes(include='object').columns\n",
    "for col in cat_cols:\n",
    "    try:\n",
    "        print(\"Number of classes in {}\".format(col))\n",
    "        print(df_main[col].nunique())\n",
    "        print('--------------------------')\n",
    "    except:\n",
    "        pass"
   ]
  },
  {
   "cell_type": "code",
   "execution_count": 241,
   "metadata": {},
   "outputs": [
    {
     "data": {
      "text/plain": [
       "Series([], Name: user_type, dtype: int64)"
      ]
     },
     "execution_count": 241,
     "metadata": {},
     "output_type": "execute_result"
    }
   ],
   "source": [
    "df_main['user_type'].value_counts()"
   ]
  },
  {
   "cell_type": "code",
   "execution_count": 269,
   "metadata": {},
   "outputs": [],
   "source": [
    "map_user_type = {'normal':0,\"brand\" : 1}\n",
    "df_main['user_type'] = df_main['user_type'].map(map_user_type)"
   ]
  },
  {
   "cell_type": "code",
   "execution_count": 338,
   "metadata": {},
   "outputs": [],
   "source": [
    "df_main['discount'] = df_main.apply(lambda x: ((x.original_price-x.price)/x.original_price*100),axis=1)"
   ]
  },
  {
   "cell_type": "markdown",
   "metadata": {},
   "source": [
    "<h3> Analisis del dataset <\\h3>"
   ]
  },
  {
   "cell_type": "code",
   "execution_count": 413,
   "metadata": {},
   "outputs": [
    {
     "name": "stdout",
     "output_type": "stream",
     "text": [
      "9541\n",
      "368\n"
     ]
    },
    {
     "data": {
      "image/png": "[encoded data removed]",
      "text/plain": [
       "<Figure size 2160x1440 with 1 Axes>"
      ]
     },
     "metadata": {
      "needs_background": "light"
     },
     "output_type": "display_data"
    }
   ],
   "source": [
    "print(len(df_main[df_main['available_quantity'] < 2000]))\n",
    "print(len(df_main[df_main['available_quantity'] >= 2000]))\n",
    "\n",
    "dfq = df_main[df_main['available_quantity'] < 2000].groupby('available_quantity').count().reset_index()\n",
    "plt.figure(figsize = (30,20))\n",
    "ax = sns.barplot(data=dfq,y='item_id',x='available_quantity')\n",
    "for item in ax.get_xticklabels():\n",
    "    item.set_rotation(90)"
   ]
  },
  {
   "cell_type": "code",
   "execution_count": 414,
   "metadata": {},
   "outputs": [
    {
     "name": "stdout",
     "output_type": "stream",
     "text": [
      "9306\n",
      "603\n"
     ]
    },
    {
     "data": {
      "image/png": "[encoded data removed]",
      "text/plain": [
       "<Figure size 2160x1440 with 1 Axes>"
      ]
     },
     "metadata": {
      "needs_background": "light"
     },
     "output_type": "display_data"
    }
   ],
   "source": [
    "print(len(df_main[df_main['sold_quantity'] < 500]))\n",
    "print(len(df_main[df_main['sold_quantity'] >= 500]))\n",
    "\n",
    "dfq = df_main[df_main['sold_quantity'] < 500].groupby('sold_quantity').count().reset_index()\n",
    "plt.figure(figsize = (30,20))\n",
    "ax = sns.barplot(data=dfq,y='item_id',x='sold_quantity')\n",
    "for item in ax.get_xticklabels():\n",
    "    item.set_rotation(90)"
   ]
  },
  {
   "cell_type": "code",
   "execution_count": 420,
   "metadata": {},
   "outputs": [
    {
     "data": {
      "text/plain": [
       "1       1976\n",
       "50       233\n",
       "500      157\n",
       "250      142\n",
       "2        137\n",
       "        ... \n",
       "1050       1\n",
       "609        1\n",
       "600        1\n",
       "408        1\n",
       "1051       1\n",
       "Name: available_quantity, Length: 73, dtype: int64"
      ]
     },
     "execution_count": 420,
     "metadata": {},
     "output_type": "execute_result"
    }
   ],
   "source": [
    "df_main[df_main['sold_quantity'] < 10]['available_quantity'].value_counts()\n",
    "print('Existe una tendencia a que articulos con pocas ventas tengan poco stock disponible')"
   ]
  },
  {
   "cell_type": "code",
   "execution_count": 512,
   "metadata": {},
   "outputs": [],
   "source": [
    "# Segun la documentacion de la api de ML los valores de sold_quantity y available cuantity son valores prederminados para rangos especificos\n",
    "df_main.loc[((df_main['sold_quantity'] > 5) & (df_main['sold_quantity'] < 26)), 'sold_quantity'] = 5\n",
    "df_main.loc[((df_main['sold_quantity'] >= 26) & (df_main['sold_quantity'] < 51)), 'sold_quantity'] = 25\n",
    "df_main.loc[((df_main['sold_quantity'] >= 51) & (df_main['sold_quantity'] < 101)), 'sold_quantity'] = 50\n",
    "df_main.loc[((df_main['sold_quantity'] >= 101) & (df_main['sold_quantity'] < 151)), 'sold_quantity'] = 100\n",
    "df_main.loc[((df_main['sold_quantity'] >= 151) & (df_main['sold_quantity'] < 201)), 'sold_quantity'] = 150\n",
    "df_main.loc[((df_main['sold_quantity'] >= 201) & (df_main['sold_quantity'] < 251)), 'sold_quantity'] = 200\n",
    "df_main.loc[((df_main['sold_quantity'] >= 251) & (df_main['sold_quantity'] < 501)), 'sold_quantity'] = 250\n",
    "df_main.loc[((df_main['sold_quantity'] >= 501) & (df_main['sold_quantity'] < 5001)), 'sold_quantity'] = 500\n",
    "df_main.loc[((df_main['sold_quantity'] >= 5001) & (df_main['sold_quantity'] < 50001)), 'sold_quantity'] = 5000\n",
    "df_main.loc[((df_main['sold_quantity'] >= 50001) & (df_main['sold_quantity'] < 500001)), 'sold_quantity'] = 50000"
   ]
  },
  {
   "cell_type": "code",
   "execution_count": 513,
   "metadata": {},
   "outputs": [
    {
     "data": {
      "text/plain": [
       "5       4286\n",
       "25      1521\n",
       "50       948\n",
       "250      602\n",
       "200      589\n",
       "100      505\n",
       "150      316\n",
       "0        299\n",
       "4        223\n",
       "3        216\n",
       "500      190\n",
       "1        118\n",
       "2         92\n",
       "5000       4\n",
       "Name: sold_quantity, dtype: int64"
      ]
     },
     "execution_count": 513,
     "metadata": {},
     "output_type": "execute_result"
    }
   ],
   "source": [
    "df_main['sold_quantity'].value_counts()"
   ]
  },
  {
   "cell_type": "code",
   "execution_count": 514,
   "metadata": {},
   "outputs": [],
   "source": [
    "df_main.loc[((df_main['available_quantity'] >= 0) & (df_main['available_quantity'] < 51)), 'available_quantity'] = 1\n",
    "df_main.loc[((df_main['available_quantity'] >= 51) & (df_main['available_quantity'] < 101)), 'available_quantity'] = 50\n",
    "df_main.loc[((df_main['available_quantity'] >= 101) & (df_main['available_quantity'] < 151)), 'available_quantity'] = 100\n",
    "df_main.loc[((df_main['available_quantity'] >= 151) & (df_main['available_quantity'] < 201)), 'available_quantity'] = 150\n",
    "df_main.loc[((df_main['available_quantity'] >= 201) & (df_main['available_quantity'] < 251)), 'available_quantity'] = 200\n",
    "df_main.loc[((df_main['available_quantity'] >= 251) & (df_main['available_quantity'] < 501)), 'available_quantity'] = 250\n",
    "df_main.loc[((df_main['available_quantity'] >= 501) & (df_main['available_quantity'] < 5001)), 'available_quantity'] = 500\n",
    "df_main.loc[((df_main['available_quantity'] >= 5001) & (df_main['available_quantity'] < 50001)), 'available_quantity'] = 5000\n",
    "df_main.loc[((df_main['available_quantity'] >= 50001) & (df_main['available_quantity'] < 100000)), 'available_quantity'] = 50000"
   ]
  },
  {
   "cell_type": "code",
   "execution_count": 459,
   "metadata": {
    "collapsed": true,
    "jupyter": {
     "outputs_hidden": true
    }
   },
   "outputs": [
    {
     "name": "stdout",
     "output_type": "stream",
     "text": [
      "{'Para': 808, 'Con': 780, 'Mujer': 447, 'Led': 386, 'Kit': 340, 'Hombre': 329, 'Pack': 313, 'Set': 278, 'Original': 270, 'Juego': 266, 'Acero': 254, 'Luz': 211, 'Negro': 210, 'Premium': 196, 'Usb': 191, 'Algodon': 190, 'Colores': 184, 'Natura': 184, 'Funda': 165, 'Mesa': 162, 'Moto': 159, 'Talle': 157, 'Zapatillas': 151, 'Unidades': 151, 'Oferta': 143, 'Cuero': 143, 'Blanco': 141, 'Art': 139, 'Soporte': 137, 'Remera': 135, 'Sin': 134, 'Envio': 133, 'Cable': 133, 'Tela': 133, 'Calidad': 131, 'Crema': 130, 'Digital': 129, 'Cocina': 129, 'Bebe': 128, 'Color': 127, 'Combo': 124, 'Reloj': 123, 'Silicona': 120, 'Corta': 119, 'Talles': 117, 'Celular': 116, 'Caja': 116, 'Bluetooth': 115, 'Vidrio': 114, 'Madera': 114, 'Grande': 110, 'Mini': 110, 'Mts': 109, 'Agua': 109, 'Doble': 108, 'Profesional': 107, 'Gratis': 106, 'Casco': 106, 'Tipo': 104, 'Verano': 99, 'Manga': 99, 'Blanca': 97, 'Bano': 96, 'Auto': 96, 'Pro': 94, 'Full': 94, 'Ideal': 93, 'Samsung': 91, 'Protector': 90, 'Piezas': 88, 'Alto': 88, 'Auriculares': 87, 'Ninos': 86, 'Regalo': 86, 'Por': 85, 'Moda': 85, 'Cargador': 85, 'Aro': 84, 'Infantil': 84, 'Goma': 83, 'Plataforma': 83, 'Cuotas': 82, 'Smart': 82, 'Yoga': 82, 'Mate': 82, 'Fitness': 81, 'Super': 81, 'Nena': 81, 'Pantalon': 81, 'Dama': 80, 'Natural': 80, 'Inoxidable': 79, 'Dental': 79, 'Pasta': 78, 'Aluminio': 78, 'iPhone': 78, 'Luces': 77, 'Pelo': 77, 'Jean': 77, 'Solar': 75, 'Varios': 75, 'Sommier': 75, 'Porta': 74, 'Portatil': 73, 'Tapa': 73, 'Short': 73, 'Recargable': 72, 'Sol': 72, 'Black': 71, 'Alta': 71, 'Plegable': 70, 'Gym': 70, 'Organizador': 70, 'Oficial': 69, 'Metal': 69, 'Panales': 68, 'Diseno': 67, 'Bicicleta': 67, 'Control': 67, 'Repuesto': 67, 'Mascara': 66, 'Litros': 66, 'Colchoneta': 65, 'Facial': 65, 'Plastico': 65, 'Sandalias': 65, 'Gel': 64, 'Base': 64, 'Zapatilla': 64, 'Del': 64, 'Metros': 63, 'Azul': 63, 'Pilates': 63, 'Calza': 63, 'Gamer': 63, 'Pared': 62, 'Reforzada': 62, 'Plus': 62, 'Red': 61, 'Lycra': 61, 'mts': 61, 'Banda': 60, 'Lampara': 60, 'Inalambrico': 59, 'Todo': 59, 'Malla': 58, 'Carga': 58, 'Pares': 58, 'Semillas': 58, 'Unas': 57, 'Off': 57, 'Extra': 57, 'Pino': 57, 'Integral': 57, 'Negra': 56, 'Fps': 56, 'Max': 56, 'Alfombra': 56, 'Nino': 55, 'Proteccion': 55, 'Largo': 55, 'Filtro': 55, 'Tripode': 54, 'Modelo': 54, 'Grandes': 54, 'Excelente': 54, 'Deportiva': 54, 'Simmons': 54, 'Accesorios': 53, 'Eva': 53, 'Futbol': 53, 'Top': 53, 'Envios': 52, 'Tiro': 52, 'Salamanca': 52, 'Kaosimport': 52, 'Garantia': 51, 'Entrenamiento': 51, 'Pilas': 51, 'Tira': 51, 'Importada': 51, 'Cubre': 51, 'Palermo': 51, 'Maquina': 50, 'Larga': 50, 'Nuevo': 49, 'Seguridad': 49, 'Unisex': 49, 'Adaptador': 49, 'Campera': 49, 'Mopa': 48, 'Ruedas': 48, 'Perfume': 48, 'Bolsa': 47, 'Rapida': 47, 'Fit': 47, 'Modelos': 47, 'Rollo': 46, 'Gris': 46, 'Microfono': 46, 'Ultra': 46, 'Cinta': 46, 'Exterior': 46, 'Urbana': 46, 'Espanol': 46, 'Bolsas': 46, 'Entrega': 46, 'Masajeador': 45, 'Electrico': 45, 'Automatico': 45, 'Ceramica': 44, 'Xiaomi': 44, 'Reforzado': 44, 'Par': 44, 'Mat': 44, 'Running': 44, 'Plazas': 44, 'Aceite': 44, 'Mochila': 44, 'Biobellus': 44, 'Kaos': 44, 'Notebook': 43, 'Casa': 43, 'Originales': 43, 'Inteligente': 43, 'Jeans': 43, 'Molde': 43, 'Musculosa': 43, 'Faja': 43, 'Hawk': 43, 'Camara': 42, 'Rgb': 42, 'Electrica': 42, 'Camiseta': 42, 'Urbanas': 42, 'Deportivo': 42, 'Promo': 42, 'Pulsera': 42, 'Deportes': 42, 'Pizarra': 42, 'Cartas': 42, 'Delicias': 42, 'Verde': 41, 'Rosa': 41, 'Ropa': 41, 'Termo': 41, 'Ojotas': 41, 'Slim': 41, 'Unid': 41, 'Zapatos': 41, 'Leche': 41, 'Elastizado': 41, 'Mouse': 41, 'Ana': 40, 'Piel': 40, 'Power': 40, 'Decoracion': 40, 'Cepillo': 40, 'Auricular': 40, 'Tressa': 40, 'Armado': 40, 'Escritorio': 40, 'Pijama': 40, 'Pico': 39, 'Piso': 39, 'Anti': 39, 'Vintage': 39, 'Importado': 39, 'Aire': 39, 'Papel': 39, 'Aros': 39, 'Parlante': 38, 'Estuche': 38, 'Cierre': 38, 'Microfibra': 38, 'King': 38, 'Bolso': 38, 'Toallitas': 38, 'Chupin': 38, 'Elastica': 37, 'Teclado': 37, 'Hdmi': 37, 'Pileta': 37, 'Alas': 37, 'Fuente': 37, 'Sandalia': 37, 'Almohada': 37, 'Liso': 37, 'Balde': 37, 'Tattoo': 37, 'Android': 36, 'Barbijo': 36, 'Ram': 36, 'Completo': 36, 'Natacion': 36, 'Crossfit': 36, 'Bici': 36, 'Ekos': 36, 'Polvo': 36, 'Colgante': 36, 'Cajones': 36, 'Gama': 36, 'Medias': 36, 'Vestido': 36, 'Selfie': 35, 'Fria': 35, 'Pelota': 35, 'Motorola': 35, 'Box': 35, 'Matero': 35, 'Pvc': 35, 'Hasta': 35, 'Rapido': 35, 'Eco': 35, 'Panel': 35, 'Grow': 35, 'The': 35, 'Cadena': 35, 'Salsa': 35, 'Memoria': 34, 'Pie': 34, 'Jabon': 34, 'Micro': 34, 'Lts': 34, 'Indoor': 34, 'Bandeja': 34, 'Juguete': 34, 'Bombilla': 34, 'Remeras': 34, 'Escurridor': 34, 'San': 34, 'Pacha': 34, 'Kuyuy': 34, 'Quirurgico': 34, 'Beautyrest': 34, 'Inflable': 33, 'Dispenser': 33, 'Mayor': 33, 'Liquido': 33, 'Retro': 33, 'Zapato': 33, 'Brillo': 33, 'Impermeable': 33, 'Cortina': 33, 'Especial': 33, 'Joystick': 33, 'Cocot': 33, 'Colgate': 33, 'Adulto': 32, 'Lisa': 32, 'Frio': 32, 'Lcd': 32, 'Rojo': 32, 'Manos': 32, 'Colombraro': 32, 'Sport': 32, 'Maceta': 32, 'Coco': 32, 'Eleccion': 32, 'Arroz': 32, 'Marcadores': 32, 'Lentes': 32, 'Laser': 31, 'Wifi': 31, 'Maquillaje': 31, 'Crocs': 31, 'Universal': 31, 'Manual': 31, 'Pesca': 31, 'Pinza': 31, 'Pistola': 31, 'Estampado': 30, 'Mejor': 30, 'Regulable': 30, 'Tablet': 30, 'Liquida': 30, 'Hilo': 30, 'Corporal': 30, 'Didactico': 30, 'Hermetico': 30, 'Spray': 30, 'Limpieza': 30, 'Sumergible': 30, 'Distribuidora': 30, 'Bateria': 29, 'Turbo': 29, 'Inox': 29, 'Libre': 29, 'Anos': 29, 'Rostro': 29, 'Los': 29, 'Corte': 29, 'Interior': 29, 'Puerta': 29, 'Muneca': 29, 'Estampada': 29, 'Peluche': 29, 'Giratorio': 29, 'Femeninas': 29, 'Huggies': 29, 'Placa': 29, 'Moderno': 29, 'Rosario': 29, 'Pampers': 29, 'Piedra': 29, 'Ruibal': 29, 'Educando': 29, 'Precio': 28, 'Linterna': 28, 'Inalambricos': 28, 'Bestway': 28, 'Vaso': 28, 'Ducha': 28, 'Alcohol': 28, 'Circular': 28, 'Redondo': 28, 'Boca': 28, 'Apto': 28, 'Queen': 28, 'Cree': 28, 'Resistente': 28, 'Corto': 28, 'Anteojos': 28, 'Care': 28, 'Tacc': 28, 'Kaorikawaii': 28, 'Protectora': 27, 'Pulgadas': 27, 'Remoto': 27, 'Rollers': 27, 'Barra': 27, 'Cajonera': 27, 'Bebes': 27, 'Estilo': 27, 'Frasco': 27, 'Plaza': 27, 'Simil': 27, 'Vacuno': 27, 'Cafe': 27, 'Tramontina': 27, 'Mod': 27, 'New': 27, 'Modal': 27, 'Formula': 27, 'Boxer': 27, 'Sony': 27, 'Inmediata': 27, 'Lavarropas': 27, 'Tatuar': 27, 'Cactus': 26, 'Toalla': 26, 'Pesas': 26, 'Deco': 26, 'Cabina': 26, 'Tododia': 26, 'Surtidos': 26, 'Estantes': 26, 'Pais': 26, 'Dos': 26, 'Canilla': 26, 'Trapeador': 26, 'Taza': 26, 'Mano': 26, 'Reposteria': 26, 'Discos': 26, 'Carbon': 26, 'Sal': 26, 'Elastizada': 26, 'Botella': 26, 'Bahco': 26, 'Baby': 25, 'Calor': 25, 'Ventilador': 25, 'Hidratante': 25, 'Cabello': 25, 'Clasico': 25, 'Nina': 25, 'Lavable': 25, 'Termico': 25, 'Disco': 25, 'Jogging': 25, 'Cortinas': 25, 'Capsulas': 25, 'Mango': 25, 'Macetas': 25, 'Lisas': 25, 'Transparente': 25, 'Pestanas': 25, 'Especiales': 25, 'Termometro': 24, 'Soga': 24, 'Balanza': 24, 'White': 24, 'Shampoo': 24, 'Termica': 24, 'deg': 24, 'Ancho': 24, 'Fabrica': 24, 'Rompecabezas': 24, 'Dual': 24, 'Gimnasia': 24, 'Vinilo': 24, 'Oro': 24, 'Edu': 24, 'Cervical': 23, 'Mas': 23, 'Gorra': 23, 'Cristal': 23, 'Blue': 23, 'Multiuso': 23, 'Punta': 23, 'Melamina': 23, 'Gusto': 23, 'Nuevos': 23, 'Panos': 23, 'Plata': 23, 'Camisa': 23, 'Muebles': 23, 'Carbono': 23, 'Soquetes': 23, 'Horno': 23, 'Sushi': 23, 'Martin': 23, 'Cama': 22, 'Alarma': 22, 'Metro': 22, 'Metalico': 22, 'Flor': 22, 'Plastica': 22, 'Manija': 22, 'Topper': 22, 'Movil': 22, 'Impacto': 22, 'Estante': 22, 'Perros': 22, 'Gabardina': 22, 'Abrojo': 22, 'Dolce': 22, 'Fibra': 22, 'Cuchillo': 22, 'Rosca': 22, 'amsterdamarg': 22, 'Cruz': 22, 'Marvel': 22, 'Floyd': 22, 'Templado': 22, 'Tijera': 22, 'Hierro': 22, 'Anmat': 21, 'Fotografia': 21, 'Tapaboca': 21, 'Sillon': 21, 'Media': 21, 'Pila': 21, 'Local': 21, 'Triple': 21, 'Amoladora': 21, 'Total': 21, 'Humor': 21, 'Cesto': 21, 'Cubiertos': 21, 'Argentina': 21, 'Pisos': 21, 'Note': 21, 'Nordico': 21, 'Sobre': 21, 'Sonido': 21, 'Lona': 21, 'Ninas': 21, 'Costura': 21, 'Gatos': 21, 'Correa': 21, 'Presion': 21, 'Antiadherente': 21, 'Teflon': 21, 'Ciclista': 21, 'Cola': 21, 'Marca': 21, 'Noga': 21, 'Buzo': 21, 'Rustico': 21, 'Autos': 21, 'Plato': 21, 'Cultivo': 21, 'Reductora': 21, 'Cross': 21, 'Cms': 21, 'Neumatico': 21, 'Halcon': 21, 'Borde': 21, 'Blister': 21, 'Chocolate': 21, 'Libro': 21, 'Almohadon': 21, 'Especias': 21, 'Hojas': 20, 'Tubo': 20, 'Peso': 20, 'Tobilleras': 20, 'Gorro': 20, 'Dorado': 20, 'Play': 20, 'Light': 20, 'Brazo': 20, 'grs': 20, 'Crocband': 20, 'Classic': 20, 'Diametro': 20, 'Techo': 20, 'Unidad': 20, 'Smartwatch': 20, 'Lluvia': 20, 'Todos': 20, 'Griferia': 20, 'Fisico': 20, 'Conjunto': 20, 'Corpino': 20, 'Camisas': 20, 'Centrifugo': 20, 'Suculentas': 20, 'Expansion': 20, 'Tatuajes': 20, 'Seda': 19, 'Billetes': 19, 'Rueda': 19, 'Tobillera': 19, 'Tiraband': 19, 'Guirnalda': 19, 'Acolchado': 19, 'Canasto': 19, 'Juguetes': 19, 'Cajon': 19, 'Havaianas': 19, 'Skate': 19, 'Cuello': 19, 'Candy': 19, 'Macho': 19, 'Tarjeta': 19, 'Toallon': 19, 'Sneaker': 19, 'Cargo': 19, 'Antideslizante': 19, 'Perro': 19, 'Patas': 19, 'Purificador': 19, 'Uruguayo': 19, 'Litro': 19, 'Nordica': 19, 'Moderna': 19, 'Linea': 19, 'Deportivas': 19, 'Web': 19, 'Desmontable': 19, 'Body': 19, 'Abierto': 19, 'Soja': 19, 'Sahumerios': 19, 'Flexible': 19, 'Savage': 19, 'Ball': 19, 'full': 19, 'Pollera': 19, 'Duravit': 19, 'Disney': 19, 'Mama': 19, 'Montreal': 19, 'Hdp': 19, 'Imprimible': 19, 'Recharge': 19, 'Lapiz': 18, 'Gtia': 18, 'Brick': 18, 'Masajes': 18, 'Anillo': 18, 'Limpiador': 18, 'Monocomando': 18, 'Naranja': 18, 'Juegos': 18, 'Limpia': 18, 'Bajo': 18, 'Animales': 18, 'Secador': 18, 'Placard': 18, 'Hilos': 18, 'Cubrecama': 18, 'Boton': 18, 'Ajustable': 18, 'Esculpidas': 18, 'Bosch': 18, 'Mayorista': 18, 'Sandisk': 18, 'Celulares': 18, 'Lightning': 18, 'Linga': 18, 'Llave': 18, 'Bombacha': 18, 'Watts': 18, 'Lampazo': 18, 'Sabor': 18, 'iPad': 18, 'Playking': 18, 'Puzzle': 18, 'Lidherma': 18, 'Inalambrica': 17, 'Calida': 17, 'Sensor': 17, 'Band': 17, 'Rodillo': 17, 'Guantes': 17, 'Paleta': 17, 'Fija': 17, 'Pata': 17, 'Roja': 17, 'Femenino': 17, 'Pimienta': 17, 'Urbano': 17, 'Flores': 17, 'Tabla': 17, 'Bomba': 17, 'Plug': 17, 'Audio': 17, 'Rebatible': 17, 'Encastrable': 17, 'Barba': 17, 'Extreme': 17, 'Radio': 17, 'Oficina': 17, 'Living': 17, 'Whisky': 17, 'Mantel': 17, 'Corazon': 17, 'Gigante': 17, 'Hot': 17, 'Watch': 17, 'Roller': 17, 'Cartucho': 17, 'Pin': 17, 'Galaxy': 17, 'Elastico': 17, 'Negros': 17, 'Entalladas': 17, 'Vestir': 17, 'Blusa': 17, 'Esponja': 17, 'Babucha': 17, 'Filtros': 17, 'Elite': 17, 'Billetera': 17, 'Peluqueria': 17, 'Comoda': 17, 'Armada': 17, 'Silicone': 17, 'Case': 17, 'Chapa': 17, 'Modeladora': 17, 'Cerveza': 17, 'Profesionales': 17, 'Armar': 17, 'Emulsion': 17, 'Dije': 17, 'Tagger': 17, 'Dagua': 17, 'India': 17, 'Beyblade': 17, 'Cotillon': 17, 'Lumbar': 16, 'Extensible': 16, 'Cromado': 16, 'Navidad': 16, 'Sun': 16, 'Pava': 16, 'Respaldo': 16, 'Planchita': 16, 'Angular': 16, 'Cuerpo': 16, 'Puertas': 16, 'lts': 16, 'Fila': 16, 'Nueva': 16, 'Manguera': 16, 'Utp': 16, 'Directo': 16, 'Invisible': 16, 'Spot': 16, 'Magnetico': 16, 'Pzas': 16, 'Gas': 16, 'Silla': 16, 'Jardin': 16, 'Mimbre': 16, 'Hotel': 16, 'Olla': 16, 'Sarten': 16, 'Desayuno': 16, 'Invierno': 16, 'Cover': 16, 'Macizo': 16, 'Stanley': 16, 'Convertidor': 16, 'Rack': 16, 'Ndeg': 16, 'Harry': 16, 'Potter': 16, 'Torta': 16, 'Just': 16, 'Puro': 16, 'Acople': 16, 'Olympikus': 16, 'Recien': 16, 'Nacido': 16, 'Morley': 16, 'Bolsillo': 16, 'Ojota': 16, 'Completa': 16, 'Once': 16, 'Esmaltes': 16, 'Soft': 16, 'Botones': 16, 'Guante': 16, 'Palo': 16, 'Ganchos': 16, 'Bloques': 16, 'Reutilizable': 16, 'Tambien': 16, 'Bengalina': 16, 'Boyero': 16, 'Disenos': 16, 'Madre': 16, 'Disfraz': 16, 'Bandas': 15, 'Latex': 15, 'Continua': 15, 'Celeste': 15, 'Kids': 15, 'Velas': 15, 'Abdominales': 15, 'Baja': 15, 'Medio': 15, 'Mata': 15, 'Brochas': 15, 'Cajas': 15, 'Sensitive': 15, 'Tension': 15, 'Acrilico': 15, 'Vino': 15, 'Chico': 15, 'Espejo': 15, 'Frascos': 15, 'Inflador': 15, 'Colgar': 15, 'Grs': 15, 'ALG': 15, 'Oso': 15, 'Sec': 15, 'Pura': 15, 'Aerosol': 15, 'Personajes': 15, 'Tijeras': 15, 'Chifonier': 15, 'Grabado': 15, 'Sellado': 15, 'Edicion': 15, 'Botas': 15, 'Pirelli': 15, 'Cortas': 15, 'Serie': 15, 'Locion': 15, 'Fertilizante': 15, 'Funcional': 15, 'Glitter': 15, 'Mac': 15, 'Puntas': 15, 'Livianas': 15, 'Confort': 15, 'Exquisita': 15, 'Zocalos': 15, 'Tinta': 15, 'Basica': 15, 'Espatula': 14, 'Que': 14, 'Hogar': 14, 'Cinturon': 14, 'Antiparras': 14, 'Jabones': 14, 'Oleo': 14, 'Vainilla': 14, 'Botin': 14, 'Webcam': 14, 'Motor': 14, 'Trabajo': 14, 'Pan': 14, 'Regulador': 14, 'Nene': 14, 'Industrial': 14, 'Alisador': 14, 'Mesada': 14, 'Superior': 14, 'Stock': 14, 'Potencia': 14, 'Liviana': 14, 'Indumentaria': 14, 'Mecanico': 14, 'Sabana': 14, 'Jersey': 14, 'Collar': 14, 'Barral': 14, 'Velador': 14, 'Iman': 14, 'Carne': 14, 'Recta': 14, 'Nylon': 14, 'Clasica': 14, 'Chaleco': 14, 'Tubos': 14, 'Tws': 14, 'Tienda': 14, 'Rigida': 14, 'Display': 14, 'Peinado': 14, 'Dia': 14, 'Capucha': 14, 'Cuadro': 14, 'Pintar': 14, 'Piedras': 14, 'Stick': 14, 'Honda': 14, 'Ciclismo': 14, 'Lady': 14, 'Coat': 14, 'Fundas': 14, 'Marcador': 14, 'Flora': 14, 'Medidor': 14, 'Rolling': 14, 'Vincha': 14, 'Brazalete': 14, 'Logo': 14, 'Descartables': 14, 'Logitech': 14, 'Agujas': 14, 'Curso': 14, 'Anteojo': 14, 'Giotto': 14, 'Antex': 14, 'Robert': 14, 'Roble': 14, 'Kreatex': 14, 'Asiento': 13, 'Espalda': 13, 'Cuadros': 13, 'Leds': 13, 'Musica': 13, 'Detector': 13, 'Falsos': 13, 'Reforzadas': 13, 'Taco': 13, 'Mancuernas': 13, 'One': 13, 'Dinero': 13, 'Moscas': 13, 'Redonda': 13, 'Kaiak': 13, 'Exfoliante': 13, 'Lote': 13, 'Pre': 13, 'Rectangular': 13, 'Violeta': 13, 'Bermuda': 13, 'Impresora': 13, 'Plancha': 13, 'Rulemanes': 13, 'Sabanas': 13, 'Parrilla': 13, 'Fondo': 13, 'Out': 13, 'Aplique': 13, 'Normal': 13, 'Adultos': 13, 'Lateral': 13, 'Pendrive': 13, 'Redmi': 13, 'Pop': 13, 'Core': 13, 'Manicuria': 13, 'Esmalte': 13, 'Sanitaria': 13, 'Arana': 13, 'Gabinete': 13, 'Cordones': 13, 'Iluminacion': 13, 'Fijo': 13, 'Mic': 13, 'Mueble': 13, 'Biblioteca': 13, 'Roma': 13, 'Engomada': 13, 'Clip': 13, 'Moldes': 13, 'Facu': 13, 'Eyelit': 13, 'Porcelana': 13, 'Stork': 13, 'Avene': 13, 'Roche': 13, 'posay': 13, 'Germinadora': 13, 'Uni': 13, 'Fideos': 13, 'Waterproof': 13, 'Pincel': 13, 'Matic': 13, 'Previa': 13, 'Destornillador': 13, 'Hoja': 13, 'Piercing': 13, 'Comodas': 13, 'Nenas': 13, 'Mono': 13, 'Exquisitas': 13, 'Semilla': 13, 'Badia': 13, 'Rollos': 13, 'Remeron': 13, 'Ethernet': 13, 'Incluye': 13, 'Cera': 13, 'Peon': 13, 'John': 13, 'Amd': 12, 'Llaves': 12, 'Aspiradora': 12, 'Air': 12, 'Secado': 12, 'Calido': 12, 'Colchon': 12, 'Butaca': 12, 'Grifo': 12, 'Cafetera': 12, 'Titular': 12, 'Basquet': 12, 'Pink': 12, 'Viscoelastica': 12, 'Porton': 12, 'Cat': 12, 'Xbox': 12, 'Engomado': 12, 'Mascarilla': 12, 'Repisa': 12, 'Nacional': 12, 'Cortadora': 12, 'Arduino': 12, 'Las': 12, 'Philips': 12, 'Tiras': 12, 'Tachas': 12, 'Nido': 12, 'Spa': 12, 'Aromaterapia': 12, 'Receptor': 12, 'Size': 12, 'Lana': 12, 'Resistencia': 12, 'Reel': 12, 'Maciza': 12, 'Marco': 12, 'Entallada': 12, 'Mom': 12, 'Series': 12, 'Dormitorio': 12, 'Lente': 12, 'Economicos': 12, 'Camionero': 12, 'Loro': 12, 'Artesanal': 12, 'Personalizado': 12, 'Apple': 12, 'Bar': 12, 'Jarra': 12, 'Pulseras': 12, 'Baul': 12, 'Traba': 12, 'Cubierta': 12, 'Mangas': 12, 'Delta': 12, 'Fluo': 12, 'polgraf': 12, 'Xxl': 12, 'Encaje': 12, 'Slip': 12, 'Camping': 12, 'Vasos': 12, 'Anthelios': 12, 'Pomo': 12, 'Repuestos': 12, 'Elgydium': 12, 'Mercado': 12, 'Lion': 12, 'Circus': 12, 'Dientes': 12, 'Cartel': 12, 'Maternal': 12, 'Miro': 12, 'Mani': 12, 'Temporada': 12, 'lycra': 12, 'Fina': 12, 'Sirena': 12, 'Standar': 12, 'Hembra': 12, 'Luar': 12, 'Sagrada': 12, 'Categoria': 12, 'Planta': 12, 'Donde': 12, 'Puedas': 12, 'Zona': 12, 'Masa': 12, 'Variada': 12, 'semillas': 12, 'Caseros': 12, 'Backcare': 12, 'Firm': 12, 'Tapas': 11, 'Uno': 11, 'Ssd': 11, 'Rodillos': 11, 'Infrarrojo': 11, 'Iluminador': 11, 'Patineta': 11, 'Video': 11, 'Fotos': 11, 'Clean': 11, 'Pesa': 11, 'Hard': 11, 'Lamparas': 11, 'Estrella': 11, 'Cumple': 11, 'Rigido': 11, 'Dedo': 11, 'Trasera': 11, 'Mosquitos': 11, 'Booster': 11, 'Saltar': 11, 'Masculino': 11, 'Surtido': 11, 'Vegetal': 11, 'Estanteria': 11, 'Flash': 11, 'Reversible': 11, 'Lavanda': 11, 'Espuma': 11, 'Articulado': 11, 'Primera': 11, 'Embutir': 11, 'Estereo': 11, 'Bolsillos': 11, 'Posiciones': 11, 'Felpa': 11, 'Ecocuero': 11, 'Libres': 11, 'Reutilizables': 11, 'Lite': 11, 'Metalica': 11, 'Blanqueador': 11, 'Docena': 11, 'Elastizados': 11, 'Juvenil': 11, 'Calzas': 11, 'Estampadas': 11, 'Wireless': 11, 'Pantallas': 11, 'Maletin': 11, 'Large': 11, 'Capa': 11, 'Bontus': 11, 'Artificial': 11, 'Ropero': 11, 'Volare': 11, 'Calabaza': 11, 'Avengers': 11, 'Bifera': 11, 'Monopatin': 11, 'Barbijos': 11, 'Rejilla': 11, 'Electronica': 11, 'Guard': 11, 'Corrector': 11, 'Road': 11, 'Dufour': 11, 'Vedetina': 11, 'Colaless': 11, 'Levanta': 11, 'Reparacion': 11, 'Maybelline': 11, 'Zoom': 11, 'Sanitizante': 11, 'Floracion': 11, 'Geotextil': 11, 'Sombrero': 11, 'Playa': 11, 'Jaguar': 11, 'Muy': 11, 'Pasabahce': 11, 'Centrifuga': 11, 'Yakka': 11, 'Gran': 11, 'Cordon': 11, 'Chino': 11, 'Hindu': 11, 'Cartera': 11, 'Palazzo': 11, 'Mezcla': 11, 'Lee': 11, 'Kum': 11, 'Kee': 11, 'Organico': 11, 'Chica': 11, 'Modelador': 11, 'Lenceria': 11, 'Oversize': 11, 'Jenga': 11, 'Acido': 11, 'Hialuronico': 11, 'Modista': 11, 'Tupperware': 11, 'Servicegym': 11, 'Quilt': 11, 'Kroner': 11, 'Gaveta': 11, 'Monitor': 10, 'Gadnic': 10, 'Coser': 10, 'Italia': 10, 'Cuadrado': 10, 'Camaras': 10, 'Tester': 10, 'Chicos': 10, 'Herramientas': 10, 'Kilos': 10, 'Mancuerna': 10, 'Duracion': 10, 'Ladrillo': 10, 'Broches': 10, 'Globo': 10, 'Neoprene': 10, 'Home': 10, 'Professional': 10, 'Centro': 10, 'Plant': 10, 'Limon': 10, 'Mediano': 10, 'Tenis': 10, 'Pelotas': 10, 'Tropical': 10, 'Racing': 10, 'Ring': 10, 'Pala': 10, 'Cubo': 10, 'Fabricantes': 10, 'Flotante': 10, 'Canastos': 10, 'Vestidos': 10, 'Sublimar': 10, 'Sale': 10, 'Dosificador': 10, 'Lata': 10, 'Ear': 10, 'Puertos': 10, 'Repelente': 10, 'Picador': 10, 'Promocion': 10, 'Bikini': 10, 'Plasticas': 10, 'Xxg': 10, 'Traje': 10, 'Kgs': 10, 'Piernas': 10, 'Gol': 10, 'Pantalla': 10, 'Variedades': 10, 'Fibrana': 10, 'Yongnuo': 10, 'Pinceles': 10, 'Tazas': 10, 'Banco': 10, 'Palitos': 10, 'Bambu': 10, 'Equipaje': 10, 'cmx': 10, 'Heladera': 10, 'Rayado': 10, 'Puntilla': 10, 'Oximetro': 10, 'Sonic': 10, 'Carrito': 10, 'Esencia': 10, 'Dina': 10, 'Gum': 10, 'Johnson': 10, 'Fragancia': 10, 'Depilatoria': 10, 'Suave': 10, 'Protect': 10, 'Dulce': 10, 'Reductor': 10, 'Namaste': 10, 'Solero': 10, 'Bordado': 10, 'Salida': 10, 'Tanque': 10, 'Conector': 10, 'Cara': 10, 'Virgen': 10, 'Optico': 10, 'Club': 10, 'Hotsale': 10, 'Sneakers': 10, 'Manta': 10, 'Boxeo': 10, 'Delantera': 10, 'Punteras': 10, 'Adhesivo': 10, 'Agenda': 10, 'Fundicion': 10, 'Numeros': 10, 'Colageno': 10, 'Solo': 10, 'Toys': 10, 'Spiderman': 10, 'Calzado': 10, 'River': 10, 'Ecommerce': 10, 'Yenga': 10, 'Figura': 10, 'Cejas': 10, 'Chomba': 10, 'Bingo': 10, 'Huerta': 10, 'Sahumo': 10, 'Lego': 10, 'Zueco': 10, 'Amarelo': 10, 'Egames': 10, 'Extensor': 10, 'Etiquetas': 10, 'Kreker': 10, 'Argolla': 10, 'Elasticas': 9, 'Descartable': 9, 'Negras': 9, 'Duo': 9, 'Tender': 9, 'Varillas': 9, 'Pzs': 9, 'Membrana': 9, 'Velcro': 9, 'Bolitas': 9, 'Letras': 9, 'Cortos': 9, 'Patines': 9, 'Vertical': 9, 'Correr': 9, 'Nespresso': 9, 'Toy': 9, 'Seco': 9, 'Noche': 9, 'Seca': 9, 'Basura': 9, 'Multicolor': 9, 'Apilable': 9, 'Protecciones': 9, 'Joma': 9, 'Mexico': 9, 'Neon': 9, 'Licencia': 9, 'Frozen': 9, 'For': 9, 'Cabo': 9, 'Morral': 9, 'Espacio': 9, 'Mdf': 9, 'Blancos': 9, 'Reflector': 9, 'Wahl': 9, 'Italy': 9, 'Semi': 9, 'Philco': 9, 'Bota': 9, 'Sueco': 9, 'Cuerina': 9, 'Vitamina': 9, 'Visera': 9, 'Potente': 9, 'Auxiliar': 9, 'Colador': 9, 'Postura': 9, 'Pizzera': 9, 'Lisos': 9, 'Edredon': 9, 'Textil': 9, 'Cana': 9, 'Removedor': 9, 'Sim': 9, 'Energy': 9, 'Cromada': 9, 'Fluor': 9, 'Peugeot': 9, 'Calendario': 9, 'Estimulador': 9, 'Muscular': 9, 'Semipermanente': 9, 'Grano': 9, 'Eje': 9, 'Mopas': 9, 'Cuadrada': 9, 'Edition': 9, 'Comedor': 9, 'Valija': 9, 'Canon': 9, 'Afeitar': 9, 'Escandinavo': 9, 'Ozonizador': 9, 'Bidet': 9, 'Express': 9, 'Exclusivo': 9, 'Tonos': 9, 'Sierra': 9, 'Corset': 9, 'Electronico': 9, 'Golpes': 9, 'Optica': 9, 'Defensa': 9, 'Gluten': 9, 'Escote': 9, 'Relax': 9, 'Lavavajillas': 9, 'Fresh': 9, 'Mead': 9, 'Fino': 9, 'Nutricia': 9, 'Bago': 9, 'Eucerin': 9, 'Magica': 9, 'Insecticida': 9, 'Pancha': 9, 'Plateado': 9, 'Vela': 9, 'Fuerte': 9, 'Sistema': 9, 'Maxi': 9, 'Almohadilla': 9, 'Practico': 9, 'Perchas': 9, 'Paw': 9, 'Patrol': 9, 'Munecos': 9, 'Touch': 9, 'Trekking': 9, 'Macbook': 9, 'Lino': 9, 'Tactico': 9, 'Balines': 9, 'Pubg': 9, 'Cod': 9, 'Metrica': 9, 'Accesorio': 9, 'Datos': 9, 'Real': 9, 'Gomon': 9, 'Fiesta': 9, 'Dibujo': 9, 'Recto': 9, 'Polietileno': 9, 'Canela': 9, 'Kosher': 9, 'Neutro': 9, 'Suerte': 9, 'Shorts': 9, 'Gps': 9, 'Candado': 9, 'Zipper': 9, 'Capitan': 9, 'Embalaje': 9, 'Commerce': 9, 'Drean': 9, 'Rellenos': 9, 'Granja': 9, 'Serum': 9, 'Rinonera': 9, 'Plasticos': 9, 'Hombres': 9, 'Cofia': 9, 'Hermanos': 9, 'Encastre': 9, 'Incienso': 9, 'Resina': 9, 'Men': 9, 'Polipapel': 9, 'Tda': 9, 'Edge': 9, 'Gafas': 9, 'Caliber': 9, 'Rca': 9, 'Buro': 9, 'Monedas': 9, 'Registradora': 9, 'Yaxun': 9, 'Guest': 9, 'Supreme': 9, 'Tags': 9, 'Vinnic': 9, 'Film': 9, 'Kevingston': 9, 'Kvn': 9, 'Origen': 8, 'Scooter': 8, 'Proyector': 8, 'Win': 8, 'Cromo': 8, 'Sillas': 8, 'Perchero': 8, 'Esferodinamia': 8, 'Importadas': 8, 'Timer': 8, 'Precision': 8, 'Silencioso': 8, 'Spinning': 8, 'Arg': 8, 'Tradicional': 8, 'Story': 8, 'Maracuja': 8, 'Frutas': 8, 'Una': 8, 'Ojos': 8, 'Despensero': 8, 'Sopapa': 8, 'Brasil': 8, 'Alternativa': 8, 'Jogger': 8, 'Tigre': 8, 'Rio': 8, 'Medidas': 8, 'Extractor': 8, 'Multifuncion': 8, 'Tok': 8, 'Antiparra': 8, 'Copa': 8, 'Economico': 8, 'Ejercicios': 8, 'Antigolpes': 8, 'Souvenir': 8, 'Formas': 8, 'Libros': 8, 'Dicroica': 8, 'Cut': 8, 'Nariz': 8, 'Decorativo': 8, 'Broche': 8, 'Env': 8, 'Ultracomb': 8, 'Hornallas': 8, 'Visor': 8, 'Crudo': 8, 'Batista': 8, 'Hotelera': 8, 'Sublimacion': 8, 'Acondicionador': 8, 'Rallador': 8, 'Cano': 8, 'Estrellas': 8, 'Luna': 8, 'Gelificadas': 8, 'Infusor': 8, 'Temperatura': 8, 'Plana': 8, 'Capri': 8, 'Lima': 8, 'Active': 8, 'Lina': 8, 'Bosque': 8, 'Gen': 8, 'Interno': 8, 'Flip': 8, 'Picos': 8, 'Entallado': 8, 'Molido': 8, 'Calce': 8, 'Casual': 8, 'Alimentos': 8, 'Infanti': 8, 'Nikon': 8, 'Navaja': 8, 'Estampadora': 8, 'Suzika': 8, 'Humidificador': 8, 'Ultrasonico': 8, 'Escobero': 8, 'Ionizador': 8, 'Especiero': 8, 'Caliente': 8, 'Star': 8, 'Flex': 8, 'Polywood': 8, 'Dynamic': 8, 'Cacerola': 8, 'Jack': 8, 'Taladro': 8, 'Neopren': 8, 'Cloro': 8, 'Tactica': 8, 'Cuchara': 8, 'Yamaha': 8, 'Ira': 8, 'Standard': 8, 'Horng': 8, 'City': 8, 'Motocross': 8, 'Enduro': 8, 'Harina': 8, 'Simple': 8, 'Vertigo': 8, 'Point': 8, 'Cumpleanos': 8, 'Varon': 8, 'Tanga': 8, 'Entera': 8, 'Asa': 8, 'Aprox': 8, 'Accion': 8, 'Fluido': 8, 'Siempre': 8, 'Dermaglos': 8, 'Nosotras': 8, 'Menta': 8, 'Always': 8, 'Barbie': 8, 'Vichy': 8, 'Soleil': 8, 'Tutti': 8, 'Powder': 8, 'Tierra': 8, 'Mix': 8, 'Trimix': 8, 'Mascotas': 8, 'art': 8, 'Elegante': 8, 'Santo': 8, 'Made': 8, 'Sesamo': 8, 'Papa': 8, 'Rayada': 8, 'Polo': 8, 'Nag': 8, 'Champa': 8, 'Playstation': 8, 'Munecas': 8, 'Muneco': 8, 'Depiladora': 8, 'Montana': 8, 'Hub': 8, 'Knock': 8, 'Unicornio': 8, 'Generala': 8, 'Cuchillos': 8, 'Himalaya': 8, 'Wallet': 8, 'Velocidad': 8, 'Gatillos': 8, 'Soldador': 8, 'Toyota': 8, 'Zunga': 8, 'Relleno': 8, 'Bajas': 8, 'Ajuar': 8, 'Antigolpe': 8, 'Bordada': 8, 'Proteina': 8, 'Vegan': 8, 'Tensiometro': 8, 'Zuncho': 8, 'Reemplazo': 8, 'Porotos': 8, 'Granel': 8, 'Primavera': 8, 'Macetero': 8, 'Montessori': 8, 'Amigos': 8, 'Ingenio': 8, 'Enterito': 8, 'Compras': 8, 'Microondas': 8, 'Parches': 8, 'Precintos': 8, 'Lujo': 8, 'Girl': 8, 'Primer': 8, 'Puntera': 8, 'Carteles': 8, 'Tortera': 8, 'Tripgrow': 8, 'Capturadora': 8, 'Sonajero': 8, 'Glass': 8, 'Pump': 8, 'Estimulacion': 8, 'Princesa': 8, 'Peabody': 8, 'Tetera': 8, 'Block': 8, 'Pastel': 8, 'Style': 8, 'Bandolera': 8, 'Meet': 8, 'Higienico': 8, 'Halloween': 8, 'Strass': 8, 'Plantillas': 8, 'Atomik': 8, 'Sellados': 8, 'Resinado': 8, 'Cronos': 8, 'Guiller': 8, 'Zenon': 8, 'Murata': 8, 'Deepsleep': 8, 'Worldclass': 8, 'Pakistan': 8, 'Esdj': 8, 'Cuna': 7, 'Ejercicio': 7, 'Irrigador': 7, 'Ano': 7, 'Tiktok': 7, 'Gancho': 7, 'Tpe': 7, 'Medium': 7, 'Rolo': 7, 'Hockey': 7, 'Lanzamiento': 7, 'Inverter': 7, 'Feliz': 7, 'Niveles': 7, 'Randers': 7, 'Gamma': 7, 'Amp': 7, 'Bgh': 7, 'Eau': 7, 'Productos': 7, 'Castana': 7, 'Hidratacion': 7, 'Contenedor': 7, 'Torre': 7, 'Paris': 7, 'Banera': 7, 'Gold': 7, 'Botita': 7, 'Green': 7, 'Little': 7, 'Termotanque': 7, 'Seg': 7, 'Tik': 7, 'Burbuja': 7, 'Bala': 7, 'Amarillo': 7, 'Frizz': 7, 'Usa': 7, 'Lector': 7, 'Escorial': 7, 'Personal': 7, 'Rosas': 7, 'Tapiceria': 7, 'Hotelero': 7, 'Silver': 7, 'Tapon': 7, 'Beige': 7, 'Galletitas': 7, 'Destapador': 7, 'Cortador': 7, 'Verduras': 7, 'Tara': 7, 'Insectos': 7, 'Asadera': 7, 'Gramos': 7, 'Gruesa': 7, 'Xxxl': 7, 'Abec': 7, 'Patin': 7, 'Cables': 7, 'Pintura': 7, 'Texturado': 7, 'Tararira': 7, 'Bidon': 7, 'Head': 7, 'Duchador': 7, 'Humedas': 7, 'Kilo': 7, 'Autoadhesiva': 7, 'mah': 7, 'Rainbow': 7, 'Dominadas': 7, 'Caucho': 7, 'Manijas': 7, 'Puntos': 7, 'Diamante': 7, 'Higiene': 7, 'Perfecto': 7, 'Uniforme': 7, 'Gaming': 7, 'Elastizadas': 7, 'Paraguas': 7, 'Sublimadora': 7, 'Enredadera': 7, 'Guias': 7, 'Pes': 7, 'Wars': 7, 'Switch': 7, 'Game': 7, 'Botinero': 7, 'Gastronomica': 7, 'Efecto': 7, 'Alargador': 7, 'Almendras': 7, 'Free': 7, 'Deportivos': 7, 'Invisibles': 7, 'Elemento': 7, 'Jacquard': 7, 'Volados': 7, 'Aromatizador': 7, 'Saturometro': 7, 'Ecologico': 7, 'Gerade': 7, 'Profunda': 7, 'Interdental': 7, 'Oral': 7, 'Sancor': 7, 'Mint': 7, 'Ellos': 7, 'Sensible': 7, 'Semipermanentes': 7, 'Corcho': 7, 'Crop': 7, 'Crecimiento': 7, 'Humedad': 7, 'Mad': 7, 'Rocket': 7, 'Prof': 7, 'Entrada': 7, 'Boya': 7, 'Siliphos': 7, 'Laqueado': 7, 'Liquidos': 7, 'Analogico': 7, 'Rociador': 7, 'Manopla': 7, 'Calzoncillo': 7, 'Sahumerio': 7, 'Golden': 7, 'Domo': 7, 'Copon': 7, 'Chef': 7, 'Riego': 7, 'Figuras': 7, 'Junior': 7, 'Nuevas': 7, 'Pez': 7, 'Giratoria': 7, 'Estampados': 7, 'Plano': 7, 'Chenille': 7, 'Mobile': 7, 'Fleje': 7, 'Transmisor': 7, 'Gafa': 7, 'Quita': 7, 'Fast': 7, 'Jeringa': 7, 'Polea': 7, 'China': 7, 'Heroes': 7, 'Step': 7, 'Conversor': 7, 'Oxford': 7, 'Sublimada': 7, 'Felpudo': 7, 'Vanitory': 7, 'Quesera': 7, 'Hamaca': 7, 'Sazon': 7, 'Oliva': 7, 'Lyc': 7, 'Hasbro': 7, 'Domino': 7, 'Electrodos': 7, 'Uso': 7, 'Llavero': 7, 'Ios': 7, 'Ambar': 7, 'Lineas': 7, 'Aisladores': 7, 'Plate': 7, 'Speed': 7, 'Familiar': 7, 'Telefono': 7, 'Gato': 7, 'Torno': 7, 'Carro': 7, 'Treemix': 7, 'Cinto': 7, 'Poco': 7, 'Salvavidas': 7, 'Abierta': 7, 'Lapices': 7, 'Sobres': 7, 'Blocky': 7, 'Bijou': 7, 'Antena': 7, 'Pedal': 7, 'Minimalista': 7, 'Bolson': 7, 'Policia': 7, 'Grip': 7, 'Cavatini': 7, 'Carpeta': 7, 'Ombu': 7, 'Previas': 7, 'Sor': 7, 'Tintura': 7, 'Lanus': 7, 'Bandera': 7, 'Intelligent': 7, 'Dora': 7, 'Ghy': 7, 'Birkenstock': 7, 'Issue': 7, 'Mega': 6, 'Tres': 6, 'Huevito': 6, 'Liviano': 6, 'Distancia': 6, 'Polar': 6, 'Panuelo': 6, 'Parlantes': 6, 'Hombros': 6, 'Contadora': 6, 'Maxima': 6, 'Lenovo': 6, 'Bucal': 6, 'Bloque': 6, 'Acolchada': 6, 'Soldadora': 6, 'Numero': 6, 'Fusion': 6, 'Forever': 6, 'led': 6, 'Emergencia': 6, 'Magnetica': 6, 'Dowen': 6, 'Comando': 6, 'Coleccion': 6, 'Meu': 6, 'Primeiro': 6, 'Parfum': 6, 'Roll': 6, 'Desodorante': 6, 'Avellana': 6, 'Mediana': 6, 'Delineador': 6, 'Mora': 6, 'Vinos': 6, 'Ratan': 6, 'Organizadora': 6, 'Futsal': 6, 'Ancha': 6, 'Juniors': 6, 'Kappa': 6, 'Varias': 6, 'Corredizo': 6, 'Bank': 6, 'Computadora': 6, 'Esfera': 6, 'Cremallera': 6, 'Autocebante': 6, 'Ciudad': 6, 'Modulos': 6, 'Dados': 6, 'Mensula': 6, 'Cortar': 6, 'Oido': 6, 'Detalle': 6, 'Ion': 6, 'Oreja': 6, 'Cobre': 6, 'Encendido': 6, 'Asado': 6, 'Cuchillas': 6, 'Arpillera': 6, 'Lienzo': 6, 'Colcha': 6, 'Abeja': 6, 'Grand': 6, 'Belgrano': 6, 'Tea': 6, 'Yerbera': 6, 'Regalos': 6, 'Vacio': 6, 'Vegetales': 6, 'Wok': 6, 'Batidor': 6, 'Equipo': 6, 'Largas': 6, 'Almohadas': 6, 'Faz': 6, 'Vellon': 6, 'Siliconada': 6, 'Tejido': 6, 'Less': 6, 'Mir': 6, 'Topes': 6, 'Autoadhesivo': 6, 'Sujetador': 6, 'Flotador': 6, 'Pejerrey': 6, 'Telescopica': 6, 'Mar': 6, 'Infinito': 6, 'Hyt': 6, 'Escalera': 6, 'Permanente': 6, 'Friza': 6, 'Cooler': 6, 'Veladores': 6, 'Giro': 6, 'Mandala': 6, 'Iofi': 6, 'Godox': 6, 'Tirador': 6, 'Neumaticos': 6, 'Secaplatos': 6, 'Brocha': 6, 'Opcional': 6, 'Metalicas': 6, 'Esquinero': 6, 'Mezcladora': 6, 'Cebador': 6, 'Cob': 6, 'Spectrum': 6, 'Atornillador': 6, 'Lija': 6, 'Espumadera': 6, 'Sedimentos': 6, 'Micrones': 6, 'Peladora': 6, 'Pimentero': 6, 'Toallas': 6, 'Prensa': 6, 'Espiral': 6, 'Tragos': 6, 'Humo': 6, 'Percha': 6, 'Fortune': 6, 'Atv': 6, 'Radikal': 6, 'Xtz': 6, 'Suspension': 6, 'Matt': 6, 'Estandar': 6, 'Ruta': 6, 'Cosmic': 6, 'Revo': 6, 'Vector': 6, 'Duracal': 6, 'Estampa': 6, 'Love': 6, 'Bisagra': 6, 'Pulso': 6, 'Soul': 6, 'Nail': 6, 'Siliconado': 6, 'Pluma': 6, 'Pants': 6, 'Veet': 6, 'Advanced': 6, 'Matte': 6, 'Skype': 6, 'Modular': 6, 'Combinada': 6, 'Buffer': 6, 'Hortalizas': 6, 'Haedo': 6, 'Lechuga': 6, 'Trigo': 6, 'Pocket': 6, 'Narciso': 6, 'Buceo': 6, 'Lamp': 6, 'Estampar': 6, 'Borcegos': 6, 'Activado': 6, 'Polifosfato': 6, 'Elimina': 6, 'Osmosis': 6, 'Esmaltado': 6, 'Naipes': 6, 'Psa': 6, 'Huevo': 6, 'Retroiluminado': 6, 'Gamepad': 6, 'Ripstop': 6, 'Militar': 6, 'Esencias': 6, 'Grill': 6, 'Dragon': 6, 'Americano': 6, 'Router': 6, 'Acordonada': 6, 'Displayport': 6, 'Port': 6, 'Ojo': 6, 'Amamantar': 6, 'Barras': 6, 'Oxido': 6, 'Magic': 6, 'Mascota': 6, 'Cubilete': 6, 'Afilador': 6, 'Caseme': 6, 'Pen': 6, 'Apertura': 6, 'Soplete': 6, 'Butano': 6, 'Residuos': 6, 'Transparentes': 6, 'Pelos': 6, 'Tendencia': 6, 'Librito': 6, 'Cuerda': 6, 'Regulables': 6, 'Lubricante': 6, 'Unico': 6, 'Liquidacion': 6, 'Gorrito': 6, 'Hawaianas': 6, 'Faro': 6, 'Estacion': 6, 'Jumper': 6, 'Laycra': 6, 'Arrime': 6, 'Arranque': 6, 'Masala': 6, 'Sri': 6, 'Azucar': 6, 'Elasticos': 6, 'Sintetico': 6, 'Camisero': 6, 'Escandinava': 6, 'Age': 6, 'Pana': 6, 'Pochoclera': 6, 'Acabado': 6, 'Cuento': 6, 'Agarre': 6, 'Caza': 6, 'Promesse': 6, 'Tactil': 6, 'Aumento': 6, 'Maner': 6, 'Turbina': 6, 'Inviolable': 6, 'Sorpresa': 6, 'Contorno': 6, 'Gugus': 6, 'Big': 6, 'Face': 6, 'Racer': 6, 'Ambiente': 6, 'Crique': 6, 'Holder': 6, 'Menor': 6, 'Sastre': 6, 'Entresacar': 6, 'Pedicuria': 6, 'Transfer': 6, 'Caida': 6, 'Vogue': 6, 'Antihumedad': 6, 'Pur': 6, 'Innovation': 6, 'Terapia': 6, 'Cars': 6, 'Motricidad': 6, 'Sensorial': 6, 'Deporte': 6, 'Damas': 6, 'Desinfectante': 6, 'Marcela': 6, 'Koury': 6, 'Princesas': 6, 'Wheels': 6, 'Tortazo': 6, 'Defumacion': 6, 'Cocodrilos': 6, 'Musical': 6, 'Nano': 6, 'Karaoke': 6, 'Fifa': 6, 'Nba': 6, 'Globos': 6, 'Calavera': 6, 'Liner': 6, 'Dapop': 6, 'Marron': 6, 'Skin': 6, 'Expansores': 6, 'Mig': 6, 'Jade': 6, 'Calzados': 6, 'Mechas': 6, 'Boris': 6, 'Iberia': 6, 'link': 6, 'Tatuaje': 6, 'Rapsodia': 6, 'Microusb': 6, 'Camisolin': 6, 'Get': 6, 'Amplificador': 6, 'Argollas': 6, 'Rey': 6, 'Tablero': 6, 'Srj': 6, 'Restaurador': 6, 'Expert': 6, 'Arnes': 6, 'Exel': 6, 'Cpu': 6, 'Gimoka': 6, 'Farmaservis': 6, 'Escritorios': 6, 'Ciega': 6, 'Esencial': 6, 'Horario': 6, 'Stretch': 6, 'Mary': 6, 'Coche': 5, 'Moises': 5, 'Windows': 5, 'Vga': 5, 'Jbl': 5, 'Pegar': 5, 'Intensidades': 5, 'Kettlebell': 5, 'Voley': 5, 'Eventos': 5, 'Alambre': 5, 'Foto': 5, 'Modos': 5, 'Brillante': 5, 'Atma': 5, 'Batidora': 5, 'Master': 5, 'Andador': 5, 'Bebesit': 5, 'Pagio': 5, 'Frambuesa': 5, 'Quimica': 5, 'Pitanga': 5, 'Maracuya': 5, 'Frescor': 5, 'Essencial': 5, 'Tacho': 5, 'Calado': 5, 'Succion': 5, 'Marino': 5, 'Ajustables': 5, 'Reedicion': 5, 'Maradona': 5, 'Umbro': 5, 'Thunderbolt': 5, 'Training': 5, 'Blancas': 5, 'Montagne': 5, 'Penalty': 5, 'Life': 5, 'Pony': 5, 'Nro': 5, 'Padel': 5, 'Campo': 5, 'And': 5, 'Ppa': 5, 'Libus': 5, 'Armador': 5, 'Consumo': 5, 'Listo': 5, 'Jugo': 5, 'Espesor': 5, 'Encastrables': 5, 'Dinosaurios': 5, 'Flotantes': 5, 'Elegance': 5, 'Nasal': 5, 'Ceramic': 5, 'Protalia': 5, 'Rizador': 5, 'Parche': 5, 'Campana': 5, 'Pantalones': 5, 'Cuarzo': 5, 'Manualidades': 5, 'Confeccion': 5, 'Raso': 5, 'Pique': 5, 'Interlock': 5, 'Enorme': 5, 'Bazar': 5, 'Latas': 5, 'Flamenco': 5, 'Lejos': 5, 'Cardio': 5, 'Clase': 5, 'Picadora': 5, 'Acondicionado': 5, 'Construccion': 5, 'Netbook': 5, 'Bowl': 5, 'Gourmet': 5, 'Gws': 5, 'Nautica': 5, 'Italiano': 5, 'Gruesas': 5, 'Recuplast': 5, 'Spinit': 5, 'Freno': 5, 'Anzuelos': 5, 'Kotex': 5, 'Particulas': 5, 'Comprimido': 5, 'Antibacterial': 5, 'Oscuro': 5, 'Qwerty': 5, 'Ingles': 5, 'Intensa': 5, 'Lumens': 5, 'Obelisco': 5, 'Brazos': 5, 'Abdomen': 5, 'Inicial': 5, 'Gabriel': 5, 'Rota': 5, 'Padre': 5, 'Hoodie': 5, 'Genuino': 5, 'Spun': 5, 'Musculosas': 5, 'Surtidas': 5, 'Trend': 5, 'Reglamentario': 5, 'Vtv': 5, 'Cochecito': 5, 'Inclinacion': 5, 'Chato': 5, 'Make': 5, 'Separador': 5, 'Dedos': 5, 'Scp': 5, 'Interes': 5, 'Among': 5, 'Hiedra': 5, 'Quad': 5, 'Model': 5, 'Difusor': 5, 'Baulera': 5, 'Economica': 5, 'Equipos': 5, 'World': 5, 'Bros': 5, 'Nintendo': 5, 'Shock': 5, 'Pampa': 5, 'Imperdible': 5, 'envio': 5, 'Desagote': 5, 'Tartera': 5, 'Consola': 5, 'Google': 5, 'Dolor': 5, 'Molinillo': 5, 'Motos': 5, 'Llama': 5, 'Acerada': 5, 'Mastiff': 5, 'Twister': 5, 'Tornado': 5, 'Kick': 5, 'Oil': 5, 'Doypack': 5, 'Scorpion': 5, 'Atr': 5, 'Twist': 5, 'Opticas': 5, 'Eames': 5, 'Comfort': 5, 'Ajuste': 5, 'Bisagras': 5, 'Inodoro': 5, 'Ventilacion': 5, 'Eskabe': 5, 'caja': 5, 'Cuota': 5, 'Smash': 5, 'Sandia': 5, 'Afeitadora': 5, 'Cabeza': 5, 'Pad': 5, 'Panal': 5, 'Gillette': 5, 'Nutrilon': 5, 'Profutura': 5, 'Supersec': 5, 'Closeup': 5, 'Vital': 5, 'Adapt': 5, 'Babysec': 5, 'Blanqueadora': 5, 'Ellas': 5, 'Netflix': 5, 'Micorrizas': 5, 'Veg': 5, 'Humus': 5, 'Vege': 5, 'Perlita': 5, 'Hidroponia': 5, 'Alicate': 5, 'Munequeras': 5, 'Snorkel': 5, 'Valvula': 5, 'Curva': 5, 'Vidrios': 5, 'Sorbete': 5, 'Densidad': 5, 'Int': 5, 'Panko': 5, 'Feng': 5, 'Headset': 5, 'Foam': 5, 'Bacha': 5, 'Parafina': 5, 'Intenso': 5, 'Jugos': 5, 'Rayas': 5, 'Cobertor': 5, 'Frisa': 5, 'Comodo': 5, 'Bermudas': 5, 'Dpi': 5, 'Patinetas': 5, 'Imanes': 5, 'Vaporizador': 5, 'Atomlux': 5, 'Somos': 5, 'Plafon': 5, 'Encoladora': 5, 'Megaflex': 5, 'Adhesiva': 5, 'Novedad': 5, 'Blusas': 5, 'Poda': 5, 'Freefire': 5, 'Nivel': 5, 'Ups': 5, 'Mesoroller': 5, 'Ventanas': 5, 'Abridores': 5, 'Incluido': 5, 'Saca': 5, 'Pelusa': 5, 'Corolla': 5, 'Slips': 5, 'Oscuridad': 5, 'Pegamento': 5, 'Tpu': 5, 'Pera': 5, 'Hexagonal': 5, 'Cintas': 5, 'Pong': 5, 'Shop': 5, 'Argan': 5, 'Frutos': 5, 'Volante': 5, 'Antirrobo': 5, 'Lila': 5, 'Roturas': 5, 'Franciscana': 5, 'Farol': 5, 'Naturales': 5, 'Desayunador': 5, 'Frijoles': 5, 'Beer': 5, 'Sudanta': 5, 'Kansas': 5, 'Zinc': 5, 'Japones': 5, 'Galletas': 5, 'Fortuna': 5, 'Yamani': 5, 'Pure': 5, 'Granos': 5, 'Manteca': 5, 'Molida': 5, 'Chicas': 5, 'Lunares': 5, 'Exhibidor': 5, 'Mierda': 5, 'Viaje': 5, 'Huy': 5, 'Calendula': 5, 'Balsamo': 5, 'Perlas': 5, 'Hebilla': 5, 'Bulbo': 5, 'Tortuga': 5, 'Aguja': 5, 'Baston': 5, 'Tarjetero': 5, 'Ombligo': 5, 'Pescador': 5, 'Xespecial': 5, 'Bamboo': 5, 'Prueba': 5, 'Baterias': 5, 'Personalizada': 5, 'Precinto': 5, 'Agitador': 5, 'Pioneer': 5, 'Pano': 5, 'Makeup': 5, 'Labial': 5, 'Solucion': 5, 'Poncho': 5, 'Pistolas': 5, 'Tarjetas': 5, 'Cruzada': 5, 'Chispero': 5, 'Digitos': 5, 'Plateada': 5, 'Tips': 5, 'Litera': 5, 'Enjuague': 5, 'Saten': 5, 'Colitas': 5, 'Antifrizz': 5, 'Cannon': 5, 'Ergonomico': 5, 'Loreal': 5, 'Modulo': 5, 'Movimiento': 5, 'Pescar': 5, 'Tanza': 5, 'Senuelos': 5, 'Cuaderno': 5, 'Etc': 5, 'Gimnasio': 5, 'Suavizante': 5, 'Aprobado': 5, 'Lanza': 5, 'Platos': 5, 'Mamadera': 5, 'Oficio': 5, 'Escocesa': 5, 'Cesped': 5, 'Greenland': 5, 'Vehiculo': 5, 'Peppa': 5, 'Lanzador': 5, 'Dead': 5, 'Pista': 5, 'Reforz': 5, 'Satya': 5, 'Reiki': 5, 'Hierba': 5, 'Medicinal': 5, 'Cemento': 5, 'Dupont': 5, 'Hola': 5, 'Ink': 5, 'America': 5, 'Funko': 5, 'Sgk': 5, 'Melange': 5, 'Ficha': 5, 'Calaca': 5, 'Mexicana': 5, 'Aviador': 5, 'Autoadhesivas': 5, 'Acrilicas': 5, 'Grasa': 5, 'Toda': 5, 'Cintos': 5, 'Work': 5, 'Kushiro': 5, 'Asador': 5, 'Cambiador': 5, 'System': 5, 'Athletic': 5, 'Bucaneras': 5, 'Rampas': 5, 'Alf': 5, 'Pronto': 5, 'Medida': 5, 'Maceteros': 5, 'Mattel': 5, 'Nyn': 5, 'Havanna': 5, 'Customs': 5, 'Genius': 5, 'Puppies': 5, 'Waterdog': 5, 'Capitone': 5, 'Volcan': 5, 'Ford': 5, 'Ukelele': 5, 'Fight': 5, 'Rizada': 5, 'ventas': 5, 'Gaona': 5, 'Cubrecamas': 5, 'Brasero': 5, 'Lenero': 5, 'Adicionales': 5, 'Carpa': 5, 'Poleas': 5, 'Minnie': 5, 'Dijes': 5, 'Unids': 5, 'Volantes': 5, 'Almandoz': 5, 'Belleza': 5, 'Calibracion': 5, 'Materia': 5, 'Arco': 5, 'Mipowerdestiny': 5, 'Sennheiser': 5, 'Cartier': 5, 'Mousepad': 5, 'Packs': 5, 'Lgames': 5, 'Richard': 5, 'Bikes': 5, 'Moksha': 5, 'Comodin': 5, 'Cook': 5, 'Mesas': 5, 'Saho': 5, 'Jitaku': 5, 'Capas': 5, 'Congreso': 5, 'Odontologia': 5, 'High': 4, 'Drone': 4, 'Balance': 4, 'Pies': 4, 'App': 4, 'Independiente': 4, 'Piazza': 4, 'msports': 4, 'Circulares': 4, 'Aquagym': 4, 'Rusa': 4, 'Rodillera': 4, 'Tacos': 4, 'Canilleras': 4, 'Tapones': 4, 'Rugby': 4, 'soporte': 4, 'Bolita': 4, 'Metalizado': 4, 'Cuenta': 4, 'Catalogos': 4, 'Sia': 4, 'Raqueta': 4, 'Ext': 4, 'adidas': 4, 'Coleman': 4, 'Vida': 4, 'Remington': 4, 'Pulpa': 4, 'Homem': 4, 'off': 4, 'Trifasico': 4, 'Doce': 4, 'Antiedad': 4, 'Renovador': 4, 'Nectar': 4, 'Urbe': 4, 'Peinar': 4, 'Escalon': 4, 'Cestos': 4, 'Sportif': 4, 'Papi': 4, 'Basic': 4, 'Mitre': 4, 'Intense': 4, 'Fucsia': 4, 'Grey': 4, 'Tapizado': 4, 'Frecuencia': 4, 'Estabilizador': 4, 'Duro': 4, 'Externo': 4, 'Internet': 4, 'Gherardi': 4, 'Forjado': 4, 'Factura': 4, 'Dormir': 4, 'Animalitos': 4, 'Bloom': 4, 'Palas': 4, 'Innova': 4, 'Aux': 4, 'Tourmaline': 4, 'Rattan': 4, 'Espejos': 4, 'Articulada': 4, 'Soldar': 4, 'Todas': 4, 'Tabasco': 4, 'Charol': 4, 'Forreria': 4, 'Poliester': 4, 'Fantasia': 4, 'Segunda': 4, 'Unique': 4, 'Percal': 4, 'Acrobacia': 4, 'Tul': 4, 'Vinilico': 4, 'Amo': 4, 'Chai': 4, 'Lleva': 4, 'Espumador': 4, 'Tabletas': 4, 'Vegano': 4, 'Apta': 4, 'Hermoso': 4, 'Aireador': 4, 'Oxigenador': 4, 'Azucarera': 4, 'Facil': 4, 'Trasero': 4, 'Multiple': 4, 'Comida': 4, 'Bordes': 4, 'Fruta': 4, 'Listas': 4, 'Voile': 4, 'Twin': 4, 'Amplia': 4, 'Sweater': 4, 'Extensibles': 4, 'Siliconadas': 4, 'Polyester': 4, 'Revestimiento': 4, 'Mariano': 4, 'Mojarras': 4, 'Epoxi': 4, 'Carretel': 4, 'Encendedor': 4, 'Frontal': 4, 'Volts': 4, 'Plenitud': 4, 'Nocturna': 4, 'Isopropilico': 4, 'Croma': 4, 'Key': 4, 'Noganet': 4, 'Elongacion': 4, 'Atx': 4, 'Equilibrio': 4, 'Citroen': 4, 'Bora': 4, 'Vento': 4, 'Memorias': 4, 'Miracle': 4, 'Skala': 4, 'Waterpulse': 4, 'Funny': 4, 'Sumerg': 4, 'Office': 4, 'Canguro': 4, 'Largos': 4, 'Informales': 4, 'Saco': 4, 'Blazer': 4, 'Forrado': 4, 'Pilotin': 4, 'Adolescente': 4, 'Stitch': 4, 'Mallas': 4, 'Colegial': 4, 'Bastidor': 4, 'Chevrolet': 4, 'Gtx': 4, 'Cosco': 4, 'Hangar': 4, 'Reflex': 4, 'Rotula': 4, 'Ttl': 4, 'Version': 4, 'Controlador': 4, 'Acne': 4, 'Oval': 4, 'Epson': 4, 'Mira': 4, 'unidad': 4, 'Corredizas': 4, 'Alzada': 4, 'Hongos': 4, 'Licuadora': 4, 'All': 4, 'Condenser': 4, 'Guitarra': 4, 'Jengibre': 4, 'Amazonia': 4, 'Sucursal': 4, 'Link': 4, 'Enchufe': 4, 'Family': 4, 'Nieve': 4, 'Virtual': 4, 'Neg': 4, 'Mosquitero': 4, 'Ahuyenta': 4, 'Ratas': 4, 'Cucharon': 4, 'Perde': 4, 'Combinadas': 4, 'Audifono': 4, 'Papas': 4, 'Embolo': 4, 'Divisiones': 4, 'Toallero': 4, 'Pica': 4, 'Ajo': 4, 'Cintura': 4, 'Helado': 4, 'Alter': 4, 'Silisur': 4, 'Cubiertas': 4, 'Wave': 4, 'Skua': 4, 'Calcos': 4, 'Bajaj': 4, 'Bandana': 4, 'Rave': 4, 'Yellow': 4, 'Combinacion': 4, 'Parabrisa': 4, 'Enlozada': 4, 'Alemania': 4, 'Keto': 4, 'Focus': 4, 'Martillo': 4, 'Teka': 4, 'Sophie': 4, 'Never': 4, 'Give': 4, 'Sunset': 4, 'Gummi': 4, 'Termotransferible': 4, 'Polgraf': 4, 'Tomas': 4, 'Beba': 4, 'Pescadora': 4, 'Panty': 4, 'Costuras': 4, 'Bretel': 4, 'Termostato': 4, 'Compatibles': 4, 'Imilab': 4, 'Bass': 4, 'Individuales': 4, 'Anillos': 4, 'Diferentes': 4, 'Automatica': 4, 'Sales': 4, 'Lola': 4, 'Calada': 4, 'Tena': 4, 'Sensodyne': 4, 'Aqua': 4, 'Salud': 4, 'Whitening': 4, 'Compacto': 4, 'alivio': 4, 'Calcareo': 4, 'Nestle': 4, 'Noches': 4, 'Cetaphil': 4, 'Ultrasec': 4, 'Crystal': 4, 'Clinic': 4, 'Volum': 4, 'Falsies': 4, 'Silky': 4, 'Chinches': 4, 'Phitonat': 4, 'Terrafertil': 4, 'Celulosa': 4, 'Tomate': 4, 'Lamina': 4, 'Sustrato': 4, 'Nube': 4, 'Vamp': 4, 'Maiz': 4, 'Jiffy': 4, 'Esquejes': 4, 'Prensado': 4, 'Lupa': 4, 'Dorada': 4, 'Japon': 4, 'Divani': 4, 'Variedad': 4, 'Botitas': 4, 'Botinetas': 4, 'Pantuflas': 4, 'Instalacion': 4, 'Inversa': 4, 'Ratona': 4, 'Medallon': 4, 'Antifaz': 4, 'Ecologica': 4, 'Entrenar': 4, 'Hebras': 4, 'negro': 4, 'cierre': 4, 'Servicio': 4, 'Programable': 4, 'Panda': 4, 'Cabezal': 4, 'Algas': 4, 'Deshidratado': 4, 'Sachet': 4, 'Ostras': 4, 'Tailandia': 4, 'Memory': 4, 'Sello': 4, 'Olor': 4, 'Good': 4, 'Chinela': 4, 'Aceites': 4, 'Organizacion': 4, 'Line': 4, 'Budinera': 4, 'Alfajores': 4, 'Bicicletas': 4, 'Nauticas': 4, 'bar': 4, 'Cisne': 4, 'Puno': 4, 'Sound': 4, 'Gta': 4, 'Resident': 4, 'Evil': 4, 'con': 4, 'Pjmasks': 4, 'Hilux': 4, 'Fresas': 4, 'Recarga': 4, 'Saludable': 4, 'Estamp': 4, 'Ser': 4, 'Marfed': 4, 'Sox': 4, 'Intensidad': 4, 'Hydro': 4, 'ghz': 4, 'pro': 4, 'Macro': 4, 'Generacion': 4, 'Lactancia': 4, 'Embarazo': 4, 'Tech': 4, 'Agustina': 4, 'Laca': 4, 'Metales': 4, 'Tejida': 4, 'Facetado': 4, 'Teg': 4, 'Cry': 4, 'Wabro': 4, 'Ludo': 4, 'Bbs': 4, 'Diam': 4, 'Shui': 4, 'Mensual': 4, 'Incontinencia': 4, 'Fortnite': 4, 'Fan': 4, 'Escuadra': 4, 'Macarrones': 4, 'Flap': 4, 'Flambeador': 4, 'Lavaplatos': 4, 'Derma': 4, 'Modelar': 4, 'Hormigas': 4, 'Bocina': 4, 'Golf': 4, 'Audi': 4, 'Resiste': 4, 'Brilla': 4, 'Monomero': 4, 'Hyper': 4, 'Suecos': 4, 'Suela': 4, 'Puching': 4, 'Ultrafit': 4, 'Apliques': 4, 'Playero': 4, 'Otono': 4, 'Bodies': 4, 'Ping': 4, 'Legumbres': 4, 'Pet': 4, 'Rojos': 4, 'Addnice': 4, 'Drb': 4, 'Camuflada': 4, 'Regular': 4, 'Puente': 4, 'Parasol': 4, 'Lazo': 4, 'Slouchy': 4, 'mujer': 4, 'Scfitness': 4, 'Whey': 4, 'Protein': 4, 'Estaca': 4, 'luz': 4, 'Pintada': 4, 'Alt': 4, 'Camicleta': 4, 'Energetica': 4, 'Avena': 4, 'Miel': 4, 'Suero': 4, 'Carolina': 4, 'Simpsons': 4, 'Finos': 4, 'Sheng': 4, 'Chinos': 4, 'Jazmin': 4, 'Picante': 4, 'Rallado': 4, 'Barbacoa': 4, 'Vegana': 4, 'Bitarwan': 4, 'Sodio': 4, 'Waffle': 4, 'Belga': 4, 'Honey': 4, 'Exclusiva': 4, 'Snack': 4, 'Enteros': 4, 'Activo': 4, 'Barritas': 4, 'Partidas': 4, 'Vedettina': 4, 'Guarda': 4, 'Botiquin': 4, 'Burako': 4, 'Hay': 4, 'Centella': 4, 'Asiatica': 4, 'Almendra': 4, 'Nutritiva': 4, 'Celulitis': 4, 'Keratina': 4, 'Batic': 4, 'Chango': 4, 'Altura': 4, 'Und': 4, 'oferta': 4, 'Golpe': 4, 'Tbcin': 4, 'Direccional': 4, 'Corn': 4, 'Cctv': 4, 'Travel': 4, 'Arquero': 4, 'Jet': 4, 'Automate': 4, 'Quo': 4, 'Vedetinas': 4, 'Cosmetica': 4, 'Boyeros': 4, 'Solares': 4, 'Baliza': 4, 'Ganado': 4, 'Arma': 4, 'Prensacables': 4, 'Hermeticas': 4, 'Consorcio': 4, 'Patrick': 4, 'Estudio': 4, 'Tuningchrome': 4, 'Galileo': 4, 'Microscopio': 4, 'Crocodile': 4, 'Radian': 4, 'Sombras': 4, 'Beauty': 4, 'Ojeras': 4, 'Gremond': 4, 'Destornilladores': 4, 'Torx': 4, 'Punos': 4, 'Algarrobo': 4, 'Piloto': 4, 'Irrompible': 4, 'Naipe': 4, 'Manicura': 4, 'Dualshock': 4, 'Luminosos': 4, 'Vta': 4, 'Costurera': 4, 'Velocimetro': 4, 'unidades': 4, 'Barberia': 4, 'Etiquetadora': 4, 'Magiclick': 4, 'Calculadora': 4, 'Contacto': 4, 'Pulverizador': 4, 'Autopoda': 4, 'Saborizadas': 4, 'Pochita': 4, 'Eden': 4, 'House': 4, 'Ecomambo': 4, 'Saphirus': 4, 'Harenna': 4, 'Osspret': 4, 'Sanitarias': 4, 'Cancat': 4, 'Silica': 4, 'Clasicas': 4, 'Loop': 4, 'Aritos': 4, 'Yerba': 4, 'Lash': 4, 'Biferdil': 4, 'Mordillo': 4, 'Sombrilla': 4, 'kit': 4, 'interior': 4, 'Caba': 4, 'Videos': 4, 'Enchufable': 4, 'Basicas': 4, 'Trabi': 4, 'Trampa': 4, 'Fish': 4, 'Dura': 4, 'Munequera': 4, 'Detergente': 4, 'Depimiel': 4, 'Concentrado': 4, 'Mickey': 4, 'Lunic': 4, 'Brown': 4, 'Laberinto': 4, 'Masaje': 4, 'Gatillo': 4, 'Diversion': 4, 'Hora': 4, 'Pokemon': 4, 'Battle': 4, 'Esbozo': 4, 'Faros': 4, 'Easy': 4, 'Superzings': 4, 'Shopkins': 4, 'Wild': 4, 'Shoppet': 4, 'Pig': 4, 'Hatchimals': 4, 'Habano': 4, 'Bisonte': 4, 'Ariel': 4, 'Pinypon': 4, 'Palabras': 4, 'Canasta': 4, 'Rolada': 4, 'Copal': 4, 'Conos': 4, 'Sandalo': 4, 'Hem': 4, 'Maped': 4, 'Zanahorias': 4, 'Memotest': 4, 'Arbol': 4, 'Sonidos': 4, 'Escoba': 4, 'Caps': 4, 'Pines': 4, 'Dock': 4, 'Earpods': 4, 'Battlefield': 4, 'Dance': 4, 'Crash': 4, 'Latino': 4, 'Creed': 4, 'Banderin': 4, 'Palito': 4, 'Helio': 4, 'Servilletas': 4, 'Soldadura': 4, 'Caobamakeup': 4, 'Infantiles': 4, 'Vectores': 4, 'Prensas': 4, 'Electroestimulador': 4, 'Calle': 4, 'Vaina': 4, 'Store': 4, 'Camuflado': 4, 'Portaligas': 4, 'uni': 4, 'Habitacion': 4, 'Patch': 4, 'Ditoys': 4, 'Fibras': 4, 'Anillas': 4, 'Reglamentaria': 4, 'Diportto': 4, 'Rondi': 4, 'Otras': 4, 'Testeamos': 4, 'Fauna': 4, 'Hectografico': 4, 'Tetinas': 4, 'Cacao': 4, 'Camperas': 4, 'Noblex': 4, 'Importados': 4, 'Vars': 4, 'Boho': 4, 'Fokker': 4, 'Canas': 4, 'Maxell': 4, 'Flanera': 4, 'Foco': 4, 'Rope': 4, 'Evo': 4, 'Bronce': 4, 'Pipa': 4, 'Freidora': 4, 'Slow': 4, 'Desmalezadora': 4, 'Leggins': 4, 'Sexy': 4, 'Marvo': 4, 'Soprano': 4, 'Csgo': 4, 'Boda': 4, 'Convertir': 4, 'Ozono': 4, 'Recoleta': 4, 'Jockey': 4, 'Compartimientos': 4, 'Rotpunkt': 4, 'Carta': 4, 'super': 4, 'Variado': 4, 'Margarita': 4, 'Premiun': 4, 'Revigal': 4, 'Cultibaires': 4, 'Piluso': 4, 'Hair': 4, 'Savarin': 4, 'Marshall': 4, 'Sanitario': 4, 'colgar': 4, 'Primicia': 4, 'Acryfine': 4, 'Mdr': 4, 'Nacimiento': 4, 'Fishrod': 4, 'Rodante': 4, 'Everlast': 4, 'Intel': 4, 'Delantal': 4, 'Edp': 4, 'Proyecto': 4, 'Jmc': 4, 'Asistencia': 4, 'Ohventas': 4, 'Antiage': 4, 'Norte': 4, 'Motoma': 4, 'Medidores': 4, 'Eterna': 4, 'Motul': 4, 'Alargue': 4, 'decofriendly': 4, 'Colossal': 4, 'Electricos': 4, 'disen': 4, 'Blackout': 4, 'Eyewear': 4, 'Pigmento': 4, 'Htec': 4, 'Reconstituido': 4, 'Eppendorf': 4, 'Pipeta': 4, 'Graduadas': 4, 'Ondatuonda': 4, 'Niquel': 4, 'Ramo': 4, 'Swarovski': 4, 'Pediatrico': 4, 'Type': 4, 'Karsten': 4, 'Continental': 4, 'Deconamor': 4, 'Editable': 4, 'Ordinary': 4, 'Camilla': 4, 'Michelin': 4, 'Poltrona': 4, 'Goorin': 4, 'Ryzen': 3, 'Dji': 3, 'Mavic': 3, 'Gray': 3, 'Hoverboard': 3, 'Touchpad': 3, 'Puntero': 3, 'Proshop': 3, 'Cielo': 3, 'Pcb': 3, 'Compacta': 3, 'Vanadio': 3, 'Domiciliaria': 3, 'Posa': 3, 'Antihongos': 3, 'Oidos': 3, 'amp': 3, 'Contar': 3, 'Lumen': 3, 'Temporizador': 3, 'Planetaria': 3, 'Trail': 3, 'Dell': 3, 'Buzz': 3, 'Biografia': 3, 'Exfoliantes': 3, 'Essence': 3, 'Seve': 3, 'Rojas': 3, 'Erva': 3, 'Post': 3, 'Chronos': 3, 'Cereza': 3, 'Homen': 3, 'Acqua': 3, 'Cumaru': 3, 'Kriska': 3, 'Oud': 3, 'Solid': 3, 'Banquito': 3, 'Vaiven': 3, 'Reciclar': 3, 'Sucia': 3, 'Jabonera': 3, 'Cubiertero': 3, 'Multi': 3, 'Coq': 3, 'Coral': 3, 'Euro': 3, 'Lider': 3, 'Volt': 3, 'Chicago': 3, 'Paddle': 3, 'Aniversario': 3, 'Party': 3, 'Impresoras': 3, 'Hidrolavadora': 3, 'Lavado': 3, 'Lava': 3, 'Fiberball': 3, 'Suavestar': 3, 'Controles': 3, 'Estructural': 3, 'Capacidad': 3, 'Prime': 3, 'Mother': 3, 'Concept': 3, 'Externa': 3, 'Hacha': 3, 'Espumante': 3, 'Essential': 3, 'Exprimidor': 3, 'Aislante': 3, 'Troquelito': 3, 'Geometricas': 3, 'Anatomia': 3, 'Neutra': 3, 'Instalar': 3, 'Aplicar': 3, 'PuLG': 3, 'Quick': 3, 'Keration': 3, 'Industria': 3, 'Spica': 3, 'Djp': 3, 'Freezer': 3, 'Csp': 3, 'Buclera': 3, 'Bella': 3, 'Robotica': 3, 'Asaderas': 3, 'Agotar': 3, 'Profesiona': 3, 'Carrera': 3, 'Taper': 3, 'Alimento': 3, 'Sds': 3, 'Conservadora': 3, 'Multigas': 3, 'Horizontal': 3, 'Godeco': 3, 'Anafe': 3, 'Velvet': 3, 'Manteleria': 3, 'Pesado': 3, 'Labrado': 3, 'Friselina': 3, 'Santista': 3, 'Acetato': 3, 'Class': 3, 'Falso': 3, 'Tafeta': 3, 'Mtrs': 3, 'Tusor': 3, 'Latte': 3, 'Syrup': 3, 'Jarabe': 3, 'Cortado': 3, 'Trucker': 3, 'Jarro': 3, 'Copas': 3, 'Frases': 3, 'Ovalado': 3, 'Aromatizante': 3, 'Ambientes': 3, 'Fragancias': 3, 'Triturador': 3, 'Bidones': 3, 'Pinchacarne': 3, 'Car': 3, 'Pasos': 3, 'Makita': 3, 'Madras': 3, 'Abrigado': 3, 'Frazada': 3, 'Duvet': 3, 'Plumon': 3, 'Recuperacion': 3, 'Polipropileno': 3, 'Bifaz': 3, 'Techos': 3, 'Leader': 3, 'Senuelo': 3, 'Carnada': 3, 'Mitchell': 3, 'Longboard': 3, 'Femme': 3, 'litros': 3, 'Estructura': 3, 'Glicerina': 3, 'tik': 3, 'Zuecos': 3, 'Jetion': 3, 'Dcm': 3, 'Cruzer': 3, 'Blade': 3, 'Nkb': 3, 'Aris': 3, 'Solido': 3, 'Raya': 3, 'Multifuncional': 3, 'Salto': 3, 'Coordinacion': 3, 'Psx': 3, 'Xenon': 3, 'Fox': 3, 'Cronometro': 3, 'Ems': 3, 'Teeth': 3, 'Dana': 3, 'Rolon': 3, 'Flipbook': 3, 'Psi': 3, 'Kitty': 3, 'Hoodies': 3, 'Sudadera': 3, 'Fitnes': 3, 'Escolar': 3, 'Colombia': 3, 'Pilotos': 3, 'Impermeables': 3, 'Superheroes': 3, 'Logan': 3, 'Corsa': 3, 'Maza': 3, 'Partner': 3, 'Renault': 3, 'Bipper': 3, 'Portable': 3, 'Otros': 3, 'Elementos': 3, 'Geforce': 3, 'Redragon': 3, 'Platil': 3, 'Paisaje': 3, 'Rotacion': 3, 'Sistem': 3, 'Bandejas': 3, 'Oem': 3, 'Frenos': 3, 'Navajin': 3, 'Rectas': 3, 'Consulte': 3, 'Sunchadora': 3, 'Divertido': 3, 'Rom': 3, 'Armados': 3, 'Armario': 3, 'Olores': 3, 'duchador': 3, 'Boquillas': 3, 'Condimentero': 3, 'Msi': 3, 'Yelmo': 3, 'Criolla': 3, 'Cool': 3, 'Ciruela': 3, 'Perfumado': 3, 'Limitada': 3, 'interes': 3, 'Magia': 3, 'Espanoles': 3, 'Teflonada': 3, 'Stark': 3, 'Sup': 3, 'Hielo': 3, 'Calistenia': 3, 'litio': 3, 'Bocallaves': 3, 'Eleva': 3, 'Aprobados': 3, 'Termosellados': 3, 'Curvo': 3, 'Fire': 3, 'Desague': 3, 'Hogwarts': 3, 'Escudo': 3, 'Electro': 3, 'Gluteo': 3, 'Cucarachas': 3, 'Utensillos': 3, 'Muela': 3, 'Reg': 3, 'Agarradera': 3, 'Citricos': 3, 'Inoxidabl': 3, 'Ejercitador': 3, 'Bocha': 3, 'Rodilla': 3, 'Hacer': 3, 'Huevos': 3, 'Ahorra': 3, 'Junta': 3, 'Altas': 3, 'Inversor': 3, 'alta': 3, 'Motociclista': 3, 'Ipone': 3, 'Slider': 3, 'Suzuki': 3, 'Rouser': 3, 'Ybr': 3, 'Knox': 3, 'Crypton': 3, 'Beta': 3, 'Cascos': 3, 'Generico': 3, 'Cinturato': 3, 'Fluid': 3, 'Wardian': 3, 'Basketball': 3, 'silver': 3, 'Sublimables': 3, 'Spum': 3, 'Vinilos': 3, 'Prosoft': 3, 'Decodificador': 3, 'Grados': 3, 'Nudo': 3, 'Trusa': 3, 'Altos': 3, 'Can': 3, 'Calefactor': 3, 'Medico': 3, 'Oxigeno': 3, 'Sub': 3, 'Pulse': 3, 'Artisticos': 3, 'Call': 3, 'Licor': 3, 'Ice': 3, 'Minera': 3, 'Clarificante': 3, 'Abrillantador': 3, 'Concentrada': 3, 'Perfumina': 3, 'Elaborar': 3, 'Aromaticas': 3, 'Rusticas': 3, 'Faldon': 3, 'Agarraderas': 3, 'set': 3, 'Borlas': 3, 'Oregon': 3, 'Modernas': 3, 'Presillas': 3, 'plano': 3, 'picks': 3, 'Suavidad': 3, 'Complete': 3, 'Conico': 3, 'Tampon': 3, 'True': 3, 'Secas': 3, 'Bruma': 3, 'Elmex': 3, 'Anticaries': 3, 'Protege': 3, 'Imperfecciones': 3, 'Flow': 3, 'Tableta': 3, 'Borrador': 3, 'Vegetacion': 3, 'Feeding': 3, 'Deeper': 3, 'Pimiento': 3, 'Raw': 3, 'Sabores': 3, 'Cherry': 3, 'Mylar': 3, 'Reflectante': 3, 'Sugar': 3, 'Mantra': 3, 'Potenciado': 3, 'Murcielago': 3, 'Neem': 3, 'Germinacion': 3, 'Paja': 3, 'Frutilla': 3, 'Long': 3, 'Explosion': 3, 'Suspensores': 3, 'Alcalina': 3, 'Mocasin': 3, 'Gorras': 3, 'Paneles': 3, 'Rock': 3, 'Antisarro': 3, 'Purificadores': 3, 'Codo': 3, 'Sarro': 3, 'Medalla': 3, 'Benito': 3, 'Velon': 3, 'Abdominal': 3, 'Antistress': 3, 'Coctelera': 3, 'Espanolas': 3, 'Tommy': 3, 'Pastas': 3, 'Vinagre': 3, 'Sopa': 3, 'Ramen': 3, 'Tostadas': 3, 'Limited': 3, 'sin': 3, 'Rfid': 3, 'Ciego': 3, 'Elefante': 3, 'Pela': 3, 'Nykon': 3, 'Sellos': 3, 'Superpura': 3, 'Aroma': 3, 'Sai': 3, 'Parafinas': 3, 'Esenciales': 3, 'Italiana': 3, 'Caramelero': 3, 'Plegables': 3, 'Dolli': 3, 'Irigoyen': 3, 'Borcam': 3, 'Organizadores': 3, 'Decantador': 3, 'Ovalada': 3, 'Tensor': 3, 'Apoya': 3, 'Hipoacusico': 3, 'Aquaflex': 3, 'Man': 3, 'Sharpie': 3, 'Sevengamer': 3, 'Duty': 3, 'Lost': 3, 'Minecraft': 3, 'Aviones': 3, 'Elsa': 3, 'Anna': 3, 'Didacticos': 3, 'Kierouno': 3, 'Camionetas': 3, 'Ranger': 3, 'Toshiba': 3, 'Selfies': 3, 'Drifit': 3, 'Est': 3, 'Nopal': 3, 'Ski': 3, 'Runing': 3, 'Portamat': 3, 'Compresion': 3, 'Rehabilitacion': 3, 'Pierna': 3, 'Resist': 3, 'Maminia': 3, 'Nidito': 3, 'Alimentacion': 3, 'pincel': 3, 'Amarilla': 3, 'Litio': 3, 'Esmaltada': 3, 'Yetem': 3, 'Babies': 3, 'Lloron': 3, 'Autentico': 3, 'Enteriza': 3, 'Rescue': 3, 'Rescata': 3, 'Adopta': 3, 'Refugio': 3, 'Abrojos': 3, 'Simones': 3, 'Perrito': 3, 'Doctor': 3, 'Funciones': 3, 'Abridor': 3, 'Picar': 3, 'Airsoft': 3, 'Pizza': 3, 'Zen': 3, 'Cascada': 3, 'Caminos': 3, 'Trenza': 3, 'Unicorn': 3, 'Aposito': 3, 'Modulador': 3, 'Lumenes': 3, 'Macarons': 3, 'Ultracell': 3, 'Escobas': 3, 'Masilla': 3, 'Artesano': 3, 'Lento': 3, 'Airbag': 3, 'Nissan': 3, 'Distribuidor': 3, 'Cap': 3, 'Nails': 3, 'Polimero': 3, 'Bling': 3, 'Huawei': 3, 'Libreta': 3, 'Livianos': 3, 'Rusas': 3, 'Chatitas': 3, 'Ositos': 3, 'Ranita': 3, 'Bodys': 3, 'Panalero': 3, 'Rimmel': 3, 'Toque': 3, 'Setx': 3, 'Abecedario': 3, 'Teddy': 3, 'Compresor': 3, 'Trabavolante': 3, 'Tobillero': 3, 'Amplios': 3, 'Corderito': 3, 'Basico': 3, 'tambien': 3, 'Ginebra': 3, 'Hidrolizado': 3, 'Shaker': 3, 'Bcaa': 3, 'Panchas': 3, 'Acond': 3, 'Zapatero': 3, 'Canastero': 3, 'Ordenador': 3, 'Granola': 3, 'Secos': 3, 'Queso': 3, 'Curry': 3, 'Jamaica': 3, 'Instantanea': 3, 'Giorgio': 3, 'Costena': 3, 'Celiacos': 3, 'Phoenix': 3, 'Thai': 3, 'tacc': 3, 'Chia': 3, 'Energia': 3, 'Ahumado': 3, 'Wasabi': 3, 'Agridulce': 3, 'Leon': 3, 'Certificacion': 3, 'Facilita': 3, 'Pochoclos': 3, 'Mustard': 3, 'Libano': 3, 'Marina': 3, 'Cal': 3, 'Ayurveda': 3, 'Veget': 3, 'Dieta': 3, 'Francia': 3, 'Brochette': 3, 'Suplemento': 3, 'Pescado': 3, 'Camila': 3, 'boxer': 3, 'Barak': 3, 'Suspensor': 3, 'Polera': 3, 'Abotonado': 3, 'Mesita': 3, 'Beach': 3, 'Quien': 3, 'Pulidora': 3, 'Cruzadas': 3, 'Brillosa': 3, 'Supermercado': 3, 'Cereal': 3, 'Grado': 3, 'Etilico': 3, 'Comun': 3, 'Flexibles': 3, 'Jaula': 3, 'Reja': 3, 'Dvr': 3, 'xxl': 3, 'Magico': 3, 'Cachorros': 3, 'Tope': 3, 'Pequenos': 3, 'Hermetica': 3, 'Minitorno': 3, 'Bombachas': 3, 'Perlea': 3, 'Maidenform': 3, 'Banderas': 3, 'Publicitarias': 3, 'Cuentos': 3, 'Crea': 3, 'Cubos': 3, 'Rapidez': 3, 'Dermopediatrica': 3, 'Polisap': 3, 'Frances': 3, 'Ahorro': 3, 'Lavarropa': 3, 'Longvie': 3, 'Refrigeracion': 3, 'Fuzzy': 3, 'Aurora': 3, 'Viajes': 3, 'Termosellado': 3, 'Arenita': 3, 'Almohadones': 3, 'Patillas': 3, 'Regla': 3, 'Contour': 3, 'Depilacion': 3, 'Blender': 3, 'Polvos': 3, 'Correctores': 3, 'Diaria': 3, 'Arrugas': 3, 'Senderismo': 3, 'Garra': 3, 'Ultravioleta': 3, 'Plantar': 3, 'Protectores': 3, 'Auxilio': 3, 'Ajedrez': 3, 'Cuidado': 3, 'Basket': 3, 'Triangular': 3, 'Bocas': 3, 'Relajante': 3, 'Lingas': 3, 'Cortante': 3, 'Pesada': 3, 'Platinum': 3, 'Tecla': 3, 'Barbero': 3, 'Peluquero': 3, 'Reflectivo': 3, 'Afilar': 3, 'Pinzas': 3, 'Decanter': 3, 'Organiza': 3, 'Almacenamiento': 3, 'Burbujas': 3, 'Bioestimulante': 3, 'Potasico': 3, 'Prevencion': 3, 'Surf': 3, 'Tricolor': 3, 'Conejos': 3, 'Cobayos': 3, 'Bear': 3, 'Varilla': 3, 'Piedritas': 3, 'Biodegradables': 3, 'Peces': 3, 'Comedero': 3, 'Underwear': 3, 'nueva': 3, 'Vianda': 3, 'Cdi': 3, 'Ejecutivo': 3, 'Basculante': 3, 'Cebolla': 3, 'Dulces': 3, 'Fabricante': 3, 'Qualibest': 3, 'Antiarrugas': 3, 'Capilar': 3, 'Hello': 3, 'Perritos': 3, 'Traslucido': 3, 'Spotify': 3, 'Sica': 3, 'Rasti': 3, 'Atril': 3, 'Transp': 3, 'Plop': 3, 'Tarariras': 3, 'Nokia': 3, 'Resaltadores': 3, 'Sonda': 3, 'Aventura': 3, 'Finish': 3, 'Mcqueen': 3, 'Piston': 3, 'Selva': 3, 'Liga': 3, 'Devoto': 3, 'Planeta': 3, 'Embarazada': 3, 'Royale': 3, 'Utensilios': 3, 'Folios': 3, 'Archivo': 3, 'tapa': 3, 'und': 3, 'monserrat': 3, 'Carton': 3, 'Lapicera': 3, 'Pelikan': 3, 'Bordar': 3, 'Falda': 3, 'Chombas': 3, 'Ver': 3, 'Eversafe': 3, 'Charge': 3, 'Masks': 3, 'Gecko': 3, 'Planet': 3, 'Bilingue': 3, 'Next': 3, 'Oca': 3, 'Bombitas': 3, 'Amor': 3, 'Mirra': 3, 'Sahumador': 3, 'Doradas': 3, 'Push': 3, 'Picaporte': 3, 'Chasis': 3, 'Transistor': 3, 'Arrugadedos': 3, 'Pato': 3, 'Crayones': 3, 'Frutti': 3, 'Tren': 3, 'Don': 3, 'Country': 3, 'Compatible': 3, 'Hervidor': 3, 'Remachadora': 3, 'Masculina': 3, 'Borcego': 3, 'Delantero': 3, 'Sincroniza': 3, 'adaptador': 3, 'War': 3, 'Bandicoot': 3, 'Collection': 3, 'Iridiscente': 3, 'Peluca': 3, 'Repujador': 3, 'Lifting': 3, 'Mask': 3, 'Smoke': 3, 'Scanner': 3, 'Split': 3, 'Perfilador': 3, 'Envidia': 3, 'Kits': 3, 'Stylus': 3, 'Deshumidificador': 3, 'Purifica': 3, 'reales': 3, 'Carpinteria': 3, 'Ceramico': 3, 'para': 3, 'Bassic': 3, 'Gavetero': 3, 'Cobra': 3, 'Elis': 3, 'Guillermina': 3, 'Cira': 3, 'Urban': 3, 'Sable': 3, 'Impresion': 3, 'Marieta': 3, 'Suenos': 3, 'Ruido': 3, 'Acoples': 3, 'Nitrilo': 3, 'Cord': 3, 'Ngm': 3, 'Alcance': 3, 'Stormer': 3, 'Mecha': 3, 'Piscina': 3, 'Descubiertos': 3, 'Miyawa': 3, 'Instantaneo': 3, 'Distrib': 3, 'Rummy': 3, 'Plastilina': 3, 'Playcolor': 3, 'Pasteles': 3, 'Seleccion': 3, 'Babero': 3, 'Multicam': 3, 'Alexander': 3, 'Cerrado': 3, 'Suculenta': 3, 'Hace': 3, 'Tejo': 3, 'Ben': 3, 'Ringke': 3, 'Foxbox': 3, 'Marley': 3, 'Access': 3, 'Tintas': 3, 'Pitbull': 3, 'Ltrs': 3, 'Fernet': 3, 'Frase': 3, 'Havannets': 3, 'Docenas': 3, 'Hsg': 3, 'Arfix': 3, 'Medicos': 3, 'Vaquero': 3, 'Campanita': 3, 'Arreador': 3, 'Var': 3, 'Sublingual': 3, 'York': 3, 'Caldero': 3, 'Pompon': 3, 'Gryffindor': 3, 'Rick': 3, 'Engrasado': 3, 'Anatomico': 3, 'Ergo': 3, 'Informal': 3, 'Narrow': 3, 'Panther': 3, 'Faber': 3, 'Guia': 3, 'Bizcochuelo': 3, 'Flan': 3, 'Station': 3, 'Audioritmico': 3, 'Clay': 3, 'Fiat': 3, 'Volkswagen': 3, 'Trimmer': 3, 'Panza': 3, 'Chata': 3, 'Lacio': 3, 'Cepillado': 3, 'Boquilla': 3, 'Cabellos': 3, 'Ahora': 3, 'Decker': 3, 'Design': 3, 'Juguera': 3, 'Juicer': 3, 'Probador': 3, 'Phmetro': 3, 'Armonica': 3, 'Diatonica': 3, 'Alpha': 3, 'Denim': 3, 'Buzos': 3, 'Almacenar': 3, 'Multiplicador': 3, 'Blokoco': 3, 'Creatina': 3, 'Entreno': 3, 'Servicios': 3, 'nina': 3, 'Chito': 3, 'Singer': 3, 'Dobble': 3, 'Aprendizaje': 3, 'Kanken': 3, 'Fjallaraven': 3, 'Kioshi': 3, 'Micropolar': 3, 'Escalada': 3, 'Armazon': 3, 'Marcos': 3, 'Polarizado': 3, 'Suizo': 3, 'Arado': 3, 'Paellera': 3, 'Trapo': 3, 'Bata': 3, 'Pentalobe': 3, 'Phillips': 3, 'Autobrillo': 3, 'cera': 3, 'brillo': 3, 'Solutions': 3, 'Poliptico': 3, 'Cadenas': 3, 'Miniso': 3, 'Perfumes': 3, 'Bagovit': 3, 'Bmw': 3, 'Andarin': 3, 'Pastafrola': 3, 'Tarta': 3, 'Circulo': 3, 'Bebedero': 3, 'Clear': 3, 'Antishock': 3, 'Probioticos': 3, 'Vicus': 3, 'Principito': 3, 'Degustacion': 3, 'Stand': 3, 'Acanalado': 3, 'Separadora': 3, 'Busto': 3, 'Portero': 3, 'Camino': 3, 'Procesador': 3, 'Fajas': 3, 'Cerrada': 3, 'Hyundai': 3, 'Paso': 3, 'Aqualaf': 3, 'Divina': 3, 'Diadora': 3, 'Senal': 3, 'Fratelli': 3, 'Enciclica': 3, 'Lavatapizados': 3, 'Lamparita': 3, 'Emprendedores': 3, 'Shabby': 3, 'Canillas': 3, 'Cerradura': 3, 'Sacacorcho': 3, 'Hombrecitos': 3, 'Antioxidante': 3, 'Condimentos': 3, 'Renata': 3, 'Chubby': 3, 'Ceremonia': 3, 'Mila': 3, 'Dewalt': 3, 'Dwe': 3, 'Cofias': 3, 'Aguayo': 3, 'Mamakolla': 3, 'Wordpress': 3, 'Felcraft': 3, 'Bordo': 3, 'Very': 3, 'Luminous': 3, 'Kiri': 3, 'Distanciamiento': 3, 'Capelina': 3, 'Tarquini': 3, 'Fin': 3, 'Flameo': 3, 'Aromas': 3, 'Tulipa': 3, 'Huella': 3, 'Helix': 3, 'Bcr': 3, 'Bipo': 3, 'Microtubos': 3, 'Fogonero': 3, 'Farenheite': 3, 'Niqueladas': 3, 'Insumos': 3, 'Afrodisiaco': 3, 'Bross': 3, 'London': 3, 'Florero': 3, 'Pegada': 3, 'Plasma': 3, 'Fascitis': 3, 'Charger': 3, 'Elegir': 3, 'Antimanchas': 3, 'Bodum': 3, 'Lan': 3, 'Aquahome': 3, 'Kingston': 3, 'Sachets': 3, 'Envuelto': 3, 'Elegi': 3, 'Conticrosscontact': 3, 'Ortodoncia': 3, 'Ecologicas': 3, 'Bonafide': 3, 'Mee': 3, 'Goodyear': 3, 'Kelly': 3, 'Touring': 3, 'Convertible': 2, 'Softbox': 2, 'Hooverboard': 2, 'Telescopico': 2, 'Fujifilm': 2, 'Pcbox': 2, 'Phone': 2, 'Tab': 2, 'Robot': 2, 'Compact': 2, 'Wind': 2, 'Motorizada': 2, 'Infrarroja': 2, 'Babycall': 2, 'Acceso': 2, 'Pelotero': 2, 'Deslizable': 2, 'Tawak': 2, 'Esmerilado': 2, 'Youtube': 2, 'Guilty': 2, 'Enrrollable': 2, 'msport': 2, 'Recubierta': 2, 'Forma': 2, 'Theraband': 2, 'Enrollable': 2, 'Descuento': 2, 'mascara': 2, 'Bodas': 2, 'Alcatel': 2, 'Cam': 2, 'Giant': 2, 'Siamotos': 2, 'Rinoneras': 2, 'Expandible': 2, 'Kabuki': 2, 'Autonomia': 2, 'Resortes': 2, 'Liliana': 2, 'Orbital': 2, 'Tostadora': 2, 'Panes': 2, 'Ferrari': 2, 'Rastar': 2, 'Aplicaciones': 2, 'Sopladora': 2, 'Tools': 2, 'Inissia': 2, 'Woody': 2, 'Paz': 2, 'Casis': 2, 'Pequena': 2, 'Antitranspirante': 2, 'Nature': 2, 'Coragio': 2, 'Acai': 2, 'Petalos': 2, 'Todohogar': 2, 'Cava': 2, 'Planchar': 2, 'Luxury': 2, 'Med': 2, 'Cuadrados': 2, 'Cubetera': 2, 'Sillones': 2, 'Reforzados': 2, 'Banqueta': 2, 'Asas': 2, 'Navi': 2, 'Holanda': 2, 'Purple': 2, 'Action': 2, 'Spandex': 2, 'Squat': 2, 'Origina': 2, 'Graphite': 2, 'Ferro': 2, 'Lyon': 2, 'Chinelas': 2, 'Claro': 2, 'Cerulean': 2, 'Estudiantes': 2, 'Cuarto': 2, 'Camu': 2, 'bolsillo': 2, 'Aditour': 2, 'Bistro': 2, 'Huracan': 2, 'Publicidad': 2, 'Transparencia': 2, 'Presurizadora': 2, 'Marcas': 2, 'Xerox': 2, 'Phaser': 2, 'Tank': 2, 'Fichas': 2, 'Crimpeadora': 2, 'Dvd': 2, 'Actualizacion': 2, 'Consolas': 2, 'Patchcord': 2, 'Vigilancia': 2, 'Forjada': 2, 'Antiempanante': 2, 'Fact': 2, 'Hacemos': 2, 'Bag': 2, 'Pomelo': 2, 'Espacios': 2, 'Musculacion': 2, 'Falla': 2, 'Leve': 2, 'Marinos': 2, 'Humano': 2, 'Zocalo': 2, 'Nunca': 2, 'Candil': 2, 'Completos': 2, 'Clipper': 2, 'Tecnologia': 2, 'clip': 2, 'Canina': 2, 'Salon': 2, 'Bigote': 2, 'Potenza': 2, 'Rulos': 2, 'Detecta': 2, 'Servo': 2, 'Pepona': 2, 'Friccion': 2, 'Piletas': 2, 'Inflables': 2, 'Liquidamos': 2, 'Cincel': 2, 'Rotomartillo': 2, 'Blend': 2, 'Motoguadana': 2, 'Lena': 2, 'Calefaccion': 2, 'Sriracha': 2, 'Botineta': 2, 'Spl': 2, 'Manteles': 2, 'Cubresommier': 2, 'Coneja': 2, 'Capsulandia': 2, 'Aeroccino': 2, 'Cappuccino': 2, 'Aulait': 2, 'Skinny': 2, 'Royal': 2, 'Mug': 2, 'Gooseneck': 2, 'Rap': 2, 'Mandolina': 2, 'Multiuoso': 2, 'Mosquito': 2, 'Citronela': 2, 'Evita': 2, 'Paint': 2, 'Verdura': 2, 'Calorias': 2, 'Llamadas': 2, 'Postural': 2, 'Balans': 2, 'Ergonomica': 2, 'Razer': 2, 'Utensillo': 2, 'Lovely': 2, 'Induccion': 2, 'Turquesa': 2, 'decker': 2, 'Lista': 2, 'Cuerpos': 2, 'Biker': 2, 'Over': 2, 'Triangulito': 2, 'Bikinis': 2, 'Lurex': 2, 'Europea': 2, 'Universo': 2, 'Satinado': 2, 'Perdura': 2, 'Bco': 2, 'Piletero': 2, 'Stearns': 2, 'Bobinas': 2, 'Mustad': 2, 'Bencina': 2, 'Combustible': 2, 'Magnum': 2, 'Lanzar': 2, 'Tanager': 2, 'Bait': 2, 'Onda': 2, 'California': 2, 'Escencial': 2, 'Compitt': 2, 'Prophyl': 2, 'litro': 2, 'Producto': 2, 'Acordonadas': 2, 'Interestelar': 2, 'Espana': 2, 'Western': 2, 'Wds': 2, 'Ixpand': 2, 'plateado': 2, 'Iron': 2, 'Cromadas': 2, 'Valla': 2, 'Voltaje': 2, 'Itx': 2, 'Reemplaza': 2, 'Posicion': 2, 'Berlingo': 2, 'Bombin': 2, 'Suran': 2, 'Analogo': 2, 'Street': 2, 'Monito': 2, 'Wee': 2, 'Bien': 2, 'Termicas': 2, 'Espinilla': 2, 'Inicio': 2, 'Duelo': 2, 'Camina': 2, 'Rico': 2, 'Lota': 2, 'Niv': 2, 'digi': 2, 'Feed': 2, 'Ryan': 2, 'Zoe': 2, 'Fun': 2, 'Ranch': 2, 'Colegio': 2, 'Trench': 2, 'Femeninos': 2, 'Camisola': 2, 'Volado': 2, 'Bob': 2, 'Homero': 2, 'Animados': 2, 'puno': 2, 'Sublimadas': 2, 'Sunga': 2, 'Frizado': 2, 'Direccion': 2, 'Hidraulica': 2, 'Sandero': 2, 'Ejesrutacaba': 2, 'caba': 2, 'Centrifugador': 2, 'Controladora': 2, 'Pincha': 2, 'Matafuego': 2, 'Magneticos': 2, 'Nvidia': 2, 'Tuf': 2, 'Pastalinda': 2, 'Barletta': 2, 'Charcoal': 2, 'Stone': 2, 'Joie': 2, 'Mineral': 2, 'Soportes': 2, 'Fotografica': 2, 'Tolifo': 2, 'Iluminadores': 2, 'Iii': 2, 'Triopo': 2, 'Radios': 2, 'Leer': 2, 'Columna': 2, 'Peines': 2, 'Limpiadora': 2, 'Extension': 2, 'Flejadora': 2, 'Tripulante': 2, 'Impostor': 2, 'Muro': 2, 'Ele': 2, 'Maximo': 2, 'Termofusora': 2, 'Lactal': 2, 'Miga': 2, 'Season': 2, 'Update': 2, 'Rally': 2, 'Roku': 2, 'Controller': 2, 'Mario': 2, 'Deluxe': 2, 'Antipop': 2, 'bornera': 2, 'Cerami': 2, 'Muffins': 2, 'Cupcakes': 2, 'Aguas': 2, 'Manzana': 2, 'Edt': 2, 'Preta': 2, 'Hipoalergenico': 2, 'Cloacal': 2, 'disco': 2, 'Variable': 2, 'Pluvial': 2, 'Pci': 2, 'Silicon': 2, 'Rise': 2, 'Nest': 2, 'Asistente': 2, 'Amazon': 2, 'Generation': 2, 'Reliquias': 2, 'Muerte': 2, 'Pupera': 2, 'Depilador': 2, 'Vello': 2, 'Rata': 2, 'Roedor': 2, 'Molinillos': 2, 'Volumen': 2, 'Contra': 2, 'Envasadora': 2, 'Selladora': 2, 'Pizzeras': 2, 'Fuentes': 2, 'Repara': 2, 'Pelador': 2, 'Telar': 2, 'Acce': 2, 'Rellenador': 2, 'Ensaladera': 2, 'Morsa': 2, 'Rodilleras': 2, 'Coderas': 2, 'Inalamb': 2, 'Lum': 2, 'Heladeras': 2, 'Frigobar': 2, 'Trip': 2, 'Benelli': 2, 'Tnt': 2, 'Orig': 2, 'Perfumada': 2, 'Cbx': 2, 'Team': 2, 'Screen': 2, 'Mataperro': 2, 'Infla': 2, 'Sella': 2, 'Akita': 2, 'Std': 2, 'Espejadas': 2, 'Clave': 2, 'Escape': 2, 'Silenciador': 2, 'Motomel': 2, 'Iris': 2, 'Motocalco': 2, 'Pechera': 2, 'Impact': 2, 'Dominar': 2, 'Calco': 2, 'Granulado': 2, 'Lineal': 2, 'Derivadora': 2, 'Bypass': 2, 'Pentair': 2, 'Dom': 2, 'Pulido': 2, 'Rubi': 2, 'Kolor': 2, 'Punto': 2, 'Extremo': 2, 'Boss': 2, 'Day': 2, 'Chalpa': 2, 'Flywing': 2, 'Jump': 2, 'Morris': 2, 'Dakota': 2, 'Jiro': 2, 'Traction': 2, 'Camaleon': 2, 'tornasolado': 2, 'Fume': 2, 'Posicionador': 2, 'Sublimable': 2, 'Plush': 2, 'Fiestas': 2, 'Batik': 2, 'Darling': 2, 'Mal': 2, 'Triangulo': 2, 'Herrajes': 2, 'Min': 2, 'Termocupla': 2, 'Acquapiu': 2, 'resistencia': 2, 'anodo': 2, 'Purga': 2, 'Joyroom': 2, 'Bodyboard': 2, 'Barrenador': 2, 'Souvenirs': 2, 'Salvavida': 2, 'Recortadora': 2, 'Personas': 2, 'horno': 2, 'Platitos': 2, 'pzas': 2, 'Apevtech': 2, 'Multimedia': 2, 'auto': 2, 'Mantenimiento': 2, 'Lavavajilla': 2, 'Helena': 2, 'Panama': 2, 'Dobles': 2, 'perfect': 2, 'Venus': 2, 'Antiplaca': 2, 'Visible': 2, 'Proxabrush': 2, 'Ultrafina': 2, 'Arena': 2, 'Nidina': 2, 'Frescura': 2, 'Naturals': 2, 'Extracts': 2, 'Buenas': 2, 'Rapisec': 2, 'Genero': 2, 'Enfabebe': 2, 'Matificante': 2, 'Blackest': 2, 'Neutrazucar': 2, 'Ohmyshop': 2, 'Mercadoenvio': 2, 'Recargador': 2, 'Trichodermas': 2, 'Stress': 2, 'Lixi': 2, 'Lombriz': 2, 'Lombricompuesto': 2, 'Revienta': 2, 'Cogollos': 2, 'Sustratos': 2, 'Fertilizantes': 2, 'Barrier': 2, 'Blunt': 2, 'Grinder': 2, 'Amsterdam': 2, 'Guanos': 2, 'Menos': 2, 'Fertifox': 2, 'Hormona': 2, 'Fertil': 2, 'Estaciones': 2, 'Guano': 2, 'Salvia': 2, 'Mulching': 2, 'Growers': 2, 'Termohigrometro': 2, 'Roots': 2, 'Rolled': 2, 'Cono': 2, 'Picana': 2, 'carbon': 2, 'Importador': 2, 'Horas': 2, 'Teknikpro': 2, 'Acordonado': 2, 'watts': 2, 'Baseball': 2, 'Ideales': 2, 'Grueso': 2, 'Abrigo': 2, 'Mocasines': 2, 'Aleman': 2, 'Micron': 2, 'Ablandador': 2, 'Portafiltro': 2, 'Liturgia': 2, 'Liturgico': 2, 'Refrigerante': 2, 'Estiramiento': 2, 'Blanquea': 2, 'Tus': 2, 'Mazo': 2, 'Truco': 2, 'Pinche': 2, 'Arcilla': 2, 'Winco': 2, 'Tecnico': 2, 'Secadora': 2, 'Percutor': 2, 'Rebozador': 2, 'Beary': 2, 'Taiwan': 2, 'Intantaneos': 2, 'Cerdo': 2, 'Cocinar': 2, 'Koala': 2, 'Chaokoh': 2, 'Haday': 2, 'Vibracion': 2, 'Firme': 2, 'Rodillas': 2, 'Starter': 2, 'Principiantes': 2, 'Decorativa': 2, 'piezas': 2, 'Cereales': 2, 'Suena': 2, 'Blackcolor': 2, 'Saquito': 2, 'prof': 2, 'Blossom': 2, 'Compactor': 2, 'Pasabahc': 2, 'Tontarelli': 2, 'Ollas': 2, 'Panquequera': 2, 'Guardado': 2, 'Masitas': 2, 'Bowls': 2, 'Cuencos': 2, 'Hermeticos': 2, 'Recipientes': 2, 'Hermosos': 2, 'Barrera': 2, 'Mampara': 2, 'Gastronomia': 2, 'Remolque': 2, 'Boedo': 2, 'Rehau': 2, 'Mallada': 2, 'Crush': 2, 'Streamer': 2, 'Zombies': 2, 'Legion': 2, 'Ultimate': 2, 'Uncharted': 2, 'Wings': 2, 'Articulados': 2, 'Roblox': 2, 'Pjmask': 2, 'Cardigan': 2, 'Dodge': 2, 'Versiones': 2, 'Peeling': 2, 'Laptop': 2, 'Acer': 2, 'Vapor': 2, 'Antideslizantes': 2, 'rulemanes': 2, 'Resistencias': 2, 'Antifog': 2, 'Graduada': 2, 'inflador': 2, 'Rana': 2, 'Marea': 2, 'Stop': 2, 'Iluminado': 2, 'Liston': 2, 'Contencion': 2, 'estampado': 2, 'Ref': 2, 'Suprabond': 2, 'pintura': 2, 'Asfaltica': 2, 'Acuosa': 2, 'Tacsa': 2, 'Sum': 2, 'Felix': 2, 'Rose': 2, 'Decorado': 2, 'Uniformes': 2, 'Disfraces': 2, 'Tears': 2, 'Tasa': 2, 'Strapless': 2, 'Runts': 2, 'Perrita': 2, 'Sofia': 2, 'Perra': 2, 'Medicina': 2, 'Criquet': 2, 'Incluidas': 2, 'Boker': 2, 'Smith': 2, 'Wesson': 2, 'Acanalada': 2, 'Sharp': 2, 'Pipractic': 2, 'Jumbo': 2, 'Glock': 2, 'Austria': 2, 'Carol': 2, 'Psbp': 2, 'Chaira': 2, 'Marruecos': 2, 'Brush': 2, 'Supcase': 2, 'Beetle': 2, 'Ambit': 2, 'Peak': 2, 'Vinchas': 2, 'Stilson': 2, 'Carg': 2, 'Presentacion': 2, 'Alonso': 2, 'porta': 2, 'Julieta': 2, 'Palos': 2, 'trapeador': 2, 'Tipos': 2, 'Chorro': 2, 'Mundial': 2, 'Perforadora': 2, 'Envueltos': 2, 'Burlete': 2, 'Veneno': 2, 'Geltek': 2, 'Parsecs': 2, 'Dahua': 2, 'Hikvision': 2, 'Comandos': 2, 'Caudalimetro': 2, 'Frontier': 2, 'Crucero': 2, 'Variador': 2, 'Hamburguesera': 2, 'Hamburguesa': 2, 'Superman': 2, 'Stamping': 2, 'Antisuciedad': 2, 'Bali': 2, 'Acolchadas': 2, 'Brenda': 2, 'Libra': 2, 'Asia': 2, 'Gota': 2, 'Tensores': 2, 'Escalones': 2, 'Gluteos': 2, 'Maniac': 2, 'Granalla': 2, 'Medicine': 2, 'Intermedia': 2, 'Cmx': 2, 'Playera': 2, 'Corrugado': 2, 'Genrod': 2, 'Tractor': 2, 'Batita': 2, 'Sensei': 2, 'Caramelera': 2, 'Tono': 2, 'Wonder': 2, 'Mach': 2, 'Revlon': 2, 'Textura': 2, 'Ladrillos': 2, 'Argos': 2, 'Positano': 2, 'Puma': 2, 'Weis': 2, 'Velez': 2, 'Cenicienta': 2, 'Santa': 2, 'Manometro': 2, 'Premiu': 2, 'Camiones': 2, 'Corriente': 2, 'Texas': 2, 'Julia': 2, 'Parka': 2, 'Sahara': 2, 'Pocas': 2, 'fibrana': 2, 'Trabapuertas': 2, 'Vitapower': 2, 'Taste': 2, 'Cookies': 2, 'Ted': 2, 'Lapidus': 2, 'leds': 2, 'Desarmable': 2, 'Hamacas': 2, 'Paraguayas': 2, 'Forrados': 2, 'Stencil': 2, 'Eeuu': 2, 'Fecula': 2, 'Mandioca': 2, 'Texturizada': 2, 'Deshidratada': 2, 'Densid': 2, 'Duff': 2, 'Infusiones': 2, 'Arrollada': 2, 'Ecologicos': 2, 'Arce': 2, 'Maple': 2, 'Chilli': 2, 'Garlic': 2, 'Exquisito': 2, 'Cous': 2, 'Bbq': 2, 'Tostado': 2, 'Partido': 2, 'Garbanzos': 2, 'Cremosa': 2, 'Condimento': 2, 'Oriental': 2, 'Nori': 2, 'Quinoa': 2, 'Quinua': 2, 'Fumeiga': 2, 'Frasquitos': 2, 'Curcuma': 2, 'Zahringer': 2, 'Radler': 2, 'Esterilla': 2, 'Clarificada': 2, 'Ghee': 2, 'Macrozen': 2, 'Agregada': 2, 'Cucharas': 2, 'Medidoras': 2, 'Exquisitos': 2, 'Not': 2, 'Palta': 2, 'Tahina': 2, 'Tahine': 2, 'Pimenton': 2, 'Pimientos': 2, 'Fajitas': 2, 'Girasol': 2, 'Mostaza': 2, 'Antigua': 2, 'Milk': 2, 'Moon': 2, 'Sweet': 2, 'Cuchilla': 2, 'Moleca': 2, 'Elas': 2, 'Cromosoma': 2, 'Lody': 2, 'Ritmo': 2, 'Autorriego': 2, 'Ambos': 2, 'Yacard': 2, 'Prendido': 2, 'Chaqueta': 2, 'Caballetes': 2, 'Cajoneras': 2, 'Provenzal': 2, 'Grat': 2, 'Oganizador': 2, 'Comerciales': 2, 'Moviles': 2, 'Bureau': 2, 'Turtle': 2, 'Elijo': 2, 'Pulguitas': 2, 'Ultron': 2, 'Pinata': 2, 'Ultrasonido': 2, 'Tonico': 2, 'Nutritivo': 2, 'Arnica': 2, 'Oxidante': 2, 'Schwarzkopf': 2, 'Extracto': 2, 'Pepino': 2, 'Pedica': 2, 'Ylang': 2, 'Hidronutritiva': 2, 'Micelar': 2, 'Nov': 2, 'Refrescante': 2, 'Aloe': 2, 'Higienica': 2, 'Musculares': 2, 'Plataformas': 2, 'Texanas': 2, 'Crepe': 2, 'Changuito': 2, 'Tendedero': 2, 'Alimenticio': 2, 'Tridestilado': 2, 'Mameluco': 2, 'Portalampara': 2, 'Pll': 2, 'Dulux': 2, 'Minutos': 2, 'Parrillera': 2, 'Marinar': 2, 'Adobo': 2, 'Chatas': 2, 'Solarshine': 2, 'Debajo': 2, 'Tiroalto': 2, 'Mesh': 2, 'Velocidades': 2, 'Reduce': 2, 'Acolchonada': 2, 'Ful': 2, 'Nisuta': 2, 'Banadera': 2, 'Rompecabeza': 2, 'Dremel': 2, 'Cartuchos': 2, 'Buscapolo': 2, 'Inductivo': 2, 'Len': 2, 'Colombiana': 2, 'Rurales': 2, 'Rulo': 2, 'Promocionales': 2, 'Personalizadas': 2, 'Historia': 2, 'Cante': 2, 'medio': 2, 'Extensora': 2, 'Duchas': 2, 'Allflex': 2, 'Mezclador': 2, 'Rompe': 2, 'American': 2, 'Pillow': 2, 'Egipcio': 2, 'Anaquel': 2, 'Botellas': 2, 'Hgf': 2, 'Mudanza': 2, 'Consul': 2, 'Cwr': 2, 'Rotor': 2, 'Excellent': 2, 'Tornillos': 2, 'Lpk': 2, 'Doy': 2, 'Eslabon': 2, 'Tambor': 2, 'Electric': 2, 'flor': 2, 'Quirurjico': 2, 'Haylou': 2, 'Cerdas': 2, 'Xpg': 2, 'Summoner': 2, 'Panalera': 2, 'Sintetica': 2, 'Oferton': 2, 'Mosqueton': 2, 'Caliper': 2, 'Cpl': 2, 'Establizador': 2, 'Pcs': 2, 'Wenno': 2, 'Salvajes': 2, 'Eurasia': 2, 'Rodaditos': 2, 'Bright': 2, 'Eye': 2, 'Fijador': 2, 'Pimax': 2, 'Aquashot': 2, 'Coastal': 2, 'Scents': 2, 'Compas': 2, 'Individual': 2, 'Techniques': 2, 'Cream': 2, 'Humectante': 2, 'Hydrapore': 2, 'Deep': 2, 'Pilaten': 2, 'Octopus': 2, 'Camouflage': 2, 'Penta': 2, 'Imantados': 2, 'Metatarso': 2, 'Studio': 2, 'Scrambler': 2, 'Tracker': 2, 'Cenicero': 2, 'Termos': 2, 'Gomera': 2, 'Apoyabrazo': 2, 'Resortera': 2, 'Infladores': 2, 'Flauta': 2, 'Enhebrador': 2, 'Reproductor': 2, 'Antiestres': 2, 'Linternas': 2, 'Cabezales': 2, 'Cutter': 2, 'Unicolor': 2, 'Ventanilla': 2, 'Antimoscas': 2, 'Dinamo': 2, 'Maneki': 2, 'Neko': 2, 'dorado': 2, 'Paletas': 2, 'Apagado': 2, 'Sala': 2, 'Cubierto': 2, 'Campamento': 2, 'Escofina': 2, 'Pasteleria': 2, 'Zorra': 2, 'Mascaras': 2, 'Luminosidad': 2, 'Round': 2, 'Smd': 2, 'Vertedor': 2, 'Infrarojo': 2, 'Frente': 2, 'Pluribol': 2, 'Giber': 2, 'Engorde': 2, 'Transparent': 2, 'Sedas': 2, 'Bubble': 2, 'Cura': 2, 'Diatomeas': 2, 'Azteka': 2, 'Nutrients': 2, 'Raiz': 2, 'Vegetativo': 2, 'Mosca': 2, 'Cebo': 2, 'Autor': 2, 'Caracoles': 2, 'Imetec': 2, 'Bellissima': 2, 'Pantufla': 2, 'Rayadas': 2, 'Avantgarden': 2, 'Pequeno': 2, 'Objetos': 2, 'Compostables': 2, 'Golosinas': 2, 'Bocaditos': 2, 'zoo': 2, 'Pollo': 2, 'Alimentador': 2, 'Gatito': 2, 'Palita': 2, 'Sartenes': 2, 'Scrunchies': 2, 'Emblema': 2, 'Drago': 2, 'Integrales': 2, 'Mermelada': 2, 'Batata': 2, 'Esnaola': 2, 'Curaprox': 2, 'Inmovilizador': 2, 'Ferula': 2, 'Regeneradora': 2, 'oreal': 2, 'Revitalift': 2, 'Lift': 2, 'Colorissimo': 2, 'Spirale': 2, 'Nonisec': 2, 'Actividades': 2, 'Chifle': 2, 'Multimarca': 2, 'Emisor': 2, 'play': 2, 'Cursos': 2, 'Elaboracion': 2, 'Mignon': 2, 'Macroled': 2, 'Galponera': 2, 'Aidata': 2, 'Empaque': 2, 'Esmerillon': 2, 'Tubitos': 2, 'Copo': 2, 'Tenedor': 2, 'Tarucha': 2, 'Anzuelo': 2, 'Flote': 2, 'Rugged': 2, 'Resaltador': 2, 'Retractil': 2, 'Cuatri': 2, 'ciclismo': 2, 'Treking': 2, 'Anticorte': 2, 'Valvulas': 2, 'Toma': 2, 'sky': 2, 'Timbre': 2, 'Multigimnasio': 2, 'Vaca': 2, 'Anclaje': 2, 'Multigym': 2, 'Querubin': 2, 'Primeras': 2, 'Zorro': 2, 'Centeno': 2, 'Therapy': 2, 'Nebulizador': 2, 'Squishy': 2, 'Fidget': 2, 'Calma': 2, 'Ansiedad': 2, 'Multisensorial': 2, 'sonido': 2, 'Didacti': 2, 'Biogel': 2, 'Activ': 2, 'Estrategia': 2, 'Bote': 2, 'Ayuda': 2, 'Luminica': 2, 'Pelotitas': 2, 'Rampa': 2, 'Guerra': 2, 'Hermosas': 2, 'Cuentas': 2, 'Cartones': 2, 'Jugar': 2, 'Walkie': 2, 'Talkie': 2, 'Vacia': 2, 'Stranger': 2, 'Things': 2, 'Pikachu': 2, 'Personaje': 2, 'Groot': 2, 'Bohemia': 2, 'rep': 2, 'Checa': 2, 'Bombonera': 2, 'Picada': 2, 'Jgo': 2, 'Alfest': 2, 'filtro': 2, 'Actas': 2, 'Luma': 2, 'Pizzini': 2, 'hjs': 2, 'Boligrafo': 2, 'premium': 2, 'Stilnovo': 2, 'corta': 2, 'Rip': 2, 'Primeros': 2, 'Auxilios': 2, 'Auxiliares': 2, 'Take': 2, 'Musculos': 2, 'Campos': 2, 'Pisoteo': 2, 'Otra': 2, 'Parte': 2, 'Usar': 2, 'Sombra': 2, 'Venom': 2, 'Polly': 2, 'Army': 2, 'Loteria': 2, 'Nightmare': 2, 'Hades': 2, 'Como': 2, 'Cho': 2, 'Pistas': 2, 'Spriggan': 2, 'Generations': 2, 'Dibujos': 2, 'Ratones': 2, 'Burst': 2, 'Famosa': 2, 'Morocha': 2, 'Cambia': 2, 'Rubia': 2, 'Preguntados': 2, 'Toyco': 2, 'Yute': 2, 'Shaka': 2, 'shaka': 2, 'Bruto': 2, 'Rolado': 2, 'Agata': 2, 'chica': 2, 'Amatista': 2, 'Goloka': 2, 'Rama': 2, 'Partida': 2, 'Chakras': 2, 'Combinado': 2, 'Manzanilla': 2, 'Inciensos': 2, 'Resinas': 2, 'Hierbas': 2, 'Balancin': 2, 'Trencity': 2, 'Excavacion': 2, 'Tentempie': 2, 'Playmobil': 2, 'Juliana': 2, 'Cada': 2, 'Back': 2, 'Coleccionables': 2, 'Playgro': 2, 'Senior': 2, 'Piramide': 2, 'Suma': 2, 'Resta': 2, 'Anana': 2, 'Hulk': 2, 'Nubes': 2, 'Peps': 2, 'Hotend': 2, 'Higrometro': 2, 'Cba': 2, 'bikers': 2, 'Gramo': 2, 'Navidenas': 2, 'Clips': 2, 'Waflera': 2, 'Anri': 2, 'Vesa': 2, 'Gira': 2, 'Vigor': 2, 'Microcentro': 2, 'Rayos': 2, 'Angel': 2, 'Printec': 2, 'fuente': 2, 'Last': 2, 'Theft': 2, 'God': 2, 'Xenoverse': 2, 'Adventure': 2, 'Destiny': 2, 'Assassins': 2, 'Wwe': 2, 'Need': 2, 'Jug': 2, 'Sparkle': 2, 'Velita': 2, 'Chispita': 2, 'Acrilica': 2, 'Perlados': 2, 'Tutu': 2, 'Confetti': 2, 'Papelitos': 2, 'Steampunk': 2, 'Iridiscentes': 2, 'Machete': 2, 'Freddy': 2, 'Krueger': 2, 'Adherente': 2, 'Arte': 2, 'Poligel': 2, 'Sur': 2, 'Blanqueamiento': 2, 'Grafito': 2, 'Remotos': 2, 'Elec': 2, 'Esp': 2, 'Disipadora': 2, 'Coolers': 2, 'Test': 2, 'Axilas': 2, 'Volatil': 2, 'Pigmentos': 2, 'Best': 2, 'Corona': 2, 'Reina': 2, 'Orejas': 2, 'Gibre': 2, 'Givre': 2, 'Purpurina': 2, 'Collares': 2, 'Gts': 2, 'Ultimo': 2, 'Pencil': 2, 'Tactiles': 2, 'gbs': 2, 'Ezcap': 2, 'Respirador': 2, 'Gopro': 2, 'Streaming': 2, 'Reales': 2, 'Herramienta': 2, 'Vulk': 2, 'Guardian': 2, 'Alberico': 2, 'Remaches': 2, 'Anticelulitis': 2, 'Kai': 2, 'run': 2, 'line': 2, 'Titanio': 2, 'Caladora': 2, 'Skil': 2, 'rpm': 2, 'Dxt': 2, 'Mariposa': 2, 'Hiperofertas': 2, 'Yoda': 2, 'Azucarero': 2, 'Yerbero': 2, 'Futura': 2, 'gris': 2, 'Dielectrico': 2, 'Eng': 2, 'Camel': 2, 'Cancelacion': 2, 'Estilizados': 2, 'Taller': 2, 'Kioscofull': 2, 'Toner': 2, 'Chip': 2, 'Kld': 2, 'Rebajador': 2, 'Naftera': 2, 'Fresadora': 2, 'Broderie': 2, 'Detalles': 2, 'Suelta': 2, 'Camisolas': 2, 'Gemas': 2, 'Motosierra': 2, 'Hitachi': 2, 'Cartulina': 2, 'Cuadernos': 2, 'Artistica': 2, 'Plastilinas': 2, 'Resma': 2, 'giro': 2, 'Wedge': 2, 'Roberto': 2, 'Shilba': 2, 'Bulls': 2, 'Olivos': 2, 'Ginobili': 2, 'Boxing': 2, 'Abrigada': 2, 'Recibidora': 2, 'Comer': 2, 'Ejercito': 2, 'Aeroportuaria': 2, 'Boina': 2, 'Policial': 2, 'Cromic': 2, 'Vizzano': 2, 'Bicolor': 2, 'Afina': 2, 'Lalelu': 2, 'Sexo': 2, 'Vicios': 2, 'Mente': 2, 'Faydi': 2, 'Sinfonia': 2, 'Submarina': 2, 'Nextpoin': 2, 'Implas': 2, 'Piccola': 2, 'Politica': 2, 'Estafas': 2, 'Batalla': 2, 'Naval': 2, 'Akg': 2, 'Waze': 2, 'Maps': 2, 'Hamamelis': 2, 'Nell': 2, 'Ross': 2, 'Mallado': 2, 'Prism': 2, 'Powerline': 2, 'Devolo': 2, 'Dlan': 2, 'Medianas': 2, 'Descartador': 2, 'Pomada': 2, 'Chop': 2, 'Reflectiva': 2, 'Paraguaya': 2, 'Atarraya': 2, 'Voltimetro': 2, 'Electroplastico': 2, 'Resorte': 2, 'Angulo': 2, 'Gamuzada': 2, 'Multimetro': 2, 'Molle': 2, 'Holi': 2, 'Chic': 2, 'Bufanda': 2, 'Slytherin': 2, 'Morty': 2, 'Hush': 2, 'Low': 2, 'Chaponetta': 2, 'horn': 2, 'Trento': 2, 'Herradura': 2, 'Serrucho': 2, 'Lap': 2, 'Avenger': 2, 'Dromo': 2, 'Unltd': 2, 'Portatermo': 2, 'Triciclo': 2, 'Semanal': 2, 'Morgan': 2, 'Sellar': 2, 'Baguet': 2, 'Hamburguesero': 2, 'Hamburguesas': 2, 'Flancito': 2, 'Delicada': 2, 'Ecosport': 2, 'Amarok': 2, 'Radiofrecuencia': 2, 'Contractor': 2, 'Alisadora': 2, 'Nuca': 2, 'Peine': 2, 'Joven': 2, 'Alisado': 2, 'Pecho': 2, 'Silfab': 2, 'Intercomunicador': 2, 'Caireles': 2, 'cms': 2, 'figura': 2, 'Odio': 2, 'Anatomy': 2, 'varios': 2, 'Eslovenia': 2, 'Time': 2, 'Fumigador': 2, 'Rivafer': 2, 'Merclin': 2, 'Blandos': 2, 'Cinzano': 2, 'Malbec': 2, 'Woplas': 2, 'Complemento': 2, 'Vison': 2, 'costado': 2, 'Boucle': 2, 'Rustica': 2, 'Baguetas': 2, 'Molduras': 2, 'Fuxia': 2, 'Tuning': 2, 'Excel': 2, 'Detox': 2, 'Tuerca': 2, 'Remache': 2, 'Bordeadora': 2, 'Grilon': 2, 'Pecera': 2, 'Suarez': 2, 'Syx': 2, 'Cubanos': 2, 'Musicos': 2, 'Capotraste': 2, 'Capodastro': 2, 'Industries': 2, 'Sisa': 2, 'Stc': 2, 'Carpintero': 2, 'Donuts': 2, 'Cornet': 2, 'Bajocama': 2, 'Guardar': 2, 'Omron': 2, 'Chain': 2, 'Osaka': 2, 'Tupac': 2, 'pac': 2, 'Elefantes': 2, 'Pago': 2, 'Lavables': 2, 'Trio': 2, 'Tuxs': 2, 'Aluminizada': 2, 'Infinity': 2, 'Crespo': 2, 'Omnitrix': 2, 'Launch': 2, 'elevador': 2, 'Vehiculos': 2, 'Informacion': 2, 'Bsn': 2, 'Rush': 2, 'Tirolesa': 2, 'Tirolina': 2, 'Cheff': 2, 'Incluida': 2, 'Fogoneros': 2, 'Filamento': 2, 'Antique': 2, 'Eso': 2, 'Jode': 2, 'Poppular': 2, 'Drinking': 2, 'Dables': 2, 'Enamorar': 2, 'Secreter': 2, 'Diario': 2, 'Caramelo': 2, 'Proteinas': 2, 'Zonda': 2, 'Brooksfield': 2, 'Friedrich': 2, 'Nietzsche': 2, 'Doite': 2, 'kgs': 2, 'Rotativo': 2, 'Victorinox': 2, 'Tipi': 2, 'Masas': 2, 'Casita': 2, 'Bijouterie': 2, 'Boli': 2, 'Mpx': 2, 'Confidence': 2, 'Gst': 2, 'Imantado': 2, 'Exoticos': 2, 'Zinnia': 2, 'hidroponia': 2, 'Amapola': 2, 'Pensamiento': 2, 'Clavel': 2, 'gigante': 2, 'Parrillero': 2, 'Viruta': 2, 'Growtech': 2, 'Plancheta': 2, 'Temptation': 2, 'Femenina': 2, 'Retina': 2, 'Gomita': 2, 'Cueros': 2, 'goma': 2, 'Mediglove': 2, 'Coloracion': 2, 'Gobierno': 2, 'Torcha': 2, 'Cubic': 2, 'Zirconia': 2, 'Engarzar': 2, 'Escalonado': 2, 'Ampollas': 2, 'Triaminico': 2, 'Simbolos': 2, 'Mates': 2, 'Flecos': 2, 'Adorno': 2, 'Capuchones': 2, 'Apaga': 2, 'Pecora': 2, 'Altavista': 2, 'Ventana': 2, 'Espiraladora': 2, 'Material': 2, 'Doyen': 2, 'Exclusivos': 2, 'Realidad': 2, 'Joyero': 2, 'Alpaca': 2, 'Shoulders': 2, 'Clinical': 2, 'Purederm': 2, 'Bio': 2, 'envios': 2, 'Bombachon': 2, 'Eggys': 2, 'Mecanica': 2, 'flan': 2, 'Groomers': 2, 'Razas': 2, 'Pequenas': 2, 'Canales': 2, 'Shure': 2, 'Hohner': 2, 'Horizon': 2, 'Supercardioide': 2, 'Armor': 2, 'Delgada': 2, 'Camioneta': 2, 'Ampolla': 2, 'unid': 2, 'Folk': 2, 'Cuervo': 2, 'Sola': 2, 'Frida': 2, 'Rbf': 2, 'Karite': 2, 'Ghibli': 2, 'Stereo': 2, 'Mania': 2, 'gratis': 2, 'Lectura': 2, 'Two': 2, 'Primario': 2, 'Terraria': 2, 'Promoter': 2, 'Megan': 2, 'Intercaladas': 2, 'Hogareno': 2, 'comercial': 2, 'Vanta': 2, 'Drill': 2, 'Rpm': 2, 'Stromberg': 2, 'Nucleos': 2, 'Microsoft': 2, 'Gigantes': 2, 'Acesorios': 2, 'fisico': 2, 'nuevo': 2, 'Bancarias': 2, 'Enfajar': 2, 'Aceto': 2, 'Balsamico': 2, 'Millan': 2, 'Hybc': 2, 'Propio': 2, 'Divisor': 2, 'Lever': 2, 'Paraiso': 2, 'Swatch': 2, 'Badana': 2, 'Alum': 2, 'Qimiaobaby': 2, 'Plomadas': 2, 'Balenciaga': 2, 'Hardy': 2, 'Motorhome': 2, 'Luminosas': 2, 'myr': 2, 'Allshine': 2, 'Tapizados': 2, 'Alfombras': 2, 'Trepadoras': 2, 'Kalop': 2, 'Espia': 2, 'Desenredante': 2, 'Francisco': 2, 'Evangelio': 2, 'Didactica': 2, 'Colorido': 2, 'Bola': 2, 'Geneo': 2, 'Fascino': 2, 'Cher': 2, 'Planos': 2, 'Textos': 2, 'Leva': 2, 'Amiga': 2, 'Tag': 2, 'Amigo': 2, 'Circulos': 2, 'Jmt': 2, 'Energizer': 2, 'Vita': 2, 'Sheshu': 2, 'Jeeps': 2, 'Casas': 2, 'Emb': 2, 'Abiertas': 2, 'Miami': 2, 'Dep': 2, 'Transito': 2, 'Desarmada': 2, 'Vestidor': 2, 'Atrae': 2, 'Cajita': 2, 'Amplio': 2, 'Caviahue': 2, 'Ddr': 2, 'Schwartz': 2, 'gbrom': 2, 'Laqueada': 2, 'Suiza': 2, 'Build': 2, 'Dash': 2, 'Caminan': 2, 'basic': 2, 'Smooth': 2, 'Extrema': 2, 'Pescadoras': 2, 'Lijadora': 2, 'Autolimpiante': 2, 'sebum': 2, 'Cepillos': 2, 'Fiscal': 2, 'Compumanias': 2, 'Pictogramas': 2, 'Esta': 2, 'Plisadas': 2, 'Soluciones': 2, 'Balanceo': 2, 'Ken': 2, 'Emblem': 2, 'Mistol': 2, 'Gift': 2, 'Transoil': 2, 'Postizas': 2, 'Press': 2, 'Rondas': 2, 'Colgantes': 2, 'Fragil': 2, 'Vencimiento': 2, 'Chuva': 2, 'Tamano': 2, 'Kpop': 2, 'Kraft': 2, 'Tricapa': 2, 'Tenelo': 2, 'Antiniebla': 2, 'Unica': 2, 'Guasha': 2, 'Shade': 2, 'Raza': 2, 'Anatomicos': 2, 'Rexona': 2, 'Absorbente': 2, 'Hombreras': 2, 'Lamparitas': 2, 'fan': 2, 'Mostrador': 2, 'Fichero': 2, 'Cardeuse': 2, 'Speakon': 2, 'Recibidoras': 2, 'Forradas': 2, 'Faciales': 2, 'Amonio': 2, 'Fill': 2, 'Glencairn': 2, 'Escocia': 2, 'Futon': 2, 'Sense': 2, 'Vitrificado': 2, 'Uds': 2, 'Artekit': 2, 'Darth': 2, 'Vader': 2, 'Social': 2, 'Pai': 2, 'Sujeta': 2, 'Osito': 2, 'Space': 2, 'Neodimio': 2, 'Dias': 2, 'Distintos': 2, 'Incorporado': 2, 'Opal': 2, 'Gde': 2, 'Proximidad': 2, 'Accesos': 2, 'Biometrico': 2, 'Bull': 2, 'Septum': 2, 'Perforacion': 2, 'Impreso': 2, 'Transferencia': 2, 'pasteur': 2, 'Pasteur': 2, 'Quirurjicos': 2, 'Didi': 2, 'Gasa': 2, 'Groumet': 2, 'Feromonas': 2, 'Sexitive': 2, 'Famous': 2, 'Herrera': 2, 'Perez': 2, 'Branca': 2, 'Iguales': 2, 'Blaque': 2, 'Embalar': 2, 'Bobina': 2, 'Activada': 2, 'Liberty': 2, 'Katana': 2, 'Tratamiento': 2, 'Rotoplas': 2, 'Vileda': 2, 'Bfe': 2, 'celu': 2, 'Balasto': 2, 'Artificiales': 2, 'Rpmotos': 2, 'Mascobox': 2, 'Nordicos': 2, 'Distribucion': 2, 'Mensajeria': 2, 'Aktiol': 2, 'Amaro': 2, 'Salino': 2, 'Caffettiera': 2, 'Modem': 2, 'Mataderos': 2, 'Hydrax': 2, 'pack': 2, 'Activador': 2, 'Hdj': 2, 'Articulo': 2, 'Kandors': 2, 'Chindi': 2, 'Gigaset': 2, 'Pixma': 2, 'pingpong': 2, 'Repuest': 2, 'Pouch': 2, 'Esterilizacion': 2, 'Autoclave': 2, 'Dentsply': 2, 'Sirona': 2, 'Filtek': 2, 'Krapert': 2, 'Carmex': 2, 'Perfect': 2, 'Patente': 2, 'Legitimo': 2, 'Cristaleria': 2, 'Mikonos': 2, 'Mantenedor': 2, 'Identidad': 2, 'Intikilla': 2, 'Erotica': 2, 'Apoyabrazos': 2, 'Dab': 2, 'Volf': 2, 'Regador': 2, 'Automotriz': 2, 'Analizador': 2, 'Konnwei': 2, 'Oeste': 2, 'Verbatim': 2, 'Castell': 2, 'Tamizador': 2, 'Despolvillador': 2, 'Esferas': 2, 'Gimi': 2, 'Lone': 2, 'Wolf': 2, 'Complementos': 2, 'Sexys': 2, 'Msf': 2, 'Coreano': 2, 'Lanzilen': 2, 'Tameana': 2, 'Narguile': 2, 'Perfuminas': 2, 'Barbizon': 2, 'Selene': 2, 'Quaglia': 2, 'Banneton': 2, 'Revividor': 2, 'Planchetta': 1, 'patas': 1, 'Pinchos': 1, 'Northwest': 1, 'cts': 1, 'Wolke': 1, 'fhu': 1, 'Glossy': 1, 'Buzzard': 1, 'Maqcos': 1, 'Simela': 1, 'Orejera': 1, 'Alhajero': 1, 'Lightbox': 1, 'Miracast': 1, 'Shiatsu': 1, 'Quema': 1, 'Cloudbook': 1, 'Instax': 1, 'Click': 1, 'Filma': 1, 'Wide': 1, 'Monochrome': 1, 'Begonia': 1, 'Taurus': 1, 'Trapeadora': 1, 'Water': 1, 'Indus': 1, 'Fly': 1, 'More': 1, 'Hbq': 1, 'Speaker': 1, 'Tobogan': 1, 'Nemo': 1, 'Estufas': 1, 'Electricas': 1, 'Stream': 1, 'Amurar': 1, 'Pektra': 1, 'Impermeabilizante': 1, 'Transitable': 1, 'Intenensidades': 1, 'Recubiertas': 1, 'Ocho': 1, 'Revestidas': 1, 'Depo': 1, 'Upper': 1, 'electrodo': 1, 'Shows': 1, 'Apila': 1, 'Ropas': 1, 'mini': 1, 'protec': 1, 'roja': 1, 'Movible': 1, 'Maqullaje': 1, 'Slt': 1, 'int': 1, 'Cuisinart': 1, 'Linen': 1, 'Vpc': 1, 'Kanji': 1, 'Kjh': 1, 'Discovery': 1, 'Salomon': 1, 'Speedcross': 1, 'Ventilada': 1, 'Silk': 1, 'Hydros': 1, 'Shift': 1, 'Essenza': 1, 'Obera': 1, 'Tabli': 1, 'Ruby': 1, 'Earbuds': 1, 'Clarin': 1, 'Forky': 1, 'Castillo': 1, 'Cremosos': 1, 'Assinatura': 1, 'Desperte': 1, 'Lumina': 1, 'Lis': 1, 'Desedorante': 1, 'Oleosidad': 1, 'Minha': 1, 'Nox': 1, 'Encanto': 1, 'Das': 1, 'Mistureba': 1, 'Guanabana': 1, 'Intensiva': 1, 'Revitalizacion': 1, 'quimica': 1, 'Verum': 1, 'Blur': 1, 'Perfeccionador': 1, 'Biohidratante': 1, 'Kajal': 1, 'Potence': 1, 'Drama': 1, 'Reparadora': 1, 'Granada': 1, 'Aquarela': 1, 'Glow': 1, 'Planchado': 1, 'escritorio': 1, 'Escalino': 1, 'Reciclaje': 1, 'Antivuelco': 1, 'Destapadora': 1, 'Poder': 1, 'Mascardi': 1, 'Colorhome': 1, 'Megacol': 1, 'Colbox': 1, 'Oceano': 1, 'Homenaje': 1, 'Cruyff': 1, 'Napoli': 1, 'Bolivar': 1, 'Eclipse': 1, 'Icon': 1, 'Rod': 1, 'Lavender': 1, 'Chipre': 1, 'Trainning': 1, 'Lecoq': 1, 'Courtset': 1, 'Americas': 1, 'Anta': 1, 'Klay': 1, 'Thompson': 1, 'Drible': 1, 'Match': 1, 'Jugador': 1, 'Drifter': 1, 'Vibe': 1, 'Origin': 1, 'Andes': 1, 'Sorma': 1, 'Raspberry': 1, 'Reutiliza': 1, 'Burn': 1, 'Animals': 1, 'Stadium': 1, 'Flamingo': 1, 'Newells': 1, 'Chaco': 1, 'Ever': 1, 'Cardenas': 1, 'Talleres': 1, 'Cordoba': 1, 'Givova': 1, 'Tbs': 1, 'Magenta': 1, 'Bodytherm': 1, 'Bluebell': 1, 'Filminas': 1, 'Fot': 1, 'lanza': 1, 'Banos': 1, 'Lusqtoff': 1, 'Calefon': 1, 'Hidrolavadoras': 1, 'Tobera': 1, 'Karcher': 1, 'Matelasse': 1, 'Matelasseado': 1, 'Naxido': 1, 'Programado': 1, 'Programados': 1, 'Mhz': 1, 'Ace': 1, 'Televisor': 1, 'Trv': 1, 'Surelectric': 1, 'Hdd': 1, 'Rebatibl': 1, 'Tenaza': 1, 'Tumba': 1, 'Aviator': 1, 'Transpar': 1, 'Albanil': 1, 'Mumm': 1, 'Leger': 1, 'Spritz': 1, 'Melissa': 1, 'Shoulder': 1, 'Snake': 1, 'Kinder': 1, 'Troquel': 1, 'Transportes': 1, 'Romepcabezas': 1, 'Asilante': 1, 'Encastable': 1, 'cubos': 1, 'Hoy': 1, 'Repisas': 1, 'Dicrioca': 1, 'Oxida': 1, 'Intemperie': 1, 'Complleto': 1, 'Monovolumen': 1, 'Rinseable': 1, 'Indelplas': 1, 'Patilla': 1, 'Patillera': 1, 'Groom': 1, 'Bivolt': 1, 'Lacar': 1, 'Card': 1, 'Potencias': 1, 'Montado': 1, 'Bobinado': 1, 'Tower': 1, 'Servomotor': 1, 'Ventilado': 1, 'Tapper': 1, 'Entero': 1, 'Rued': 1, 'Decoracio': 1, 'Rotovator': 1, 'Cultivador': 1, 'Motocultivadora': 1, 'Cajoner': 1, 'Traccion': 1, 'Balanzas': 1, 'Automati': 1, 'Cliclonica': 1, 'Escuadras': 1, 'Robusta': 1, 'Carameleras': 1, 'Cand': 1, 'Tuper': 1, 'Organ': 1, 'Unixes': 1, 'Vat': 1, 'Scotch': 1, 'Sufin': 1, 'Cosechero': 1, 'Hermetic': 1, 'Potenciando': 1, 'Quedes': 1, 'Fuerz': 1, 'Straightcare': 1, 'Kotion': 1, 'Each': 1, 'Ahumar': 1, 'Humos': 1, 'Sustentable': 1, 'Envi': 1, 'Reclinable': 1, 'Helatodo': 1, 'Heladerita': 1, 'Daihatsu': 1, 'Apoyar': 1, 'Estufa': 1, 'Eiffel': 1, 'Corteseg': 1, 'Cortacabello': 1, 'Vectra': 1, 'inclinacion': 1, 'Nakan': 1, 'Inferior': 1, 'Luisa': 1, 'Cindy': 1, 'Egipcian': 1, 'Aerea': 1, 'Batas': 1, 'Prata': 1, 'First': 1, 'Pailet': 1, 'Lumilagro': 1, 'Fdn': 1, 'Nescafe': 1, 'Lungo': 1, 'Descafeinado': 1, 'Capsuland': 1, 'Nesquik': 1, 'Mcg': 1, 'Positive': 1, 'roceador': 1, 'Enlozado': 1, 'Vntage': 1, 'esprit': 1, 'Leerdam': 1, 'Alpina': 1, 'Ahorque': 1, 'Amb': 1, 'Proyeccion': 1, 'Choppera': 1, 'Prendedor': 1, 'Exterminador': 1, 'Dispensador': 1, 'Chopper': 1, 'Cuadradas': 1, 'Tapabocas': 1, 'Hombrecito': 1, 'Kms': 1, 'Whatsapp': 1, 'Caloria': 1, 'Kraken': 1, 'Nativa': 1, 'Madison': 1, 'Blan': 1, 'Frazadero': 1, 'Abrigadas': 1, 'Firmes': 1, 'Outfit': 1, 'Bidireccional': 1, 'Telas': 1, 'Agreste': 1, 'Univers': 1, 'Casadeco': 1, 'Casablanca': 1, 'Univeerso': 1, 'Pintureria': 1, 'Marine': 1, 'Libras': 1, 'Termocontraible': 1, 'Necesita': 1, 'Indestructible': 1, 'Surubi': 1, 'Thor': 1, 'Copolimero': 1, 'Zippo': 1, 'Filetero': 1, 'Descamador': 1, 'Scepter': 1, 'Rapala': 1, 'Atar': 1, 'Phanter': 1, 'Espinel': 1, 'Ntk': 1, 'Minuto': 1, 'Carrete': 1, 'Asso': 1, 'Tenacity': 1, 'Motion': 1, 'Laguna': 1, 'Hills': 1, 'Plomos': 1, 'Done': 1, 'Swimmers': 1, 'Pureza': 1, 'Envase': 1, 'Certificado': 1, 'Qcy': 1, 'Kosmo': 1, 'Glaciar': 1, 'hybrid': 1, 'Sdsqxaf': 1, 'Glide': 1, 'rojo': 1, 'Ngv': 1, 'Abs': 1, 'Nbr': 1, 'Archivos': 1, 'mbp': 1, 'Macizas': 1, 'Microsd': 1, 'Roscas': 1, 'Ejercita': 1, 'Tobillos': 1, 'Mide': 1, 'Btx': 1, 'Bosu': 1, 'Kinesiologia': 1, 'Semiesfera': 1, 'Lums': 1, 'Canbus': 1, 'Error': 1, 'Xsara': 1, 'Adaptadores': 1, 'Astra': 1, 'Embrague': 1, 'Imotion': 1, 'Voyage': 1, 'nene': 1, 'Chiquito': 1, 'Pasion': 1, 'Lorena': 1, 'Pronsky': 1, 'Igual': 1, 'Curame': 1, 'George': 1, 'Orwell': 1, 'Caos': 1, 'Magali': 1, 'Tajes': 1, 'Pobre': 1, 'Piense': 1, 'Hagase': 1, 'Historias': 1, 'Divan': 1, 'Diez': 1, 'Relatos': 1, 'Lucy': 1, 'Sherry': 1, 'Digi': 1, 'Crono': 1, 'Clyde': 1, 'Slimfit': 1, 'Ultima': 1, 'Importad': 1, 'Hanball': 1, 'Aerobics': 1, 'Jacket': 1, 'Hoddies': 1, 'Escuela': 1, 'Joguin': 1, 'Colombiano': 1, 'Son': 1, 'Excelso': 1, 'Bacano': 1, 'Bocnat': 1, 'Supremo': 1, 'Guanes': 1, 'Playeros': 1, 'Rotos': 1, 'Rigidos': 1, 'Pijamas': 1, 'Simpson': 1, 'olarga': 1, 'Enterizas': 1, 'Ejesruta': 1, 'edr': 1, 'Inoxid': 1, 'Cebadora': 1, 'Pilon': 1, 'Complementario': 1, 'Absorcion': 1, 'Masterbox': 1, 'Asus': 1, 'gtx': 1, 'gaming': 1, 'Kumara': 1, 'Engranaje': 1, 'Estriado': 1, 'dientes': 1, 'dsolido': 1, 'Litetrax': 1, 'Isofix': 1, 'Mellizo': 1, 'Capotina': 1, 'Neceser': 1, 'Economic': 1, 'Panasonic': 1, 'Enaloop': 1, 'Lenspen': 1, 'Drls': 1, 'Kirby': 1, 'Brolly': 1, 'Nanguang': 1, 'Flashes': 1, 'Txpara': 1, 'bateria': 1, 'Ttv': 1, 'Reflectora': 1, 'Ittl': 1, 'Nii': 1, 'Visico': 1, 'Secciones': 1, 'Escurre': 1, 'Siliconados': 1, 'Cotorno': 1, 'barbero': 1, 'Buds': 1, 'Bersa': 1, 'Thunder': 1, 'Tpr': 1, 'Cachas': 1, 'Nacionales': 1, 'Flejes': 1, 'Enredados': 1, 'Gastrono': 1, 'Revestido': 1, 'Placar': 1, 'Ptas': 1, 'Generador': 1, 'Estetico': 1, 'Bacterias': 1, 'Alergia': 1, 'Oxzono': 1, 'Cafu': 1, 'Cafuplus': 1, 'Romania': 1, 'Merchandising': 1, 'Jugera': 1, 'Mxgp': 1, 'Squadrons': 1, 'Wrc': 1, 'Champnship': 1, 'Nextflix': 1, 'Powera': 1, 'Gamecube': 1, 'Stars': 1, 'Fifine': 1, 'Mount': 1, 'Elefir': 1, 'Guita': 1, 'Pickup': 1, 'Unnic': 1, 'Panque': 1, 'Durax': 1, 'Masc': 1, 'Cerezo': 1, 'Carambola': 1, 'Corp': 1, 'Likes': 1, 'Fem': 1, 'free': 1, 'Proprio': 1, 'Pulpas': 1, 'manos': 1, 'Sensitiva': 1, 'dos': 1, 'Durlock': 1, 'Drywall': 1, 'Vel': 1, 'Suc': 1, 'Truck': 1, 'Kermesse': 1, 'Cerveceria': 1, 'Bits': 1, 'Penny': 1, 'Shox': 1, 'Paralelas': 1, 'Fondos': 1, 'Elevador': 1, 'Kva': 1, 'Voz': 1, 'Guardaganado': 1, 'Galvanizada': 1, 'Property': 1, 'Umbrella': 1, 'Academy': 1, 'Wizard': 1, 'Entrenador': 1, 'Tonifica': 1, 'Insecto': 1, 'Repelentes': 1, 'Bebidas': 1, 'Espanta': 1, 'Pimenteros': 1, 'Inalmbrico': 1, 'Sordera': 1, 'Blindadora': 1, 'Caidas': 1, 'Manzanas': 1, 'Mesad': 1, 'Wood': 1, 'French': 1, 'Xml': 1, 'Sacabollo': 1, 'Abolladuras': 1, 'Granizo': 1, 'Pelapapa': 1, 'Gomitas': 1, 'Electrocuta': 1, 'Escalador': 1, 'Eliptico': 1, 'Toilet': 1, 'Churrera': 1, 'Churro': 1, 'Parrilera': 1, 'Fiambreria': 1, 'Aceitera': 1, 'Vinagrera': 1, 'Estanco': 1, 'Salero': 1, 'Heladeria': 1, 'Bochera': 1, 'Mosaiquismo': 1, 'Codos': 1, 'Fritas': 1, 'Espiropapa': 1, 'Velones': 1, 'Fuego': 1, 'Aircross': 1, 'Cortes': 1, 'Embellecedor': 1, 'Mtc': 1, 'Radiador': 1, 'Zapata': 1, 'Wstandard': 1, 'Siliconas': 1, 'Perfumadas': 1, 'slider': 1, 'Poled': 1, 'Ama': 1, 'Reactor': 1, 'Sliders': 1, 'Pick': 1, 'Xre': 1, 'Zanella': 1, 'Tricargo': 1, 'Dalt': 1, 'Manubrio': 1, 'Gixxer': 1, 'Mda': 1, 'Espejada': 1, 'Portaequipaje': 1, 'Carter': 1, 'Demon': 1, 'Courier': 1, 'Rockstar': 1, 'Tubular': 1, 'Biz': 1, 'Raptor': 1, 'Speedlife': 1, 'Ventosa': 1, 'Vcan': 1, 'Espejado': 1, 'Opaco': 1, 'Solco': 1, 'Titan': 1, 'Race': 1, 'Retenes': 1, 'Mct': 1, 'Diet': 1, 'Eritritol': 1, 'Brain': 1, 'Nootropico': 1, 'Aumenta': 1, 'Concentracion': 1, 'Seed': 1, 'Epm': 1, 'Purificadora': 1, 'Aquatal': 1, 'Aprobada': 1, 'Matrikx': 1, 'Cto': 1, 'Domve': 1, 'Vend': 1, 'Espaldera': 1, 'Dema': 1, 'Galponero': 1, 'Diamond': 1, 'Escobillon': 1, 'Condor': 1, 'Lucca': 1, 'Harmonia': 1, 'Systems': 1, 'uab': 1, 'Flower': 1, 'track': 1, 'Otto': 1, 'Spartan': 1, 'Jhonny': 1, 'Lugano': 1, 'Forehand': 1, 'Zapatiilas': 1, 'Mane': 1, 'Index': 1, 'Element': 1, 'Breed': 1, 'Oxide': 1, 'Exact': 1, 'Zap': 1, 'Rafa': 1, 'gold': 1, 'Fotoluminiscente': 1, 'del': 1, 'Canal': 1, 'Mural': 1, 'Mecedor': 1, 'Posabrazos': 1, 'Camperita': 1, 'Labradas': 1, 'Bando': 1, 'Micromedias': 1, 'Tinto': 1, 'Frizada': 1, 'Frunce': 1, 'Micromasaje': 1, 'Tbu': 1, 'Siglo': 1, 'brida': 1, 'origina': 1, 'Fornax': 1, 'Ariston': 1, 'Italianas': 1, 'Fortte': 1, 'Medicion': 1, 'Twins': 1, 'Azules': 1, 'Cougar': 1, 'Outdoors': 1, 'Vanity': 1, 'Xtrike': 1, 'Humanos': 1, 'Ease': 1, 'pita': 1, 'Kitchen': 1, 'relieve': 1, 'canilla': 1, 'Verdulero': 1, 'Barrenar': 1, 'Cold': 1, 'Drink': 1, 'Flowboard': 1, 'Skateboard': 1, 'Dinamica': 1, 'Sentido': 1, 'Aperitivos': 1, 'Nadia': 1, 'Triana': 1, 'Maribel': 1, 'Connie': 1, 'Sega': 1, 'Genesis': 1, 'Bit': 1, 'Inova': 1, 'Grafitti': 1, 'Simpre': 1, 'Presta': 1, 'alguicida': 1, 'Grati': 1, 'Alguicida': 1, 'Uniko': 1, 'Concetrada': 1, 'Rinde': 1, 'Concentradas': 1, 'Desodorantes': 1, 'Trigal': 1, 'Cibles': 1, 'Zafiro': 1, 'Capullo': 1, 'Crochet': 1, 'Triage': 1, 'Galon': 1, 'Loneta': 1, 'Europercal': 1, 'fluido': 1, 'Limpio': 1, 'Parodontax': 1, 'Protection': 1, 'Intolerancia': 1, 'Perfection': 1, 'Eucalyptus': 1, 'Freeze': 1, 'Menthol': 1, 'Paradise': 1, 'Reinforced': 1, 'Defense': 1, 'salud': 1, 'Superfloss': 1, 'Satinada': 1, 'Maternidad': 1, 'Fresantastico': 1, 'Encias': 1, 'Salulables': 1, 'Herbal': 1, 'Tranquilas': 1, 'Blancura': 1, 'Smiles': 1, 'Expanding': 1, 'Chlorhexidine': 1, 'Picks': 1, 'Cleanance': 1, 'Airless': 1, 'Purificante': 1, 'Peppermint': 1, 'Drops': 1, 'frutti': 1, 'remoto': 1, 'Escritura': 1, 'Ewrite': 1, 'Combinados': 1, 'Tvled': 1, 'Bordemetalico': 1, 'marcadores': 1, 'borde': 1, 'Fitoinsecticida': 1, 'Trips': 1, 'Aranas': 1, 'Calibrar': 1, 'Haze': 1, 'Acondiciona': 1, 'Albahaca': 1, 'Wrap': 1, 'Zeus': 1, 'Rapids': 1, 'Plaga': 1, 'Acidez': 1, 'Cuatro': 1, 'Bokashi': 1, 'Preventivo': 1, 'Growblock': 1, 'Aromatica': 1, 'Peperina': 1, 'Armadora': 1, 'Scrog': 1, 'Salamancagrow': 1, 'Kill': 1, 'Plagas': 1, 'Phitoclone': 1, 'Enraizamiento': 1, 'Esqueje': 1, 'Mixophit': 1, 'Achicoria': 1, 'Radicheta': 1, 'Platense': 1, 'Soplada': 1, 'Organic': 1, 'Melaca': 1, 'Brocoli': 1, 'Rosales': 1, 'Follaje': 1, 'Hormonas': 1, 'Gallina': 1, 'Regal': 1, 'Calc': 1, 'area': 1, 'Hvlp': 1, 'hasta': 1, 'Rayovac': 1, 'Stamina': 1, 'Xtra': 1, 'Technology': 1, 'Senora': 1, 'Mol': 1, 'Gajos': 1, 'Camionera': 1, 'Snapbacks': 1, 'Beanie': 1, 'Fedora': 1, 'Tango': 1, 'beige': 1, 'negra': 1, 'Carcasa': 1, 'Sustancias': 1, 'Activavo': 1, 'Heladara': 1, 'Recambio': 1, 'Etapas': 1, 'Pozo': 1, 'Granular': 1, 'Gpd': 1, 'Bajomesada': 1, 'Redondas': 1, 'Procesadora': 1, 'Cafeteras': 1, 'Saeco': 1, 'Poemia': 1, 'Via': 1, 'Veneto': 1, 'Mixer': 1, 'Bodygroom': 1, 'Teca': 1, 'Hostia': 1, 'Labrada': 1, 'Ihs': 1, 'italy': 1, 'Pio': 1, 'Reliquia': 1, 'made': 1, 'Altar': 1, 'Misa': 1, 'Relaja': 1, 'Menstrual': 1, 'Espatulas': 1, 'Comedones': 1, 'Revolvedora': 1, 'Bolillos': 1, 'Porcela': 1, 'Versace': 1, 'Fipor': 1, 'Spark': 1, 'Vende': 1, 'Comercio': 1, 'Udon': 1, 'Precocidos': 1, 'Lotte': 1, 'Rellenas': 1, 'Vietnam': 1, 'Tailandes': 1, 'Maekrua': 1, 'Instantaneos': 1, 'Unif': 1, 'Caramelos': 1, 'Duros': 1, 'Morinaga': 1, 'Btons': 1, 'cilindro': 1, 'separador': 1, 'funda': 1, 'Plagiocefalia': 1, 'Cojin': 1, 'Sleeptime': 1, 'Viscoelasticas': 1, 'Viscolastica': 1, 'Sorround': 1, 'Potentes': 1, 'Upgrade': 1, 'Alcancia': 1, 'Barman': 1, 'Cerealero': 1, 'Dactilar': 1, 'Huellas': 1, 'Usos': 1, 'Year': 1, 'Descanso': 1, 'Village': 1, 'Polycotton': 1, 'Camuflaje': 1, 'Cardigans': 1, 'Ultrapura': 1, 'profesional': 1, 'Baba': 1, 'Sagrado': 1, 'vainilla': 1, 'Fields': 1, 'Alpes': 1, 'Hit': 1, 'Era': 1, 'Puras': 1, 'Hermosa': 1, 'Poderoso': 1, 'Supersilencio': 1, 'Ultrapuras': 1, 'Tercipelo': 1, 'Dol': 1, 'Extraible': 1, 'Coza': 1, 'Licuados': 1, 'Botellon': 1, 'Servir': 1, 'Cacerolas': 1, 'Irigoy': 1, 'Dolly': 1, 'Ordena': 1, 'Jarros': 1, 'Macarones': 1, 'Faceteado': 1, 'Jarron': 1, 'Trago': 1, 'Copetinero': 1, 'Pinot': 1, 'Central': 1, 'Taxi': 1, 'Remis': 1, 'Reutil': 1, 'Acuaticas': 1, 'Kayak': 1, 'Oryx': 1, 'Cromad': 1, 'Deport': 1, 'Semichupin': 1, 'Depor': 1, 'Porosa': 1, 'Goteo': 1, 'Sudoracion': 1, 'Ruleta': 1, 'Cosmicos': 1, 'tripode': 1, 'base': 1, 'top': 1, 'Bajos': 1, 'Streamers': 1, 'Envolvente': 1, 'Mafia': 1, 'Definitive': 1, 'Remastered': 1, 'Ghosts': 1, 'Thef': 1, 'Plants': 1, 'Garden': 1, 'Warfare': 1, 'Dogs': 1, 'Biohazard': 1, 'Editon': 1, 'Joy': 1, 'Legacy': 1, 'Steve': 1, 'Magnetic': 1, 'Hedgehog': 1, 'Axila': 1, 'Cavado': 1, 'Durabilidad': 1, 'Cuatriciclo': 1, 'Planas': 1, 'Cnc': 1, 'Filos': 1, 'Microdermoabrion': 1, 'Analambrico': 1, 'Embutidora': 1, 'Ultimos': 1, 'Snekers': 1, 'Busso': 1, 'Artplast': 1, 'visor': 1, 'Acuatica': 1, 'Import': 1, 'Rin': 1, 'Pantorrillera': 1, 'Gemelera': 1, 'manija': 1, 'Urquiza': 1, 'Pagos': 1, 'estuche': 1, 'Ebro': 1, 'Aletas': 1, 'Entrenamieto': 1, 'Haipai': 1, 'crossfit': 1, 'Antiestallido': 1, 'Aleta': 1, 'Amortiguacion': 1, 'Reusable': 1, 'Champ': 1, 'Gmp': 1, 'Sentadillas': 1, 'dpi': 1, 'soporta': 1, 'Multipuerto': 1, 'Lin': 1, 'Cargadora': 1, 'gbps': 1, 'Linux': 1, 'Usbc': 1, 'Blacks': 1, 'Microperlas': 1, 'Chichonera': 1, 'Trenzada': 1, 'Arabian': 1, 'Citrus': 1, 'Weleda': 1, 'celiaco': 1, 'Recetas': 1, 'Benjamin': 1, 'Eps': 1, 'Cuellito': 1, 'tramontina': 1, 'Stht': 1, 'Creativa': 1, 'Phx': 1, 'rodillo': 1, 'Adiabatic': 1, 'filtros': 1, 'kgverde': 1, 'Poliuretanica': 1, 'Gill': 1, 'sol': 1, 'Plastifican': 1, 'Simultanio': 1, 'Forja': 1, 'Venier': 1, 'Cocido': 1, 'Adhesivas': 1, 'Suprabon': 1, 'gruesas': 1, 'Demarcatoria': 1, 'Tendero': 1, 'Derrame': 1, 'Barry': 1, 'Dig': 1, 'Morel': 1, 'Europa': 1, 'Diesel': 1, 'Anadigi': 1, 'casa': 1, 'Pamela': 1, 'Herraje': 1, 'Arbolito': 1, 'Tirante': 1, 'Perilla': 1, 'Decorada': 1, 'funcion': 1, 'Rombos': 1, 'Prisma': 1, 'Piola': 1, 'Ludomatic': 1, 'Minibeat': 1, 'Rockers': 1, 'Beat': 1, 'vehiculos': 1, 'Cavada': 1, 'Transparencias': 1, 'Mirosol': 1, 'Chupito': 1, 'Spinner': 1, 'Beber': 1, 'Shots': 1, 'Pompones': 1, 'Magicos': 1, 'bunchems': 1, 'Ster': 1, 'Pom': 1, 'Armas': 1, 'Fusil': 1, 'Carab': 1, 'Hachuela': 1, 'Tacforce': 1, 'Rompecristal': 1, 'Xarg': 1, 'Aserrado': 1, 'Galleta': 1, 'Pyrex': 1, 'Pradines': 1, 'Espiga': 1, 'Carniceria': 1, 'Postre': 1, 'Ganesha': 1, 'Tallada': 1, 'Vasijas': 1, 'Suunto': 1, 'Hiperpacks': 1, 'Indasec': 1, 'Goodnight': 1, 'Blueshark': 1, 'Gamecolor': 1, 'Deslizante': 1, 'Pegaso': 1, 'Dogo': 1, 'Corrediza': 1, 'Dsc': 1, 'Paradox': 1, 'Cem': 1, 'mopas': 1, 'Plastic': 1, 'lampazo': 1, 'Portapalos': 1, 'Mop': 1, 'Franela': 1, 'pilas': 1, 'escurridor': 1, 'Absorvente': 1, 'Duradera': 1, 'Cuelgapalos': 1, 'Escribir': 1, 'Deja': 1, 'Marc': 1, 'Enrollador': 1, 'Parra': 1, 'Ballet': 1, 'Danza': 1, 'Masillite': 1, 'Foscan': 1, 'Maf': 1, 'Picasso': 1, 'Hdi': 1, 'Journey': 1, 'Tiida': 1, 'Celica': 1, 'Levas': 1, 'Tsi': 1, 'Gates': 1, 'Cimi': 1, 'Paty': 1, 'Zungon': 1, 'Aquaman': 1, 'Kapping': 1, 'Tribunlaes': 1, 'Antidesliza': 1, 'Pus': 1, 'Libret': 1, 'Molan': 1, 'Brisa': 1, 'Vilna': 1, 'Tejidas': 1, 'Ecologi': 1, 'Raven': 1, 'Aruna': 1, 'Feli': 1, 'Acolchados': 1, 'Lira': 1, 'Berna': 1, 'Lula': 1, 'Tici': 1, 'Yamila': 1, 'Propiocepcion': 1, 'mancuerna': 1, 'Weslo': 1, 'Cst': 1, 'Puchin': 1, 'Gimnasios': 1, 'sublimar': 1, 'Cardado': 1, 'Pulgada': 1, 'Iram': 1, 'Viscoelastico': 1, 'Chunky': 1, 'Pantubotas': 1, 'Australianas': 1, 'Ranitas': 1, 'Bodie': 1, 'meses': 1, 'Redondos': 1, 'Galvanizado': 1, 'Breeze': 1, 'Photoacting': 1, 'Allergy': 1, 'gel': 1, 'Sensibles': 1, 'Multiplier': 1, 'Ligera': 1, 'crema': 1, 'Stretching': 1, 'Wheel': 1, 'pzs': 1, 'bordes': 1, 'Distribuidores': 1, 'Oficiales': 1, 'Dune': 1, 'Freedom': 1, 'Rain': 1, 'Boot': 1, 'Flask': 1, 'Tripack': 1, 'Madrid': 1, 'Nieves': 1, 'Navy': 1, 'Luxe': 1, 'Metalizada': 1, 'Eslinga': 1, 'Rescate': 1, 'Corsario': 1, 'Livianito': 1, 'Termina': 1, 'Night': 1, 'Pocos': 1, 'Saha': 1, 'Clara': 1, 'Orvesize': 1, 'Rotura': 1, 'Luana': 1, 'Joggineta': 1, 'Nairovi': 1, 'elastizado': 1, 'Suelto': 1, 'Roto': 1, 'Demi': 1, 'Babilonia': 1, 'Repta': 1, 'Estatico': 1, 'Mrs': 1, 'cream': 1, 'Acdc': 1, 'Fabr': 1, 'Nadir': 1, 'Enterrable': 1, 'Coronet': 1, 'estetoscopio': 1, 'Crudas': 1, 'Fizz': 1, 'Pedales': 1, 'Jerk': 1, 'Hibiscus': 1, 'Ayurvedica': 1, 'Thailandia': 1, 'Rice': 1, 'Ajos': 1, 'Dari': 1, 'Ginger': 1, 'Topical': 1, 'Culantro': 1, 'Gauther': 1, 'Miso': 1, 'Hinomoto': 1, 'Shiro': 1, 'Aka': 1, 'Durazno': 1, 'Vrink': 1, 'Koshihikari': 1, 'Garam': 1, 'Reforzar': 1, 'Defensas': 1, 'Impecable': 1, 'Xkg': 1, 'Alubia': 1, 'Char': 1, 'Siu': 1, 'Lester': 1, 'Blonde': 1, 'Ale': 1, 'Reducido': 1, 'Oscura': 1, 'Tostada': 1, 'Harissa': 1, 'Ostra': 1, 'Blancheado': 1, 'Cacahuate': 1, 'Ajinomoto': 1, 'Glutamato': 1, 'Mutti': 1, 'Passata': 1, 'Grasas': 1, 'Trans': 1, 'Delivery': 1, 'Reino': 1, 'Tandoori': 1, 'Bronsol': 1, 'Vitaminico': 1, 'Carotenos': 1, 'Bronceado': 1, 'Pisingallo': 1, 'Cayena': 1, 'Naccato': 1, 'Comensal': 1, 'Ranchera': 1, 'Azahar': 1, 'chtaura': 1, 'Longa': 1, 'Straus': 1, 'Linz': 1, 'Venere': 1, 'Bulto': 1, 'Monkey': 1, 'Cajun': 1, 'Escamas': 1, 'Teriyaki': 1, 'Arrolladitos': 1, 'Empanaditas': 1, 'Chinas': 1, 'verdura': 1, 'Desierto': 1, 'Hoisin': 1, 'Levadura': 1, 'Mauripan': 1, 'Burger': 1, 'Hass': 1, 'Ensalada': 1, 'Sakura': 1, 'gluten': 1, 'Arrocin': 1, 'Trufa': 1, 'Atun': 1, 'Lomitos': 1, 'Cumana': 1, 'Chtaura': 1, 'Choco': 1, 'Salsas': 1, 'Caesar': 1, 'Vinagretta': 1, 'Rub': 1, 'Mantquilla': 1, 'Pate': 1, 'Girgolas': 1, 'Kaiken': 1, 'Paprika': 1, 'life': 1, 'Vinaigrette': 1, 'Cows': 1, 'Mexicanos': 1, 'Bayos': 1, 'Palmitos': 1, 'Terramare': 1, 'Veganas': 1, 'Brownie': 1, 'Enteras': 1, 'Restaurantes': 1, 'Jin': 1, 'Maruchan': 1, 'Coreana': 1, 'Colorados': 1, 'Cramberry': 1, 'Castanas': 1, 'Caju': 1, 'Gari': 1, 'Chipotle': 1, 'Woks': 1, 'Mirin': 1, 'Kong': 1, 'Yen': 1, 'Foods': 1, 'Despinar': 1, 'Pescados': 1, 'Espina': 1, 'Laminas': 1, 'Dip': 1, 'Aderezo': 1, 'Gustos': 1, 'Clovis': 1, 'ancienne': 1, 'Finger': 1, 'Food': 1, 'Kale': 1, 'Garofalo': 1, 'Orecchiette': 1, 'Mung': 1, 'Hondashi': 1, 'Caldo': 1, 'Buenos': 1, 'Aires': 1, 'Mae': 1, 'Ploy': 1, 'Panero': 1, 'Clausthaler': 1, 'Unfiltered': 1, 'Porron': 1, 'Modare': 1, 'Matelaseado': 1, 'Mullido': 1, 'Exigentes': 1, 'Antillitas': 1, 'Vista': 1, 'Calzonzillo': 1, 'Embutido': 1, 'Jardinera': 1, 'Ambo': 1, 'Mercerizado': 1, 'Boselli': 1, 'Calzonciilo': 1, 'Camisera': 1, 'larga': 1, 'largo': 1, 'Adelante': 1, 'Casaca': 1, 'Farmaceutica': 1, 'Alacena': 1, 'Barniz': 1, 'Preference': 1, 'Somier': 1, 'Caballete': 1, 'Deck': 1, 'Frut': 1, 'Volcable': 1, 'Percheros': 1, 'Taburete': 1, 'cafetera': 1, 'Descifrar': 1, 'Earforce': 1, 'Juguemos': 1, 'rummy': 1, 'Trabado': 1, 'Bracitos': 1, 'Flotadores': 1, 'Mondo': 1, 'Cocinita': 1, 'Numerados': 1, 'Sumergibles': 1, 'Acitvadora': 1, 'Blondme': 1, 'Restauradora': 1, 'Niacinamida': 1, 'Estrias': 1, 'Desmaquilla': 1, 'Descongestiva': 1, 'Zanahoria': 1, 'Acida': 1, 'Oclisam': 1, 'Vera': 1, 'Ablandadora': 1, 'Reafirmante': 1, 'Criogeno': 1, 'Bioregenerador': 1, 'Parabenos': 1, 'Melisa': 1, 'Fito': 1, 'Sulfatos': 1, 'Elastina': 1, 'Reductores': 1, 'Antiseptica': 1, 'Desconfracturantes': 1, 'Nahla': 1, 'Brilloso': 1, 'Shine': 1, 'Plumeti': 1, 'Patinestampada': 1, 'Kaorikawai': 1, 'Jirafa': 1, 'Lovers': 1, 'Tiny': 1, 'Tots': 1, 'Jilong': 1, 'Lavaplato': 1, 'Tri': 1, 'Destilado': 1, 'Comestible': 1, 'Costado': 1, 'jorg': 1, 'Birken': 1, 'souvenir': 1, 'mayorista': 1, 'Empresa': 1, 'Hibrida': 1, 'Cilindro': 1, 'Lib': 1, 'Tbc': 1, 'Dimerizable': 1, 'Yarlux': 1, 'Tablas': 1, 'Limonada': 1, 'Silbadora': 1, 'Yami': 1, 'Marilin': 1, 'Birk': 1, 'Boms': 1, 'Decorativas': 1, 'Sinovision': 1, 'nvr': 1, 'Joggings': 1, 'Leggin': 1, 'Modalibre': 1, 'Xespeciales': 1, 'Mensaje': 1, 'Pelusas': 1, 'Cansancio': 1, 'Forclean': 1, 'Esquina': 1, 'Segurida': 1, 'Sorpresas': 1, 'Hechizadas': 1, 'Animalito': 1, 'Caracol': 1, 'Degradable': 1, 'Doodle': 1, 'Busca': 1, 'Colorea': 1, 'Escurridora': 1, 'Rapimate': 1, 'Machos': 1, 'Milimetricos': 1, 'Gases': 1, 'Ruhlmann': 1, 'Kuwait': 1, 'Griffin': 1, 'Lupo': 1, 'Piyama': 1, 'Culote': 1, 'Culot': 1, 'Promese': 1, 'Protegete': 1, 'Salir': 1, 'Drenaje': 1, 'Linfatico': 1, 'Respirable': 1, 'Fregona': 1, 'Electrificadores': 1, 'Otr': 1, 'speln': 1, 'Amper': 1, 'Electrificado': 1, 'Alambres': 1, 'Electrific': 1, 'Fotovoltaico': 1, 'Fotovoltaic': 1, 'Aislador': 1, 'Banfield': 1, 'Esgrima': 1, 'brazalete': 1, 'hombre': 1, 'Salvemos': 1, 'Vidas': 1, 'Aborto': 1, 'Embarazadas': 1, 'Imantada': 1, 'Didacticas': 1, 'Clap': 1, 'Mandalas': 1, 'Imaginacion': 1, 'Fantasticos': 1, 'Pri': 1, 'Mental': 1, 'Cualquier': 1, 'Edad': 1, 'Klorane': 1, 'sport': 1, 'Salpica': 1, 'Atrapa': 1, 'metros': 1, 'Hipoacusicos': 1, 'Axon': 1, 'Sordo': 1, 'Desacarozador': 1, 'Nuez': 1, 'Adelgazantes': 1, 'Metabloismo': 1, 'Hoteleras': 1, 'Vicoelastica': 1, 'hilos': 1, 'Dobby': 1, 'Bordadas': 1, 'Blocapuerta': 1, 'Manifold': 1, 'Brida': 1, 'Engranajes': 1, 'Cwd': 1, 'Amortiguador': 1, 'Verdes': 1, 'Pje': 1, 'Bloca': 1, 'Whirlpool': 1, 'Wfe': 1, 'Vias': 1, 'Wmph': 1, 'Blocapuertas': 1, 'Maxx': 1, 'General': 1, 'Lsge': 1, 'Actuador': 1, 'Carbones': 1, 'Mabe': 1, 'nectar': 1, 'maracuja': 1, 'pitanga': 1, 'ucuuba': 1, 'madeira': 1, 'acai': 1, 'Marian': 1, 'Hidratantes': 1, 'Corporales': 1, 'Lvdm': 1, 'Ecosistema': 1, 'Lightspeed': 1, 'Jabali': 1, 'Wired': 1, 'Zom': 1, 'Espumada': 1, 'Anywhere': 1, 'Flounder': 1, 'mtrs': 1, 'Recorte': 1, 'Eams': 1, 'Garantidas': 1, 'Balcon': 1, 'Lechuza': 1, 'Satisfaccion': 1, 'Poopsie': 1, 'Slime': 1, 'Coleccionable': 1, 'Explorador': 1, 'Goo': 1, 'Jit': 1, 'Cortando': 1, 'Creek': 1, 'Discover': 1, 'Gmpz': 1, 'Binoculares': 1, 'Recubiertos': 1, 'Dherma': 1, 'Science': 1, 'Dron': 1, 'Acno': 1, 'Sos': 1, 'Idraet': 1, 'Secativo': 1, 'Setting': 1, 'Desmaquillante': 1, 'Microblading': 1, 'Calibre': 1, 'Nudes': 1, 'Smoky': 1, 'Bioaqua': 1, 'rostro': 1, 'Jabonoso': 1, 'Detoxify': 1, 'Cleanser': 1, 'Silicio': 1, 'Descongestivo': 1, 'size': 1, 'Sucker': 1, 'Blackhead': 1, 'Nyx': 1, 'Lip': 1, 'Balm': 1, 'Sculpting': 1, 'Prep': 1, 'Smoothing': 1, 'Bronzer': 1, 'Borcha': 1, 'Abanico': 1, 'Dmae': 1, 'Afirmante': 1, 'Collagen': 1, 'Principio': 1, 'Rubor': 1, 'Epiroller': 1, 'Juanete': 1, 'linterna': 1, 'Room': 1, 'Palancas': 1, 'Rizoma': 1, 'Palma': 1, 'Seagrass': 1, 'Ecologic': 1, 'Cigarrillo': 1, 'Marilyn': 1, 'Puff': 1, 'sillas': 1, 'Dongle': 1, 'Cuarta': 1, 'Matrisur': 1, 'Flexometro': 1, 'Agrimensor': 1, 'Agrimensura': 1, 'cal': 1, 'Deportiv': 1, 'damas': 1, 'palitos': 1, 'Flautas': 1, 'Revolver': 1, 'Credito': 1, 'Trendbag': 1, 'Sonaxpro': 1, 'Cortahilo': 1, 'Reforzad': 1, 'Eveready': 1, 'Libr': 1, 'Ortopedico': 1, 'Amasar': 1, 'Paragua': 1, 'Destelladora': 1, 'Tornos': 1, 'Pedicura': 1, 'Hidraulico': 1, 'Trincheta': 1, 'Ferreteria': 1, 'Libreria': 1, 'Gusano': 1, 'Centimetro': 1, 'Valijas': 1, 'Shuriken': 1, 'Ninja': 1, 'Blisters': 1, 'Alfiler': 1, 'Alfileres': 1, 'Hilachas': 1, 'Cortahilos': 1, 'Bencinas': 1, 'Termometros': 1, 'Poker': 1, 'Maderas': 1, 'coffe': 1, 'open': 1, 'cafe': 1, 'Mirascreen': 1, 'Mejores': 1, 'Precios': 1, 'Estan': 1, 'Lustrar': 1, 'Obsequio': 1, 'Pavas': 1, 'Luminoso': 1, 'Texto': 1, 'Punteros': 1, 'Boliches': 1, 'Bailables': 1, 'vtaxmayor': 1, 'Aplicadora': 1, 'Blindado': 1, 'Afiladores': 1, 'Garlopin': 1, 'Cortacallos': 1, 'Moteado': 1, 'Chalecos': 1, 'Pastelera': 1, 'Kaopsimport': 1, 'Torteras': 1, 'Extragrande': 1, 'Calculadoras': 1, 'Kenko': 1, 'Shuffle': 1, 'Indio': 1, 'Encendedores': 1, 'Flambeadores': 1, 'Afiladora': 1, 'Fix': 1, 'Tenir': 1, 'Destine': 1, 'Boliche': 1, 'Delfin': 1, 'barbijo': 1, 'Perfil': 1, 'Densidades': 1, 'Fregadero': 1, 'Limpiavidrios': 1, 'Escobilla': 1, 'Kilometros': 1, 'Funci': 1, 'Especieros': 1, 'Embudo': 1, 'Ambulante': 1, 'Almacena': 1, 'Estimulante': 1, 'Tpm': 1, 'Ferti': 1, 'Lit': 1, 'Turba': 1, 'Vermiculita': 1, 'Bud': 1, 'Acaricida': 1, 'Mambo': 1, 'Underground': 1, 'Raices': 1, 'Tainer': 1, 'Partes': 1, 'Quemado': 1, 'Hormiga': 1, 'Ciclo': 1, 'Ugro': 1, 'Enraizante': 1, 'Clonaste': 1, 'Cultivate': 1, 'Banana': 1, 'Babosas': 1, 'Hortal': 1, 'Mirex': 1, 'Hormiguicida': 1, 'Mejorador': 1, 'Fundente': 1, 'Arthrodont': 1, 'Clorhexidina': 1, 'Caries': 1, 'Fluoride': 1, 'Dermopediatrico': 1, 'Tic': 1, 'tac': 1, 'Respectissime': 1, 'hogar': 1, 'Corderoy': 1, 'Temp': 1, 'Inyectada': 1, 'Xlarge': 1, 'Hamster': 1, 'Sirio': 1, 'Dermapet': 1, 'Mordida': 1, 'Mon': 1, 'Ami': 1, 'Pethome': 1, 'Sustituto': 1, 'Lacteo': 1, 'Perrolac': 1, 'Canita': 1, 'Gatitos': 1, 'Hurones': 1, 'Chinchilla': 1, 'Cucha': 1, 'Dog': 1, 'Sticks': 1, 'Eheim': 1, 'Piedrita': 1, 'Birba': 1, 'carne': 1, 'Iriz': 1, 'Savic': 1, 'Sift': 1, 'Marlo': 1, 'Choclo': 1, 'Bed': 1, 'Sepia': 1, 'Canarios': 1, 'Agapornis': 1, 'Cocotillas': 1, 'Aglutinantes': 1, 'Canada': 1, 'Litter': 1, 'Prom': 1, 'Sata': 1, 'Kitantifrizz': 1, 'cofia': 1, 'Calvin': 1, 'Yago': 1, 'Atractivo': 1, 'Narchi': 1, 'Practifrezzer': 1, 'Fiambrera': 1, 'Superfrezzer': 1, 'Sublimado': 1, 'Presidente': 1, 'Director': 1, 'Jamon': 1, 'Serrano': 1, 'Romance': 1, 'Parboil': 1, 'Pasa': 1, 'Cormillot': 1, 'Dulcor': 1, 'ferula': 1, 'Operatoria': 1, 'Inmovilizadora': 1, 'Capilatis': 1, 'Ortiga': 1, 'Hidra': 1, 'Zaleas': 1, 'Linda': 1, 'Titeres': 1, 'Magsafe': 1, 'Ibook': 1, 'Powerbook': 1, 'Batidos': 1, 'Laterales': 1, 'Esquinas': 1, 'Cochesitos': 1, 'Portavasos': 1, 'Cochecitos': 1, 'Escaner': 1, 'Automotor': 1, 'Odb': 1, 'Elm': 1, 'Torque': 1, 'Btaudio': 1, 'Skip': 1, 'Antimascotas': 1, 'Cableado': 1, 'sirena': 1, 'Magnetodinamica': 1, 'Mercadoenvios': 1, 'Estamos': 1, 'Desarrollo': 1, 'html': 1, 'Css': 1, 'Maestro': 1, 'sega': 1, 'nintendo': 1, 'nivel': 1, 'celulares': 1, 'tablet': 1, 'impresoras': 1, 'maquillaje': 1, 'Sastreria': 1, 'Actualizable': 1, 'Java': 1, 'Completisimo': 1, 'Desde': 1, 'Cero': 1, 'Electricista': 1, 'albanileria': 1, 'electricidad': 1, 'contruccion': 1, 'Resalta': 1, 'Binche': 1, 'Vallas': 1, 'Pizarras': 1, 'combo': 1, 'Varel': 1, 'Folletos': 1, 'catalogo': 1, 'cono': 1, 'vallas': 1, 'flejes': 1, 'Cortaplumas': 1, 'Quebrada': 1, 'Lideres': 1, 'Amnesia': 1, 'Antienganche': 1, 'Truchas': 1, 'Salmon': 1, 'Trucha': 1, 'Crank': 1, 'Lombricera': 1, 'Metalicos': 1, 'Lettering': 1, 'Anotador': 1, 'Borrables': 1, 'antiempanante': 1, 'Intermitente': 1, 'Bicleta': 1, 'Ventilaciom': 1, 'rinonera': 1, 'Expansible': 1, 'cepillo': 1, 'moto': 1, 'Multiflex': 1, 'Rugoso': 1, 'Desert': 1, 'Codera': 1, 'Corneta': 1, 'Sudor': 1, 'cuatri': 1, 'Tornasolada': 1, 'bocina': 1, 'Hueca': 1, 'Servi': 1, 'Ruleman': 1, 'Cambiable': 1, 'Terrex': 1, 'Curtido': 1, 'Automatizado': 1, 'Paralela': 1, 'Caminar': 1, 'Dorsalera': 1, 'Minigym': 1, 'Depilaciones': 1, 'Citricas': 1, 'Vengadores': 1, 'Rayo': 1, 'Ceylan': 1, 'Luni': 1, 'Seleccionado': 1, 'Pelado': 1, 'Sry': 1, 'Lanka': 1, 'fina': 1, 'mat': 1, 'Volumazing': 1, 'Blackened': 1, 'Attraction': 1, 'Aspen': 1, 'Atado': 1, 'Terapias': 1, 'Estimulac': 1, 'Motrici': 1, 'Spiky': 1, 'Meses': 1, 'Estimulan': 1, 'Sentidos': 1, 'Temas': 1, 'Dinos': 1, 'Bichos': 1, 'Motricid': 1, 'Canutillos': 1, 'Hama': 1, 'Beads': 1, 'Mixtos': 1, 'Midi': 1, 'Planchitos': 1, 'Razonamiento': 1, 'ninos': 1, 'Dida': 1, 'Enhebrado': 1, 'Coord': 1, 'Psicomotricidad': 1, 'Regletas': 1, 'Matematica': 1, 'Calculo': 1, 'Texturada': 1, 'Jardines': 1, 'Enhebrados': 1, 'Medios': 1, 'pinches': 1, 'Estimul': 1, 'Fluorescentes': 1, 'Brillan': 1, 'Asociacion': 1, 'Tiza': 1, 'Nadan': 1, 'Tricap': 1, 'Microtul': 1, 'Chopera': 1, 'Autitos': 1, 'Lancha': 1, 'Exelente': 1, 'Excelentes': 1, 'Camion': 1, 'Compoteras': 1, 'Tapete': 1, 'Sopapitas': 1, 'Loto': 1, 'Launchera': 1, 'Divercion': 1, 'Avion': 1, 'Entretenimiento': 1, 'Inclinar': 1, 'Bebote': 1, 'Bienvenido': 1, 'Nestor': 1, 'Cambio': 1, 'Silueta': 1, 'Pablo': 1, 'Lescano': 1, 'Marshmello': 1, 'Compadretes': 1, 'Mikecrack': 1, 'Mikellino': 1, 'Youtubers': 1, 'Shower': 1, 'Lol': 1, 'Surprise': 1, 'Wolverine': 1, 'Batlle': 1, 'Pokebola': 1, 'Scooby': 1, 'Doo': 1, 'caramelera': 1, 'Petalo': 1, 'Secacubiertos': 1, 'Marmol': 1, 'pcs': 1, 'reutilizable': 1, 'paint': 1, 'Solvente': 1, 'pizarra': 1, 'Gloria': 1, 'Broce': 1, 'Comercial': 1, 'Spazio': 1, 'Universitario': 1, 'Bibliorato': 1, 'Avios': 1, 'Bic': 1, 'Rondo': 1, 'Stic': 1, 'Supermina': 1, 'chupin': 1, 'Pintitas': 1, 'Bacterial': 1, 'Cartelera': 1, 'Poster': 1, 'Pelis': 1, 'Antes': 1, 'Morir': 1, 'Ind': 1, 'Sdsquar': 1, 'Flood': 1, 'Breteles': 1, 'Mordisco': 1, 'Edupet': 1, 'Lpu': 1, 'Florales': 1, 'Kaboom': 1, 'Trap': 1, 'Escondite': 1, 'Swirl': 1, 'Launchergrip': 1, 'Sujetar': 1, 'Peluqueros': 1, 'Estilistas': 1, 'Yoyo': 1, 'Bonus': 1, 'Diabolos': 1, 'Helios': 1, 'Soldados': 1, 'Soldaditos': 1, 'Habilidad': 1, 'Slash': 1, 'Valkyrie': 1, 'Bolillero': 1, 'Grossery': 1, 'Gang': 1, 'Longinus': 1, 'Masters': 1, 'Alfabeto': 1, 'Perinola': 1, 'Bakugan': 1, 'Sirenita': 1, 'Catboy': 1, 'Miraculus': 1, 'Bug': 1, 'Hatch': 1, 'Transformables': 1, 'Lanzadores': 1, 'Minty': 1, 'Paws': 1, 'Plastigal': 1, 'Planisferio': 1, 'Decartas': 1, 'Lord': 1, 'Jugueteria': 1, 'Transformers': 1, 'Titans': 1, 'Return': 1, 'Mapa': 1, 'Cruzando': 1, 'Tape': 1, 'Mento': 1, 'Reglas': 1, 'Misteriosos': 1, 'Splash': 1, 'Shifters': 1, 'Segelin': 1, 'Telgopor': 1, 'Familia': 1, 'Hyperion': 1, 'Escenario': 1, 'Xcalius': 1, 'Maqueta': 1, 'Aptos': 1, 'Escala': 1, 'Pupkin': 1, 'Cake': 1, 'Dress': 1, 'Revive': 1, 'Articulable': 1, 'Titere': 1, 'Squeak': 1, 'Sweetie': 1, 'Tripl': 1, 'Rbc': 1, 'Portafolio': 1, 'Jaspeada': 1, 'Portafolios': 1, 'Alpargata': 1, 'Banderita': 1, 'Cocidas': 1, 'encias': 1, 'Sensibilidad': 1, 'Manchas': 1, 'Proshield': 1, 'Saibaba': 1, 'Pirita': 1, 'Fluxo': 1, 'Transmutacion': 1, 'Yoni': 1, 'Cornalina': 1, 'Turmalina': 1, 'Sangre': 1, 'Benjui': 1, 'Inca': 1, 'Olibano': 1, 'Aromatherapy': 1, 'Talladas': 1, 'Empaste': 1, 'Bangladesh': 1, 'Diente': 1, 'Pachamama': 1, 'Carqueja': 1, 'Buda': 1, 'Veloncitos': 1, 'Navidenos': 1, 'Obsidiana': 1, 'Destrabe': 1, 'Caballo': 1, 'Sahumar': 1, 'Bahia': 1, 'Machi': 1, 'Lemongrass': 1, 'Dolmen': 1, 'Jai': 1, 'Hare': 1, 'Krishna': 1, 'Plateadas': 1, 'Ceremonial': 1, 'Estoraque': 1, 'incienso': 1, 'recorte': 1, 'Yamiel': 1, 'Tajo': 1, 'Limay': 1, 'Lanin': 1, 'Bal': 1, 'Tec': 1, 'Celda': 1, 'Peltier': 1, 'Celdas': 1, 'Transceptor': 1, 'Nrf': 1, 'Pic': 1, 'Avr': 1, 'Atmel': 1, 'Ldr': 1, 'Fotocelda': 1, 'Cocodrilo': 1, 'Alligator': 1, 'Npn': 1, 'Electroship': 1, 'Protoboard': 1, 'Curvas': 1, 'Pastillas': 1, 'Nadador': 1, 'Paleontologia': 1, 'Magnific': 1, 'Educand': 1, 'Dinosaurio': 1, 'Jumanji': 1, 'Popular': 1, 'Special': 1, 'Manicure': 1, 'Rapunzel': 1, 'Ocean': 1, 'Equestria': 1, 'Girls': 1, 'Minis': 1, 'Familias': 1, 'Cual': 1, 'Cria': 1, 'Caff': 1, 'Policias': 1, 'Aprender': 1, 'Idiomas': 1, 'Armatron': 1, 'Imagina': 1, 'Pinguinos': 1, 'Nadadores': 1, 'Acool': 1, 'Prono': 1, 'Kiara': 1, 'Pediatra': 1, 'Mapamundi': 1, 'Resisten': 1, 'Carterita': 1, 'Bia': 1, 'Dramatizacion': 1, 'Regenial': 1, 'Dibujando': 1, 'Experimento': 1, 'Catapulta': 1, 'Gigo': 1, 'pina': 1, 'Gladiador': 1, 'Fashion': 1, 'Escapa': 1, 'Destino': 1, 'Londres': 1, 'Booper': 1, 'Pandereta': 1, 'Intrumento': 1, 'Rastrilo': 1, 'Games': 1, 'Bariloche': 1, 'Studios': 1, 'Pictionary': 1, 'Dibujar': 1, 'Adivinar': 1, 'Camisetas': 1, 'Atmega': 1, 'down': 1, 'Experimental': 1, 'Perforada': 1, 'Proto': 1, 'Medido': 1, 'Espacial': 1, 'biker': 1, 'Vesubio': 1, 'Foquito': 1, 'Cortapelos': 1, 'Atomo': 1, 'Cappucino': 1, 'Sellador': 1, 'Horiz': 1, 'vert': 1, 'Ekal': 1, 'Navideno': 1, 'Sandwichera': 1, 'Orix': 1, 'Gofrado': 1, 'Loreto': 1, 'Autosoldable': 1, 'Positivo': 1, 'sarmiento': 1, 'Inclina': 1, 'Huanq': 1, 'Huang': 1, 'Casuales': 1, 'Ziggy': 1, 'Detras': 1, 'primavera': 1, 'Antialergica': 1, 'antiacaros': 1, 'Spoke': 1, 'Skins': 1, 'Tunning': 1, 'Dirtpaw': 1, 'bici': 1, 'red': 1, 'Castelar': 1, 'Goty': 1, 'Remasterizado': 1, 'Left': 1, 'Behind': 1, 'Plantas': 1, 'Warriors': 1, 'South': 1, 'Park': 1, 'Truth': 1, 'Ascension': 1, 'Walking': 1, 'Michonne': 1, 'Jurassic': 1, 'Bully': 1, 'Taken': 1, 'Legendaria': 1, 'Far': 1, 'Fighters': 1, 'Kof': 1, 'Origins': 1, 'Tomb': 1, 'Raider': 1, 'Most': 1, 'Wanted': 1, 'Flag': 1, 'Farming': 1, 'Simulator': 1, 'Turismo': 1, 'Rivals': 1, 'Confeti': 1, 'Replegable': 1, 'Colo': 1, 'Animal': 1, 'Globox': 1, 'Pajita': 1, 'Chaplin': 1, 'Safari': 1, 'Casamiento': 1, 'Banderines': 1, 'Jason': 1, 'Lacia': 1, 'Ondulada': 1, 'Plumas': 1, 'Candela': 1, 'Estrellita': 1, 'Bonder': 1, 'Ultrabond': 1, 'Dotting': 1, 'Polygel': 1, 'Moldeador': 1, 'Cuticulas': 1, 'Limas': 1, 'Retirar': 1, 'Fresa': 1, 'Esculpida': 1, 'Corvatura': 1, 'Degrade': 1, 'Clarificador': 1, 'Naranjo': 1, 'Acetona': 1, 'Wipes': 1, 'Peel': 1, 'Adhere': 1, 'Deshidratador': 1, 'Cuticula': 1, 'Desoldante': 1, 'Flux': 1, 'Contacflux': 1, 'Decapante': 1, 'Superficie': 1, 'Yagi': 1, 'Mlk': 1, 'Oblicuas': 1, 'Micros': 1, 'Senso': 1, 'Detectores': 1, 'Kolke': 1, 'Pnext': 1, 'Gpm': 1, 'Refilador': 1, 'Sinteticas': 1, 'Imperdibles': 1, 'Tejar': 1, 'Esponjas': 1, 'Amari': 1, 'Meow': 1, 'Glowing': 1, 'Gotero': 1, 'Loose': 1, 'Shimmer': 1, 'Contornos': 1, 'Definition': 1, 'Marker': 1, 'Eyeliner': 1, 'Mortero': 1, 'Elficas': 1, 'Elfo': 1, 'Pedos': 1, 'Whoopee': 1, 'Cushion': 1, 'Chasco': 1, 'Valentin': 1, 'Enamorados': 1, 'Sopresa': 1, 'Bodycurv': 1, 'Area': 1, 'Aura': 1, 'Amuleto': 1, 'Cadenita': 1, 'Cubano': 1, 'Toretto': 1, 'Galletita': 1, 'Oreo': 1, 'Mondelez': 1, 'Megapack': 1, 'Escudos': 1, 'Illustrator': 1, 'Airdot': 1, 'Capacitivo': 1, 'Inpods': 1, 'Ult': 1, 'Wsp': 1, 'Pods': 1, 'Airdots': 1, 'Cadencia': 1, 'Magene': 1, 'Prem': 1, 'Grabacion': 1, 'cierres': 1, 'Cierres': 1, 'Mma': 1, 'Convertilo': 1, 'Fotosensible': 1, 'rms': 1, 'Sws': 1, 'azucarera': 1, 'moonlamp': 1, 'Ambientacion': 1, 'Refor': 1, 'Wayfarer': 1, 'Espejados': 1, 'Termicidad': 1, 'Ergonometrico': 1, 'silla': 1, 'ofic': 1, 'dermaroller': 1, 'Microagujas': 1, 'acupuntura': 1, 'sellado': 1, 'balanza': 1, 'joyeria': 1, 'Precisa': 1, 'Bluetooh': 1, 'Tiraboca': 1, 'Animaciones': 1, 'clavos': 1, 'Multiaccesorios': 1, 'Transformable': 1, 'Luminaria': 1, 'Alumbrado': 1, 'Griferi': 1, 'Lavatorio': 1, 'iph': 1, 'Sofi': 1, 'Bor': 1, 'Romanas': 1, 'Greta': 1, 'Enc': 1, 'Fijas': 1, 'pico': 1, 'Pag': 1, 'short': 1, 'Tunica': 1, 'Sta': 1, 'Sxh': 1, 'tijera': 1, 'Marmicoc': 1, 'Reguladora': 1, 'Populi': 1, 'Vacuum': 1, 'Pint': 1, 'Iones': 1, 'Acces': 1, 'Ideapad': 1, 'cap': 1, 'cajas': 1, 'Combinalas': 1, 'Criollo': 1, 'Tandil': 1, 'Lechon': 1, 'Mandalorian': 1, 'impresion': 1, 'Locas': 1, 'Levantacola': 1, 'Inlcuye': 1, 'Marietastore': 1, 'Bomber': 1, 'Inflada': 1, 'Djembe': 1, 'Quitapenas': 1, 'Ocarina': 1, 'Marioneta': 1, 'Pinocho': 1, 'Munequitas': 1, 'Kalimba': 1, 'Maraca': 1, 'Panera': 1, 'Servilletero': 1, 'Portasahumerio': 1, 'Venecitas': 1, 'Glee': 1, 'Sangradora': 1, 'Longitudinal': 1, 'Bufer': 1, 'Acrilato': 1, 'Cfs': 1, 'Drop': 1, 'Ftth': 1, 'Cleaver': 1, 'Clivadora': 1, 'Rompeviento': 1, 'tiro': 1, 'Punt': 1, 'Dielect': 1, 'Ladies': 1, 'Dielectric': 1, 'Entrepierna': 1, 'Pantys': 1, 'Maral': 1, 'Lavadero': 1, 'Nafta': 1, 'Arrancador': 1, 'Combustibles': 1, 'Geek': 1, 'Mystery': 1, 'Alternativo': 1, 'Pantum': 1, 'Competencias': 1, 'Coaching': 1, 'Aplicadas': 1, 'Granica': 1, 'Goldvarg': 1, 'Rubber': 1, 'Pulstar': 1, 'Aeu': 1, 'Cancela': 1, 'Ruidos': 1, 'Aiu': 1, 'Taiyo': 1, 'Cromoplatino': 1, 'Titanium': 1, 'Wake': 1, 'Stgs': 1, 'Hoyadora': 1, 'Niwa': 1, 'Gof': 1, 'Solarium': 1, 'Angosta': 1, 'vidaenmarte': 1, 'Oportunidad': 1, 'Carlitera': 1, 'Bornera': 1, 'Vastidor': 1, 'Mib': 1, 'Manguitas': 1, 'Plumetti': 1, 'Cuartos': 1, 'Tachitas': 1, 'Hombro': 1, 'Japonesa': 1, 'Gipur': 1, 'Almanaque': 1, 'Sports': 1, 'Almanac': 1, 'Volver': 1, 'Futuro': 1, 'Future': 1, 'Espada': 1, 'Daccord': 1, 'Sena': 1, 'Loza': 1, 'Cdh': 1, 'ksmart': 1, 'Cuelga': 1, 'Portaretrato': 1, 'Whitelight': 1, 'Pinches': 1, 'Blow': 1, 'Revientes': 1, 'Capitana': 1, 'Nick': 1, 'Fury': 1, 'Viajero': 1, 'Ahorcado': 1, 'Plasticina': 1, 'Baldecito': 1, 'Colore': 1, 'Acuarelas': 1, 'Mil': 1, 'Pax': 1, 'Ezco': 1, 'Termoformado': 1, 'Barama': 1, 'Crayon': 1, 'Ceras': 1, 'Distribuidorlv': 1, 'Tempera': 1, 'Dibu': 1, 'Husares': 1, 'Hardwork': 1, 'Dark': 1, 'Interceptor': 1, 'Friday': 1, 'Move': 1, 'Lexus': 1, 'Turim': 1, 'Cime': 1, 'Lakers': 1, 'Cleveland': 1, 'Asics': 1, 'Dedicate': 1, 'Ganso': 1, 'Reef': 1, 'Bullpadel': 1, 'Spurs': 1, 'Manu': 1, 'Stiga': 1, 'Avia': 1, 'Bronx': 1, 'Muay': 1, 'Onzas': 1, 'Spalding': 1, 'Scola': 1, 'Camperon': 1, 'Dibujitos': 1, 'Orejitas': 1, 'Pintorcito': 1, 'Argentino': 1, 'Refractaria': 1, 'Antidesgarro': 1, 'Muslera': 1, 'Pistolera': 1, 'Portacarta': 1, 'Topografico': 1, 'Brigada': 1, 'Mecanizada': 1, 'Nvl': 1, 'Jungla': 1, 'Camuflados': 1, 'Uca': 1, 'Amalfi': 1, 'Yuri': 1, 'Skater': 1, 'Elatizada': 1, 'moda': 1, 'Jennifer': 1, 'Stilettos': 1, 'Cruzado': 1, 'Amparo': 1, 'Laly': 1, 'Impresa': 1, 'Naruto': 1, 'Kunai': 1, 'Acustica': 1, 'Paraguitas': 1, 'Pis': 1, 'Glam': 1, 'Pizzas': 1, 'juego': 1, 'bontus': 1, 'Senor': 1, 'Potato': 1, 'Doggy': 1, 'Attack': 1, 'Muerde': 1, 'Revancha': 1, 'Ataca': 1, 'Pups': 1, 'Veterinaria': 1, 'Hormiguero': 1, 'Saurios': 1, 'Ptcoc': 1, 'Esqueleto': 1, 'Tapimovil': 1, 'Ves': 1, 'Risas': 1, 'Sonrisas': 1, 'Expancion': 1, 'Rastrillo': 1, 'Platinium': 1, 'Onyx': 1, 'Impactos': 1, 'Glue': 1, 'Thinq': 1, 'note': 1, 'Quadbeat': 1, 'Rosacea': 1, 'Nutricion': 1, 'Smile': 1, 'Single': 1, 'Eap': 1, 'Vulcano': 1, 'Hand': 1, 'Poked': 1, 'Rotativa': 1, 'Blackbird': 1, 'Sheep': 1, 'Hecto': 1, 'Clorox': 1, 'Double': 1, 'Tribal': 1, 'Niples': 1, 'Helmet': 1, 'Tatua': 1, 'Gorizia': 1, 'Sodex': 1, 'Trufas': 1, 'Turboventilador': 1, 'Silp': 1, 'Gtc': 1, 'Notebooks': 1, 'Toggle': 1, 'Clamp': 1, 'Halogena': 1, 'Diy': 1, 'Bennet': 1, 'Outfitters': 1, 'Elecrtic': 1, 'Boinas': 1, 'Gatsby': 1, 'Peaky': 1, 'Blinders': 1, 'Angeles': 1, 'Dodgers': 1, 'Panoramica': 1, 'pediatrico': 1, 'Yuca': 1, 'Citified': 1, 'Terra': 1, 'Agile': 1, 'Bat': 1, 'Joules': 1, 'Trabas': 1, 'Esquineros': 1, 'Miguel': 1, 'Rienda': 1, 'Pryde': 1, 'Izer': 1, 'Agujero': 1, 'Caneria': 1, 'Azulejo': 1, 'Inteligent': 1, 'Dry': 1, 'Ligandrin': 1, 'ligandrol': 1, 'Lgd': 1, 'Ostarine': 1, 'Cardadrin': 1, 'Btg': 1, 'cardarine': 1, 'Samsungmg': 1, 'tak': 1, 'liviana': 1, 'Jazak': 1, 'Excuses': 1, 'Muje': 1, 'Crosfit': 1, 'Amperimetro': 1, 'Supervivencia': 1, 'Drift': 1, 'Ready': 1, 'Rosado': 1, 'Degrafilado': 1, 'Hippie': 1, 'Hindues': 1, 'NeopreneBase': 1, 'Ultraliviana': 1, 'Lysoform': 1, 'Desicfectante': 1, 'Seleccionador': 1, 'Hufflepuff': 1, 'Ravenclaw': 1, 'Escrita': 1, 'Hedwig': 1, 'Meeseeks': 1, 'Digitalizadora': 1, 'Easypen': 1, 'Lpi': 1, 'Mes': 1, 'Autonomo': 1, 'Piscis': 1, 'Litewave': 1, 'Ampere': 1, 'North': 1, 'Salming': 1, 'Shocking': 1, 'Orange': 1, 'Brooklyn': 1, 'Conerive': 1, 'Lace': 1, 'Gri': 1, 'Stride': 1, 'Derive': 1, 'Becker': 1, 'Rozzano': 1, 'Outdoor': 1, 'Ruma': 1, 'Apie': 1, 'Grimoldi': 1, 'Localizada': 1, 'Minifalda': 1, 'Horn': 1, 'Inst': 1, 'Curado': 1, 'Burguer': 1, 'Smasher': 1, 'prensa': 1, 'Pisa': 1, 'tapas': 1, 'Rinconero': 1, 'Domicilio': 1, 'Milimetricas': 1, 'xarg': 1, 'Remachar': 1, 'Clavos': 1, 'Suecia': 1, 'Raspa': 1, 'Desvasar': 1, 'Herrador': 1, 'Caballos': 1, 'Originals': 1, 'Amerika': 1, 'Vulcanizada': 1, 'Delicado': 1, 'Storkman': 1, 'Eslastizada': 1, 'Peluches': 1, 'Massimo': 1, 'Chiesa': 1, 'Nauticos': 1, 'Ibiza': 1, 'Ultralivianas': 1, 'Patinadas': 1, 'Acapulco': 1, 'Acapulcos': 1, 'Mah': 1, 'Trilux': 1, 'castell': 1, 'Calid': 1, 'Citanova': 1, 'Colori': 1, 'Hornet': 1, 'Span': 1, 'Canto': 1, 'Martiz': 1, 'Cristobal': 1, 'Jueguetes': 1, 'Desinfecta': 1, 'Silencio': 1, 'Ioniza': 1, 'brazos': 1, 'Hudson': 1, 'Brinox': 1, 'Porciones': 1, 'Baguettera': 1, 'Framces': 1, 'Athix': 1, 'Videojuegos': 1, 'Pvp': 1, 'Remot': 1, 'Multipunto': 1, 'Cascadas': 1, 'Aromatizantes': 1, 'ear': 1, 'Hidrorepelente': 1, 'Bobo': 1, 'Hexag': 1, 'saltar': 1, 'Trepar': 1, 'Manila': 1, 'Babolat': 1, 'Woman': 1, 'Trainer': 1, 'Energized': 1, 'Literide': 1, 'Clog': 1, 'Palio': 1, 'Toro': 1, 'ptas': 1, 'Spin': 1, 'Altafrecuencia': 1, 'Circulacion': 1, 'Sanguinea': 1, 'Neblina': 1, 'Humectador': 1, 'Infra': 1, 'Electrodo': 1, 'Brushing': 1, 'Idea': 1, 'Ionic': 1, 'Colors': 1, 'Eolic': 1, 'Skincare': 1, 'Inflado': 1, 'Beurer': 1, 'Multistyler': 1, 'Preciso': 1, 'Avent': 1, 'Mamaderas': 1, 'Chupete': 1, 'Bpa': 1, 'Suaves': 1, 'Brillosos': 1, 'Podologia': 1, 'Desinfeccion': 1, 'Cilindrica': 1, 'Gohan': 1, 'Vegeta': 1, 'Buu': 1, 'Broly': 1, 'Viene': 1, 'Conteniendo': 1, 'Azar': 1, 'Repetir': 1, 'Bundle': 1, 'Bird': 1, 'Rasta': 1, 'Bioplastic': 1, 'Creativity': 1, 'Infrared': 1, 'world': 1, 'Gravity': 1, 'Falls': 1, 'ceramica': 1, 'Estoy': 1, 'Ebria': 1, 'simpsons': 1, 'Armadaentrega': 1, 'Daikin': 1, 'calor': 1, 'Broca': 1, 'Escalonada': 1, 'Diamantadas': 1, 'dremel': 1, 'Griferias': 1, 'Geko': 1, 'Cremona': 1, 'Turroncitos': 1, 'Cubanitos': 1, 'Caprice': 1, 'Asti': 1, 'Malta': 1, 'Horses': 1, 'Prosecco': 1, 'Pisco': 1, 'Trumpeter': 1, 'Carajo': 1, 'Nuquero': 1, 'Papelillo': 1, 'Lillos': 1, 'Pirex': 1, 'Resistentes': 1, 'Bong': 1, 'Tabaco': 1, 'Inmantada': 1, 'Dois': 1, 'verde': 1, 'Labiales': 1, 'Instransferibles': 1, 'Faces': 1, 'Posquimica': 1, 'acondicionador': 1, 'Noite': 1, 'roble': 1, 'Castanha': 1, 'Grampas': 1, 'ganchos': 1, 'pitones': 1, 'Persa': 1, 'Sch': 1, 'Incaica': 1, 'Dakkar': 1, 'Barredora': 1, 'Feticeira': 1, 'Cancha': 1, 'Nordika': 1, 'Berber': 1, 'Mullida': 1, 'Pizarron': 1, 'Oracal': 1, 'Masticadora': 1, 'Casera': 1, 'Recetario': 1, 'Purgadora': 1, 'Bujia': 1, 'Chispa': 1, 'Rebabador': 1, 'Tuercas': 1, 'Lijas': 1, 'Densimetro': 1, 'Anticongel': 1, 'Bremen': 1, 'Nevadas': 1, 'Zepellin': 1, 'Kiss': 1, 'Rollings': 1, 'Estilizan': 1, 'Muchisimo': 1, 'Gothic': 1, 'Engomadas': 1, 'Opacas': 1, 'Marseilles': 1, 'Nambia': 1, 'Wavetreck': 1, 'Sideswipe': 1, 'Blackstar': 1, 'Afinacion': 1, 'Transporte': 1, 'Guitarras': 1, 'Transportador': 1, 'Cejilla': 1, 'Blusera': 1, 'Afinador': 1, 'Germana': 1, 'Tramos': 1, 'Recarg': 1, 'Brillos': 1, 'Flexfit': 1, 'Ottoman': 1, 'Counter': 1, 'Strike': 1, 'Global': 1, 'Offensive': 1, 'Combistato': 1, 'Bluestar': 1, 'Elitech': 1, 'Jgos': 1, 'Memo': 1, 'jaspeada': 1, 'Cortadores': 1, 'Tarugos': 1, 'Avellanador': 1, 'Centrador': 1, 'Tornillo': 1, 'Correderas': 1, 'Shl': 1, 'Ancla': 1, 'Fieltro': 1, 'Your': 1, 'Right': 1, 'Escocesas': 1, 'calce': 1, 'Tallles': 1, 'verano': 1, 'calidad': 1, 'Zester': 1, 'Microplane': 1, 'Huevera': 1, 'Champagne': 1, 'Baron': 1, 'Brut': 1, 'Jameson': 1, 'Baguetera': 1, 'Hojalata': 1, 'Dona': 1, 'Cavidades': 1, 'Floral': 1, 'Donas': 1, 'Rasqueta': 1, 'Perforado': 1, 'Cupla': 1, 'Rellenar': 1, 'Churros': 1, 'Hemy': 1, 'Carmel': 1, 'Defondable': 1, 'Kanguro': 1, 'Assassin': 1, 'Players': 1, 'Cosplay': 1, 'Joggin': 1, 'Joggers': 1, 'Enrollables': 1, 'Flymop': 1, 'Earth': 1, 'Dosif': 1, 'Intercam': 1, 'Cobreado': 1, 'Mag': 1, 'mem': 1, 'Melicas': 1, 'Colostomia': 1, 'Coloplast': 1, 'Drenable': 1, 'Xcaja': 1, 'unidade': 1, 'Comodos': 1, 'Acolchaditos': 1, 'Madero': 1, 'trem': 1, 'Rinaldi': 1, 'Frunces': 1, 'Rapero': 1, 'Wash': 1, 'Swicht': 1, 'Sticker': 1, 'Calcomania': 1, 'Otg': 1, 'Tucci': 1, 'Almohadillas': 1, 'Bbc': 1, 'Balen': 1, 'Freestyle': 1, 'Chrono': 1, 'Tenazas': 1, 'Thanos': 1, 'Guantelete': 1, 'Expande': 1, 'Bellies': 1, 'Elefantito': 1, 'Rodacross': 1, 'Disc': 1, 'Shooter': 1, 'Banando': 1, 'Luly': 1, 'Omi': 1, 'figuras': 1, 'Poppi': 1, 'Cuidando': 1, 'Monohidratada': 1, 'Aminoacidos': 1, 'Ena': 1, 'Formulada': 1, 'Mejorada': 1, 'Company': 1, 'Xplode': 1, 'Coccion': 1, 'Panade': 1, 'Repost': 1, 'Etnia': 1, 'Losa': 1, 'Radiante': 1, 'Descripcion': 1, 'Braseros': 1, 'Emparrillados': 1, 'Secc': 1, 'Achuras': 1, 'Pasivada': 1, 'Yankees': 1, 'Vacuometro': 1, 'Carburacion': 1, 'Smoked': 1, 'Edison': 1, 'Alic': 1, 'Tablitas': 1, 'mochila': 1, 'Maderitas': 1, 'Tripticos': 1, 'Modernos': 1, 'Gyg': 1, 'Loader': 1, 'Avantree': 1, 'Heavy': 1, 'Definitiva': 1, 'Pulsada': 1, 'Domestic': 1, 'Puntadas': 1, 'Masajeadora': 1, 'Lesiones': 1, 'Santini': 1, 'Chanchito': 1, 'Chancho': 1, 'Girabola': 1, 'Infancia': 1, 'Religiones': 1, 'Supersticiones': 1, 'Caballito': 1, 'Sorprende': 1, 'Cristalino': 1, 'Cuotitas': 1, 'Cilindrico': 1, 'Armany': 1, 'Impermeabl': 1, 'Inten': 1, 'lumen': 1, 'Seguro': 1, 'blanca': 1, 'Destellante': 1, 'Calentador': 1, 'Abrazadera': 1, 'Acordonados': 1, 'cros': 1, 'Linealiviana': 1, 'Bokeh': 1, 'Converse': 1, 'Chuck': 1, 'Taylor': 1, 'voley': 1, 'azul': 1, 'Alumine': 1, 'Hardcore': 1, 'Inhale': 1, 'Exhale': 1, 'Mordicos': 1, 'Milyuchi': 1, 'Sherpa': 1, 'Spectron': 1, 'Julbo': 1, 'Fingers': 1, 'Hydrapak': 1, 'Polos': 1, 'Cubeta': 1, 'Lightsync': 1, 'Fontanarrosa': 1, 'Cerrados': 1, 'Mujercitas': 1, 'Louisa': 1, 'May': 1, 'Alcott': 1, 'Lovecraft': 1, 'Edgar': 1, 'Allan': 1, 'Poe': 1, 'Terror': 1, 'Horror': 1, 'Filosofia': 1, 'Forest': 1, 'Zolo': 1, 'Pers': 1, 'Imper': 1, 'Aquafloat': 1, 'Shimano': 1, 'Calcutta': 1, 'Derecha': 1, 'Autoinflable': 1, 'Comod': 1, 'Binocular': 1, 'Outlander': 1, 'Multifilamento': 1, 'Kairiki': 1, 'Clippeer': 1, 'Inoxi': 1, 'Indios': 1, 'Robada': 1, 'Parar': 1, 'Lookmania': 1, 'Canicas': 1, 'Boreal': 1, 'Pla': 1, 'Crossmaster': 1, 'Esquinera': 1, 'Angulos': 1, 'Viajar': 1, 'Selena': 1, 'Bellis': 1, 'margarita': 1, 'Prados': 1, 'Variados': 1, 'Dalhia': 1, 'Convolvulus': 1, 'Aleli': 1, 'Colum': 1, 'Verdeo': 1, 'Huerto': 1, 'Melon': 1, 'Rocio': 1, 'Tomillo': 1, 'Lilliput': 1, 'Cineraria': 1, 'Maritima': 1, 'Silverdust': 1, 'Clavelina': 1, 'Apio': 1, 'Pascal': 1, 'Frutillas': 1, 'Capuchina': 1, 'Ciboulette': 1, 'Cebolleta': 1, 'Lupino': 1, 'Russel': 1, 'Islandia': 1, 'Arvejillas': 1, 'Portulaca': 1, 'Viola': 1, 'Cornuta': 1, 'Balsamina': 1, 'Brincos': 1, 'huerto': 1, 'Copete': 1, 'Tagete': 1, 'Moro': 1, 'variado': 1, 'Enana': 1, 'Imp': 1, 'Limonio': 1, 'Statice': 1, 'Limonium': 1, 'Picantes': 1, 'anaheim': 1, 'cayenne': 1, 'jalapeno': 1, 'Repollada': 1, 'col': 1, 'Napoles': 1, 'Gypsophila': 1, 'ramos': 1, 'Novias': 1, 'Ficoide': 1, 'Rayito': 1, 'Livingstone': 1, 'Siempreviva': 1, 'Monstruosa': 1, 'perpetual': 1, 'Chabaud': 1, 'Mantecosa': 1, 'Crimor': 1, 'Godetia': 1, 'Whitneyi': 1, 'Espuela': 1, 'Caballero': 1, 'Imperial': 1, 'Crisantemos': 1, 'Dimorphoteca': 1, 'Alegria': 1, 'baby': 1, 'Lobelia': 1, 'Erinus': 1, 'Tomates': 1, 'Atigrado': 1, 'amarillo': 1, 'Perit': 1, 'morado': 1, 'semilla': 1, 'Acelga': 1, 'huerta': 1, 'atizador': 1, 'tap': 1, 'Expulsador': 1, 'Spring': 1, 'Summer': 1, 'Cuadrille': 1, 'Elephants': 1, 'Embalajes': 1, 'Genova': 1, 'Lingerie': 1, 'Abrir': 1, 'Spudger': 1, 'Puas': 1, 'Noteb': 1, 'Tamper': 1, 'Tapitas': 1, 'Inferiores': 1, 'Clases': 1, 'liquida': 1, 'Despues': 1, 'revigal': 1, 'Polish': 1, 'pule': 1, 'Encera': 1, 'Lustra': 1, 'pulidor': 1, 'Shores': 1, 'Igora': 1, 'Meline': 1, 'Coradir': 1, 'Novatech': 1, 'Exo': 1, 'Tungsteno': 1, 'Vuelta': 1, 'Borne': 1, 'Saltos': 1, 'Seguros': 1, 'Olimpica': 1, 'Luminosa': 1, 'Lunas': 1, 'Fases': 1, 'Fornite': 1, 'Africanas': 1, 'Mythic': 1, 'Huile': 1, 'Originale': 1, 'Nutritive': 1, 'Keratinico': 1, 'Rigenol': 1, 'Framesi': 1, 'Tortas': 1, 'Empanadas': 1, 'Orginal': 1, 'Bases': 1, 'Camafeos': 1, 'Hojitas': 1, 'Centros': 1, 'Animalprint': 1, 'Madagascar': 1, 'Business': 1, 'Backpack': 1, 'Mbps': 1, 'dvd': 1, 'Gamemax': 1, 'mas': 1, 'Ofertas': 1, 'Anilladora': 1, 'Binderplus': 1, 'tipo': 1, 'Batman': 1, 'Robin': 1, 'Guason': 1, 'Pastelazo': 1, 'Incorporada': 1, 'Drl': 1, 'Secuencial': 1, 'Garantizada': 1, 'Agatha': 1, 'Ruiz': 1, 'Prada': 1, 'Shaggy': 1, 'Viesti': 1, 'Lixiviado': 1, 'Humi': 1, 'Lindo': 1, 'Cubics': 1, 'Clasic': 1, 'Apego': 1, 'Resistent': 1, 'Bst': 1, 'Gtr': 1, 'Microwear': 1, 'Football': 1, 'Manager': 1, 'Trabajado': 1, 'Parks': 1, 'Aliens': 1, 'Washed': 1, 'Paco': 1, 'Rabanne': 1, 'Purification': 1, 'Cuidados': 1, 'Cotidianos': 1, 'Cell': 1, 'Illuminating': 1, 'Iluminadora': 1, 'Defying': 1, 'Wavesport': 1, 'tapon': 1, 'gorra': 1, 'estanque': 1, 'acuarios': 1, 'Salidas': 1, 'Resun': 1, 'Apariencia': 1, 'Straightener': 1, 'Mercedes': 1, 'Taotronics': 1, 'Similar': 1, 'Cuchas': 1, 'Contrapeso': 1, 'Rellenable': 1, 'Volcador': 1, 'Sosten': 1, 'Ergolastic': 1, 'Hisopo': 1, 'Sacacorchos': 1, 'Recargargable': 1, 'Tarteras': 1, 'Pizzetas': 1, 'Tartas': 1, 'budin': 1, 'Budin': 1, 'Ritmico': 1, 'Desatanudos': 1, 'Shara': 1, 'Pretal': 1, 'Hipidog': 1, 'Orificios': 1, 'Voces': 1, 'Dsl': 1, 'Valvular': 1, 'Microfonos': 1, 'Behringer': 1, 'Ultravoice': 1, 'Save': 1, 'Dorados': 1, 'Dato': 1, 'Xperia': 1, 'Xzs': 1, 'West': 1, 'gps': 1, 'Pochoclo': 1, 'Squishies': 1, 'Rising': 1, 'Equipamiento': 1, 'Cubrebota': 1, 'Desechable': 1, 'Podar': 1, 'Jardineria': 1, 'Plagable': 1, 'Lunchera': 1, 'Utv': 1, 'Cangrejo': 1, 'Weels': 1, 'Carters': 1, 'Jardineros': 1, 'regalo': 1, 'Cremoso': 1, 'Casting': 1, 'Creme': 1, 'Gloss': 1, 'Fantastic': 1, 'Colorista': 1, 'Washout': 1, 'Severa': 1, 'Balsam': 1, 'Tonificante': 1, 'Fructis': 1, 'Mixta': 1, 'Perfumante': 1, 'Points': 1, 'Probiotic': 1, 'Puritan': 1, 'Pride': 1, 'Canvas': 1, 'Ravensong': 1, 'Cancion': 1, 'Quijote': 1, 'Mancha': 1, 'Tomos': 1, 'Hecha': 1, 'Falco': 1, 'Empieza': 1, 'Porque': 1, 'Jane': 1, 'Limites': 1, 'Enganos': 1, 'Digitales': 1, 'Victimas': 1, 'Davidovsky': 1, 'Histo': 1, 'Educar': 1, 'Asombro': 1, 'Galaxia': 1, 'Juan': 1, 'Novela': 1, 'Explicita': 1, 'Kalho': 1, 'Orillas': 1, 'Poesias': 1, 'Cinwololo': 1, 'Poesia': 1, 'Pizarnik': 1, 'Retrato': 1, 'Dorian': 1, 'edicion': 1, 'Anda': 1, 'Ahi': 1, 'Loud': 1, 'Diplomacia': 1, 'Henry': 1, 'Kissinger': 1, 'Open': 1, 'Andre': 1, 'Agassi': 1, 'Destilados': 1, 'Barone': 1, 'Center': 1, 'Microf': 1, 'Codigo': 1, 'Aereador': 1, 'Sommelier': 1, 'Rango': 1, 'Pehachimetro': 1, 'Prima': 1, 'Recon': 1, 'Nsw': 1, 'xbox': 1, 'Yhky': 1, 'Fippor': 1, 'Floys': 1, 'Rocky': 1, 'Balboa': 1, 'Ola': 1, 'vidrio': 1, 'Blanc': 1, 'Cobramos': 1, 'Lectora': 1, 'Conexion': 1, 'Pulpos': 1, 'Reversibles': 1, 'Pulpitos': 1, 'Redemption': 1, 'Undead': 1, 'tws': 1, 'electronic': 1, 'video': 1, 'display': 1, 'electronics': 1, 'Armazones': 1, 'Tortora': 1, 'Principios': 1, 'Fisiologia': 1, 'Latarjet': 1, 'Humana': 1, 'Tomo': 1, 'Superarticulado': 1, 'Vampirina': 1, 'Tapers': 1, 'Felli': 1, 'Ryaca': 1, 'Depilar': 1, 'Oxygentime': 1, 'Epic': 1, 'Universe': 1, 'Incentivador': 1, 'Amaral': 1, 'Pinkerton': 1, 'Capell': 1, 'Shenlong': 1, 'Intelig': 1, 'Visco': 1, 'escobillon': 1, 'Ultravioletas': 1, 'Portanotebook': 1, 'Hero': 1, 'Vancouver': 1, 'Antiestatico': 1, 'Batea': 1, 'Emphasis': 1, 'Maternity': 1, 'Sir': 1, 'Fausto': 1, 'Old': 1, 'Wax': 1, 'Normalizing': 1, 'Reset': 1, 'Biolage': 1, 'Matrix': 1, 'Nutrifier': 1, 'Interpretacion': 1, 'Sigmund': 1, 'Freud': 1, 'mil': 1, 'Esculpdas': 1, 'Abejas': 1, 'Final': 1, 'Polimeros': 1, 'Kemei': 1, 'Altro': 1, 'Ventiladores': 1, 'Purpura': 1, 'Lec': 1, 'Pulsadores': 1, 'Antivandalico': 1, 'Garins': 1, 'Diamantados': 1, 'Caloventor': 1, 'Clv': 1, 'Alhias': 1, 'Foreo': 1, 'Madeja': 1, 'Lanas': 1, 'Ovillitos': 1, 'Silent': 1, 'Laserjet': 1, 'bbm': 1, 'kae': 1, 'Pebble': 1, 'Trust': 1, 'Gxt': 1, 'Bolillas': 1, 'Crear': 1, 'Peinados': 1, 'Helados': 1, 'accesorios': 1, 'Alturas': 1, 'Frenoy': 1, 'Garage': 1, 'Flecha': 1, 'Revolution': 1, 'mipowerdestiny': 1, 'Kingdom': 1, 'Hearts': 1, 'Quimicos': 1, 'fiscal': 1, 'Duplicado': 1, 'Hasar': 1, 'Ledesma': 1, 'Nat': 1, 'Conica': 1, 'Land': 1, 'Happy': 1, 'Moments': 1, 'Empuje': 1, 'Kiddy': 1, 'Avanti': 1, 'Alizze': 1, 'Table': 1, 'jugar': 1, 'Presslove': 1, 'Sidra': 1, 'Zuelo': 1, 'Laur': 1, 'Wine': 1, 'Perdices': 1, 'Thinkcenter': 1, 'Oster': 1, 'Tssttv': 1, 'grafito': 1, 'Mercusys': 1, 'Dietario': 1, 'comp': 1, 'Atoxica': 1, 'Ampliador': 1, 'Union': 1, 'Aukan': 1, 'Peirano': 1, 'Lorca': 1, 'Itati': 1, 'Macy': 1, 'Boutique': 1, 'Impor': 1, 'Talbots': 1, 'Gap': 1, 'Pelacables': 1, 'Hamilton': 1, 'Apc': 1, 'Cuando': 1, 'Prototype': 1, 'Cruiser': 1, 'Policarbonato': 1, 'Cort': 1, 'Backup': 1, 'Suor': 1, 'Agente': 1, 'Metegol': 1, 'Bujes': 1, 'Pool': 1, 'Licen': 1, 'Believe': 1, 'Camison': 1, 'Kigurumi': 1, 'Frankfurt': 1, 'Campus': 1, 'Robo': 1, 'env': 1, 'Pluto': 1, 'Donald': 1, 'Goofy': 1, 'Lightyear': 1, 'Hondo': 1, 'Piano': 1, 'Organo': 1, 'Teclas': 1, 'Bienvenida': 1, 'Llegue': 1, 'Eardpods': 1, 'originales': 1, 'Lbs': 1, 'Albatros': 1, 'Divis': 1, 'Gsp': 1, 'Zero': 1, 'Evolution': 1, 'Carb': 1, 'Gentech': 1, 'deporte': 1, 'Trendy': 1, 'Escurrido': 1, 'Monedero': 1, 'Practica': 1, 'color': 1, 'Reusch': 1, 'Descontaminante': 1, 'allshine': 1, 'Detallado': 1, 'Detailing': 1, 'Kermese': 1, 'Frias': 1, 'Visual': 1, 'multinorma': 1, 'cable': 1, 'Multinorma': 1, 'Bca': 1, 'Frecuencimetro': 1, 'Copiadores': 1, 'Brushless': 1, 'Sma': 1, 'Uhf': 1, 'Baofeng': 1, 'Haynes': 1, 'Diagramas': 1, 'Automotrices': 1, 'Elsawin': 1, 'Dicatec': 1, 'Ondemand': 1, 'Barato': 1, 'Aprovecha': 1, 'Nenes': 1, 'Carteleria': 1, 'Dessata': 1, 'Replicador': 1, 'Extender': 1, 'Adios': 1, 'Tristeza': 1, 'Superar': 1, 'Depresion': 1, 'Segun': 1, 'Hildega': 1, 'Directorio': 1, 'Catequesis': 1, 'Carlo': 1, 'Acutis': 1, 'Genio': 1, 'Informatica': 1, 'Nicola': 1, 'Cinco': 1, 'Espiritu': 1, 'Victor': 1, 'Manue': 1, 'Fernandez': 1, 'Ordo': 1, 'Misal': 1, 'Romano': 1, 'Cotidiano': 1, 'Conferencia': 1, 'Querida': 1, 'Exhortacion': 1, 'Luis': 1, 'Zazano': 1, 'Jesus': 1, 'Biblia': 1, 'Letra': 1, 'Catolica': 1, 'Tutiti': 1, 'Rural': 1, 'Georges': 1, 'Bernanos': 1, 'Steelseries': 1, 'Qck': 1, 'Alianzas': 1, 'Elegantes': 1, 'black': 1, 'Elsea': 1, 'Zapatitos': 1, 'Vaquita': 1, 'Imantadas': 1, 'Barre': 1, 'Migas': 1, 'Honguito': 1, 'Cenizas': 1, 'Asaparri': 1, 'hdmi': 1, 'Pasivo': 1, 'Oculto': 1, 'Natufarma': 1, 'Funcion': 1, 'Veinte': 1, 'Talla': 1, 'Prive': 1, 'Lasting': 1, 'Chulengo': 1, 'Tromen': 1, 'Swing': 1, 'Cabecera': 1, 'Placares': 1, 'Reducidos': 1, 'Wayra': 1, 'Mail': 1, 'Transcripcion': 1, 'Partituras': 1, 'Registrar': 1, 'Sadaic': 1, 'Lenchu': 1, 'Mirta': 1, 'Armesto': 1, 'Copiador': 1, 'Ciber': 1, 'Monday': 1, 'Starbucks': 1, 'Adirondack': 1, 'Titulos': 1, 'Premier': 1, 'Premiere': 1, 'Transiciones': 1, 'Cad': 1, 'Brasilero': 1, 'Europeo': 1, 'Naffull': 1, 'Comparador': 1, 'Centesimal': 1, 'Emprendedor': 1, 'Bigotes': 1, 'Bolsita': 1, 'Casados': 1, 'Egresados': 1, 'Secundaria': 1, 'Primaria': 1, 'Suplesa': 1, 'Jackard': 1, 'Grando': 1, 'Gvs': 1, 'Alcalinas': 1, 'Arcoiris': 1, 'Babyfloat': 1, 'Bajada': 1, 'Rodado': 1, 'Tentamarket': 1, 'Acc': 1, 'Surt': 1, 'varon': 1, 'Estam': 1, 'Bauleras': 1, 'Rodantes': 1, 'baulera': 1, 'Cerraduras': 1, 'Agu': 1, 'jeep': 1, 'Ecolog': 1, 'Lemonade': 1, 'Olan': 1, 'Munich': 1, 'Carre': 1, 'Audioritmica': 1, 'Prende': 1, 'Cloud': 1, 'Ast': 1, 'Redes': 1, 'Cautin': 1, 'Estano': 1, 'Goot': 1, 'Descorchador': 1, 'Colchonetas': 1, 'Zurich': 1, 'Bursa': 1, 'Esferodinamica': 1, 'Arla': 1, 'Lacprodan': 1, 'tiras': 1, 'Alcalino': 1, 'Impresas': 1, 'Cetogenico': 1, 'Stevia': 1, 'Diabetico': 1, 'Lvt': 1, 'Practifreezee': 1, 'Gajitos': 1, 'Actualite': 1, 'Perillas': 1, 'Junco': 1, 'Splitter': 1, 'Vitalcan': 1, 'Coporal': 1, 'Smartphone': 1, 'Gatubelo': 1, 'Panito': 1, 'Amargo': 1, 'Torpedo': 1, 'Incluyen': 1, 'Carteras': 1, 'Hoteles': 1, 'spa': 1, 'empresas': 1, 'Defy': 1, 'Emoliente': 1, 'Psoriasis': 1, 'Utopica': 1, 'Fango': 1, 'Termal': 1, 'Volcanico': 1, 'Pote': 1, 'Richissime': 1, 'Regaton': 1, 'Hunan': 1, 'Accurate': 1, 'Grafico': 1, 'Quemador': 1, 'Ripped': 1, 'Cuts': 1, 'Gentrech': 1, 'Cla': 1, 'cafeina': 1, 'carnitina': 1, 'zona': 1, 'Advance': 1, 'Nutrition': 1, 'cajon': 1, 'Gordito': 1, 'Pinball': 1, 'Kami': 1, 'Gatita': 1, 'Popo': 1, 'Furreal': 1, 'Este': 1, 'Runs': 1, 'Bailarina': 1, 'kreker': 1, 'Pimpis': 1, 'Sevich': 1, 'Capilares': 1, 'Asta': 1, 'Acrocel': 1, 'Sdcc': 1, 'Cazoleta': 1, 'Tune': 1, 'Shield': 1, 'transparente': 1, 'Sdsdxve': 1, 'gncin': 1, 'apc': 1, 'Sdsdunc': 1, 'Iluminar': 1, 'Borderlans': 1, 'Demons': 1, 'Souls': 1, 'Valiente': 1, 'Medal': 1, 'Honor': 1, 'Warfighter': 1, 'Babuchitas': 1, 'Gallardo': 1, 'Tiritas': 1, 'linea': 1, 'Adaptables': 1, 'Ciclistas': 1, 'Dsrl': 1, 'Parpados': 1, 'Tratante': 1, 'apto': 1, 'repuesto': 1, 'Prendas': 1, 'Autonivelable': 1, 'Stxh': 1, 'Irritacion': 1, 'Handy': 1, 'Cardboard': 1, 'Remote': 1, 'Labios': 1, 'Marzi': 1, 'Hidro': 1, 'Expression': 1, 'Cav': 1, 'Incentiv': 1, 'pulidora': 1, 'Herbacea': 1, 'Hgst': 1, 'Sfx': 1, 'Sentey': 1, 'Perfomance': 1, 'Bangho': 1, 'Dca': 1, 'Inglesa': 1, 'Nux': 1, 'Stageman': 1, 'Gorros': 1, 'Insumo': 1, 'Polen': 1, 'Reconvertido': 1, 'Crinway': 1, 'Vcbd': 1, 'Golosinera': 1, 'Conductimetro': 1, 'Electroconductividad': 1, 'Tds': 1, 'Ppm': 1, 'Orp': 1, 'Ptfe': 1, 'Ambiental': 1, 'Camo': 1, 'efectos': 1, 'Federal': 1, 'Signal': 1, 'Identificable': 1, 'Bomberos': 1, 'Nortena': 1, 'Cartuchera': 1, 'Cosmeticos': 1, 'Andino': 1, 'Norteno': 1, 'Housemusic': 1, 'acetato': 1, 'Calcita': 1, 'Intercambiable': 1, 'Slipper': 1, 'Stiletto': 1, 'Chatita': 1, 'Asi': 1, 'Hablo': 1, 'Zaratustra': 1, 'Maxwell': 1, 'Pideme': 1, 'Quieras': 1, 'Hialuron': 1, 'Fortalecedor': 1, 'Biotina': 1, 'Fortificador': 1, 'Granero': 1, 'herrajes': 1, 'Chalk': 1, 'rct': 1, 'Betheme': 1, 'Actualizaciones': 1, 'Tema': 1, 'Generatepress': 1, 'Elementor': 1, 'Updates': 1, 'Theme': 1, 'Woocommerce': 1, 'Martfury': 1, 'Surtida': 1, 'Four': 1, 'Antares': 1, 'Birra': 1, 'Competicion': 1, 'Transmision': 1, 'Eph': 1, 'Performance': 1, 'Fundido': 1, 'Lados': 1, 'Mantequera': 1, 'Colapasta': 1, 'Botulinico': 1, 'Magk': 1, 'Alien': 1, 'Terry': 1, 'Mugler': 1, 'Despleg': 1, 'Pinturitas': 1, 'Tijeron': 1, 'Aventus': 1, 'Decant': 1, 'Muestra': 1, 'Batch': 1, 'Mahely': 1, 'Bataan': 1, 'Batan': 1, 'Giesso': 1, 'Cardon': 1, 'Quintana': 1, 'Callao': 1, 'Monopod': 1, 'Porcel': 1, 'Perforadas': 1, 'Pepe': 1, 'Elaborado': 1, 'Manuales': 1, 'Elabora': 1, 'Valus': 1, 'Poloclub': 1, 'Militare': 1, 'Esferica': 1, 'Programador': 1, 'morty': 1, 'Irregular': 1, 'Viscoso': 1, 'natural': 1, 'Translation': 1, 'Ella': 1, 'Sanders': 1, 'Chupetin': 1, 'Pops': 1, 'Ovalo': 1, 'Corazones': 1, 'Bombones': 1, 'Biogaia': 1, 'Gotas': 1, 'Prolongador': 1, 'Automatizacion': 1, 'Persiana': 1, 'Downy': 1, 'Cuadruple': 1, 'Compartir': 1, 'Quiero': 1, 'Bts': 1, 'Turbante': 1, 'Finas': 1, 'Panuelos': 1, 'Intercambiables': 1, 'Bolsitas': 1, 'Madres': 1, 'Abuelas': 1, 'calido': 1, 'multicolor': 1, 'Cisterna': 1, 'Ineca': 1, 'Terraja': 1, 'Roscar': 1, 'Canos': 1, 'estrella': 1, 'Galea': 1, 'Radeon': 1, 'Unleashed': 1, 'Magno': 1, 'Mission': 1, 'luis': 1, 'Henna': 1, 'Des': 1, 'Yorkshire': 1, 'Mantos': 1, 'Lacios': 1, 'Goku': 1, 'Serio': 1, 'Termosensible': 1, 'Expecto': 1, 'Patronum': 1, 'Rowling': 1, 'Greys': 1, 'Abrazo': 1, 'You': 1, 'Are': 1, 'Person': 1, 'Meredith': 1, 'toyota': 1, 'Fanal': 1, 'Recipiente': 1, 'Tueste': 1, 'Compat': 1, 'Frutta': 1, 'Exprimido': 1, 'Balerina': 1, 'Texana': 1, 'Rafia': 1, 'Mayari': 1, 'Signos': 1, 'Zodiaco': 1, 'Leo': 1, 'Geminis': 1, 'Neptune': 1, 'roller': 1, 'Powerchal': 1, 'Regula': 1, 'Intestinal': 1, 'mcg': 1, 'capsulas': 1, 'Calcio': 1, 'Sist': 1, 'Inmune': 1, 'Caro': 1, 'Cuore': 1, 'Fiore': 1, 'Fortigrow': 1, 'Deslactosada': 1, 'Nan': 1, 'Optipro': 1, 'Apositos': 1, 'Aer': 1, 'Kimbies': 1, 'Clasicos': 1, 'Alivio': 1, 'Maxprot': 1, 'Dror': 1, 'Lomas': 1, 'Laboratorio': 1, 'carteles': 1, 'Portalamparas': 1, 'piedras': 1, 'grat': 1, 'Wats': 1, 'Cuenco': 1, 'Pima': 1, 'Babita': 1, 'Cuba': 1, 'vip': 1, 'power': 1, 'Izq': 1, 'Moretti': 1, 'Fryer': 1, 'Tefal': 1, 'Pastafacil': 1, 'Indeleble': 1, 'Filgo': 1, 'Carbonico': 1, 'Dogideas': 1, 'Remerones': 1, 'Ballantine': 1, 'Finest': 1, 'Escoces': 1, 'tery': 1, 'Lado': 1, 'ciego': 1, 'net': 1, 'Puesto': 1, 'neo': 1, 'cubo': 1, 'Cajero': 1, 'cajer': 1, 'astra': 1, 'Carpetas': 1, 'kairos': 1, 'owen': 1, 'mesas': 1, 'Hematite': 1, 'Volcanica': 1, 'Pestillo': 1, 'Uruguayos': 1, 'Compu': 1, 'Ocultas': 1, 'Varioscolores': 1, 'Cubren': 1, 'Lindas': 1, 'Delicadas': 1, 'Jaquard': 1, 'Cuot': 1, 'Palette': 1, 'Termomatelase': 1, 'Bafle': 1, 'Hipoalergenicas': 1, 'capucha': 1, 'Suavecitas': 1, 'Cuaternario': 1, 'Sentado': 1, 'Pulir': 1, 'Rueditas': 1, 'era': 1, 'Retiro': 1, 'Oxidos': 1, 'Eleccio': 1, 'Micas': 1, 'Paspartu': 1, 'Baw': 1, 'Aislacion': 1, 'Ribb': 1, 'Rib': 1, 'Zale': 1, 'Kirkby': 1, 'Merlin': 1, 'Amber': 1, 'Fotocromatica': 1, 'Pictou': 1, 'Masham': 1, 'Luton': 1, 'Pon': 1, 'electrica': 1, 'Fugas': 1, 'Gnc': 1, 'Glp': 1, 'Hdtv': 1, 'dbi': 1, 'ohm': 1, 'Senaletica': 1, 'Senales': 1, 'Sdsdxxg': 1, 'ancin': 1, 'Uhd': 1, 'Boyfriend': 1, 'Floreada': 1, 'Tiradores': 1, 'Picaflor': 1, 'Colibri': 1, 'comedero': 1, 'frizado': 1, 'Clk': 1, 'oil': 1, 'Pometina': 1, 'Terraza': 1, 'Leca': 1, 'mad': 1, 'Pel': 1, 'packs': 1, 'Iluminarte': 1, 'Rochester': 1, 'Colonial': 1, 'Panzon': 1, 'Craquelado': 1, 'Respuesto': 1, 'Antorcha': 1, 'Balanceado': 1, 'Xlr': 1, 'Foil': 1, 'khz': 1, 'Fichar': 1, 'Zkteco': 1, 'Rondin': 1, 'Serenos': 1, 'Boga': 1, 'Bagre': 1, 'Chicotes': 1, 'Trafilado': 1, 'Devastator': 1, 'Expansor': 1, 'Aretes': 1, 'Sinfin': 1, 'Huggie': 1, 'Hoop': 1, 'Tragus': 1, 'Cartilago': 1, 'Engarzado': 1, 'Delantales': 1, 'Bares': 1, 'Artisrtico': 1, 'Pliega': 1, 'Paraguita': 1, 'Hermanitos': 1, 'Amarillos': 1, 'micropipeta': 1, 'puLG': 1, 'Evasse': 1, 'Infiernillo': 1, 'Jungle': 1, 'Zamak': 1, 'Forcet': 1, 'Limada': 1, 'Niquelada': 1, 'Simples': 1, 'Inevitable': 1, 'Vip': 1, 'Feromona': 1, 'Grouse': 1, 'Barreta': 1, 'Palanca': 1, 'Sacaclavos': 1, 'Microscopios': 1, 'Telescopios': 1, 'Tapita': 1, 'Heineken': 1, 'Gladis': 1, 'mary': 1, 'Platea': 1, 'Peron': 1, 'Roseta': 1, 'magnetica': 1, 'Daniels': 1, 'Cognac': 1, 'Viejo': 1, 'Puraluz': 1, 'Travelstar': 1, 'Hts': 1, 'abd': 1, 'rca': 1, 'Convierte': 1, 'Tele': 1, 'vga': 1, 'Bialcohol': 1, 'Melville': 1, 'Valdus': 1, 'Zev': 1, 'Clubmaster': 1, 'Componentes': 1, 'Omnidireccional': 1, 'Smartphon': 1, 'local': 1, 'Altavoz': 1, 'Self': 1, 'Babuchas': 1, 'Bordeadoras': 1, 'Aureox': 1, 'Arxe': 1, 'Cesta': 1, 'Lapicero': 1, 'Yogurt': 1, 'Dahi': 1, 'Especies': 1, 'Samsonite': 1, 'Dolar': 1, 'Solarmax': 1, 'Racionador': 1, 'Interc': 1, 'Racion': 1, 'Portarollo': 1, 'Away': 1, 'Archer': 1, 'Market': 1, 'Anahata': 1, 'Dhoop': 1, 'Aromatico': 1, 'Yagra': 1, 'sahumar': 1, 'Luzdeanahata': 1, 'Abundancia': 1, 'Mdrzx': 1, 'Srs': 1, 'Comiccon': 1, 'Vampire': 1, 'Burns': 1, 'Rita': 1, 'Repulsa': 1, 'Rangers': 1, 'Hjs': 1, 'Elitedisplay': 1, 'Ips': 1, 'Lapiceras': 1, 'Boligrafos': 1, 'Personalizados': 1, 'Respuestos': 1, 'Dayo': 1, 'Dragonfly': 1, 'Legendary': 1, 'Outlining': 1, 'Elb': 1, 'mariposa': 1, 'Trompo': 1, 'Valt': 1, 'Shu': 1, 'Phi': 1, 'Mecanismo': 1, 'Playroom': 1, 'Catalogo': 1, 'Prohibido': 1, 'Arrojarse': 1, 'Choripanes': 1, 'Wines': 1, 'Nuestras': 1, 'Carnes': 1, 'Rendimiento': 1, 'twin': 1, 'wave': 1, 'Botox': 1, 'Carozo': 1, 'Damasco': 1, 'Decolorante': 1, 'Tonalizador': 1, 'Reparador': 1, 'Seleccionar': 1, 'Fuertisimo': 1, 'Llenala': 1, 'relleno': 1, 'guantines': 1, 'vendas': 1, 'Alza': 1, 'Rifle': 1, 'Guion': 1, 'Rifles': 1, 'Univ': 1, 'Ecomerce': 1, 'adh': 1, 'Ala': 1, 'Bicapa': 1, 'Forteplas': 1, 'dbe': 1, 'Cuatricapa': 1, 'Arctic': 1, 'Compujav': 1, 'AirPods': 1, 'Wring': 1, 'Ultrasonica': 1, 'Inface': 1, 'Scrubber': 1, 'Xia': 1, 'Soffit': 1, 'Veneciano': 1, 'Mascarillas': 1, 'Combinalo': 1, 'Conex': 1, 'Maniqui': 1, 'Maniquies': 1, 'Agustin': 1, 'Hellerman': 1, 'Tyton': 1, 'Aguila': 1, 'Cultivarg': 1, 'Shell': 1, 'Paquete': 1, 'Uvas': 1, 'Racimos': 1, 'Rositas': 1, 'Bunch': 1, 'Hortensias': 1, 'Oblicua': 1, 'Siroflex': 1, 'Mizen': 1, 'Fuyi': 1, 'Aparato': 1, 'Metabo': 1, 'Mvt': 1, 'Veloc': 1, 'japon': 1, 'Mandril': 1, 'mecha': 1, 'Comunes': 1, 'Brogas': 1, 'Gibsons': 1, 'Randall': 1, 'Plantilla': 1, 'Ortopedica': 1, 'Cavo': 1, 'Espolon': 1, 'Piojito': 1, 'Cambus': 1, 'Ruoser': 1, 'Adapatador': 1, 'Cvst': 1, 'Lavasecarropas': 1, 'Alise': 1, 'Gvfw': 1, 'Frost': 1, 'Colocar': 1, 'tachas': 1, 'matriz': 1, 'Matriz': 1, 'Ojalillos': 1, 'Arme': 1, 'Mantera': 1, 'Brasas': 1, 'Small': 1, 'Yugioh': 1, 'Repetidor': 1, 'Repeater': 1, 'mbps': 1, 'Fuelle': 1, 'Cachorro': 1, 'Trixie': 1, 'Million': 1, 'Translucido': 1, 'Ego': 1, 'Gamuza': 1, 'Aur': 1, 'Kinetic': 1, 'Century': 1, 'Irony': 1, 'Goldtralize': 1, 'Syxg': 1, 'Hilfriger': 1, 'Cooper': 1, 'Brilliant': 1, 'Magistral': 1, 'Inclusivo': 1, 'Aurea': 1, 'Colorati': 1, 'Piscinas': 1, 'Clorador': 1, 'Trial': 1, 'Bazarnet': 1, 'Crayola': 1, 'Washable': 1, 'freno': 1, 'Estacionamiento': 1, 'Trabloc': 1, 'Microblanding': 1, 'Extensiones': 1, 'Flota': 1, 'Megane': 1, 'palo': 1, 'Aurelia': 1, 'Enchapados': 1, 'plata': 1, 'Pijamada': 1, 'Seguidor': 1, 'Shot': 1, 'Sdc': 1, 'Demaquillantes': 1, 'Neutrogena': 1, 'Ubiquiti': 1, 'Unifi': 1, 'Uap': 1, 'Anis': 1, 'Tequila': 1, 'Jose': 1, 'ajuste': 1, 'Plisado': 1, 'tintura': 1, 'Activadores': 1, 'Perlado': 1, 'Stihl': 1, 'Meraki': 1, 'bebe': 1, 'Verrugas': 1, 'Genitales': 1, 'Peru': 1, 'Moringa': 1, 'Oregano': 1, 'Cil': 1, 'Organica': 1, 'Germinac': 1, 'Intensivo': 1, 'Combate': 1, 'National': 1, 'Geographic': 1, 'Ribbon': 1, 'Zebra': 1, 'Fhd': 1, 'Cicatrices': 1, 'Enebro': 1, 'just': 1, 'Doblador': 1, 'buzo': 1, 'Almagro': 1, 'Temporis': 1, 'preta': 1, 'Esmaltero': 1, 'Apaisado': 1, 'Mejia': 1, 'Ituza': 1, 'Domec': 1, 'Empotrable': 1, 'Hba': 1, 'Adelgaza': 1, 'Educativas': 1, 'Eukanuba': 1, 'ver': 1, 'Removible': 1, 'Mugs': 1, 'mopa': 1, 'monopatin': 1, 'Vitagel': 1, 'Elevar': 1, 'Dentista': 1, 'Jugueterialeon': 1, 'Rep': 1, 'Kunlun': 1, 'Importadores': 1, 'Sanvio': 1, 'Alimora': 1, 'Asfalto': 1, 'Loch': 1, 'Hebillas': 1, 'Pas': 1, 'Correctora': 1, 'Stich': 1, 'Estirador': 1, 'Seklou': 1, 'Kfive': 1, 'asentar': 1, 'etc': 1, 'Filamentos': 1, 'Soteco': 1, 'Sheridan': 1, 'Parque': 1, 'Qualcomm': 1, 'Kidz': 1, 'Safe': 1, 'Album': 1, 'Figuritas': 1, 'Fantasmas': 1, 'Figus': 1, 'Adentro': 1, 'Padoan': 1, 'Ultraliviano': 1, 'Toronto': 1, 'Uniqlo': 1, 'Fibrocemento': 1, 'Misionera': 1, 'Frezzer': 1, 'Envasar': 1, 'Congelar': 1, 'Energizantes': 1, 'Cuff': 1, 'Zhiyun': 1, 'tech': 1, 'Weebill': 1, 'Gimbal': 1, 'Think': 1, 'Photo': 1, 'Pixel': 1, 'Princess': 1, 'Kidzamo': 1, 'Karate': 1, 'Kid': 1, 'Punisher': 1, 'Dallas': 1, 'Mavericks': 1, 'Lukaa': 1, 'Doncic': 1, 'Grafica': 1, 'Integrada': 1, 'Traful': 1, 'Kia': 1, 'Compresas': 1, 'Ligaduras': 1, 'Radiografico': 1, 'Revelador': 1, 'Protec': 1, 'dent': 1, 'Roth': 1, 'Molar': 1, 'Shinye': 1, 'Cavitador': 1, 'Endodoncia': 1, 'Helse': 1, 'Nanohibrida': 1, 'Cubrecalzado': 1, 'Compuesta': 1, 'Fotopolimerizable': 1, 'Restauraciones': 1, 'Nanotecnologia': 1, 'Hidrorrepelente': 1, 'Gomas': 1, 'Intraorales': 1, 'Soquete': 1, 'Desagujada': 1, 'Nautico': 1, 'adultos': 1, 'Oraculo': 1, 'Energias': 1, 'Sigry': 1, 'Gamo': 1, 'pared': 1, 'Mirilla': 1, 'Mirador': 1, 'Ramos': 1, 'Moderada': 1, 'Andis': 1, 'ipf': 1, 'Level': 1, 'Exte': 1, 'Autoafilable': 1, 'Nogapad': 1, 'Ghd': 1, 'Overol': 1, 'Hidropelente': 1, 'Acnex': 1, 'Depure': 1, 'Topic': 1, 'Galvanica': 1, 'Conductor': 1, 'Adipofactor': 1, 'Salicilico': 1, 'Gendarmeria': 1, 'Tacticos': 1, 'Borseguies': 1, 'Stroke': 1, 'Derecho': 1, 'Placas': 1, 'Antiadherentes': 1, 'Pretty': 1, 'Mami': 1, 'Doll': 1, 'Tecwaves': 1, 'fabrica': 1, 'Multicocina': 1, 'Quilmes': 1, 'Joyas': 1, 'Serigrafia': 1, 'Gastes': 1, 'Dorsal': 1, 'Nisa': 1, 'Tobillo': 1, 'Integra': 1, 'gprote': 1, 'Dni': 1, 'Editables': 1, 'Photoshop': 1, 'Motivos': 1, 'Juveniles': 1, 'Psd': 1, 'Raspado': 1, 'Gua': 1, 'Sha': 1, 'cuarzo': 1, 'Cce': 1, 'Ecokit': 1, 'Tacometro': 1, 'Hisense': 1, 'Sanyo': 1, 'Tcl': 1, 'Recco': 1, 'Colorella': 1, 'Tocador': 1, 'Valores': 1, 'Simulada': 1, 'Hafele': 1, 'aires': 1, 'Videovigilancia': 1, 'Alarmas': 1, 'Electricidad': 1, 'Niacinamide': 1, 'Arbutin': 1, 'blister': 1, 'Caffeine': 1, 'Solution': 1, 'Egcg': 1, 'Azelaic': 1, 'Acid': 1, 'Sacabollos': 1, 'Amasa': 1, 'Tallarines': 1, 'tda': 1, 'Caminadora': 1, 'Envia': 1, 'Bombas': 1, 'Pitty': 1, 'Pinky': 1, 'Neptuno': 1, 'Estelar': 1, 'Obligacion': 1, 'Rgcueros': 1, 'Izzulinlo': 1, 'Virtuosa': 1, 'Orificio': 1, 'Powerball': 1, 'Rocklets': 1, 'Confitado': 1, 'Gerencial': 1, 'Aluminum': 1, 'Aluminium': 1, 'Cortantes': 1, 'Estecas': 1, 'Tarot': 1, 'Astrologica': 1, 'Xlt': 1, 'Uhp': 1, 'Contipowercontact': 1, 'Sedificada': 1, 'Ovillos': 1, 'Tsm': 1, 'Onix': 1, 'Sacabocados': 1, 'Alemana': 1, 'Luciano': 1, 'Mdp': 1, 'Malva': 1, 'Donn': 1, 'Comprimida': 1, 'Calef': 1, 'termotanq': 1, 'Buenoscuadernos': 1, 'Fisicos': 1, 'Vision': 1, 'Trends': 1, 'Packx': 1, 'Trenzas': 1, 'Deville': 1, 'Bipin': 1, 'Acr': 1, 'Poly': 1, 'Duster': 1, 'Oroch': 1, 'Origi': 1, 'Vrs': 1, 'Bumper': 1, 'Protecc': 1, 'Sonata': 1, 'Diary': 1, 'Mercury': 1, 'Goospery': 1, 'Datatraveler': 1, 'Microduo': 1, 'Fynutrition': 1, 'Morelli': 1, 'Franja': 1, 'Etiqueta': 1, 'Aspersor': 1, 'Impulso': 1, 'Sapito': 1, 'Soplado': 1, 'med': 1, 'Ilustracion': 1, 'Zoeste': 1, 'Brother': 1, 'Ltx': 1, 'Force': 1, 'Atizador': 1, 'Sacapolvo': 1, 'Pleno': 1, 'Emocionario': 1, 'Cristina': 1, 'Nunez': 1, 'Pereira': 1, 'Canson': 1, 'Montval': 1, 'Acuarela': 1, 'Antiempano': 1, 'consorcio': 1, 'Pedestal': 1, 'Conferencias': 1, 'Colonia': 1, 'Paula': 1, 'Cahen': 1, 'Danvers': 1, 'Boos': 1, 'Lumiere': 1, 'Venda': 1, 'Estetica': 1, 'Conductores': 1, 'Pulverizadora': 1, 'Sera': 1, 'Stray': 1, 'Niid': 1, 'Nid': 1, 'jarron': 1, 'Trampera': 1, 'Cebadera': 1, 'Laucha': 1, 'Raton': 1, 'Valhall': 1, 'Transf': 1, 'Valhalla': 1, 'Artista': 1, 'Padres': 1, 'Cameron': 1, 'Aguilar': 1, 'Arneses': 1, 'Eroti': 1, 'Ligas': 1, 'Increible': 1, 'estamos': 1, 'Rosada': 1, 'Focos': 1, 'Blindex': 1, 'Laffitte': 1, 'Duemila': 1, 'receptores': 1, 'canal': 1, 'mhz': 1, 'Domotica': 1, 'Rele': 1, 'Carnicero': 1, 'Encina': 1, 'Galvanizados': 1, 'clips': 1, 'Petg': 1, 'Gatton': 1, 'Panic': 1, 'Largada': 1, 'Fabercito': 1, 'lan': 1, 'Agendas': 1, 'Diarias': 1, 'Paginas': 1, 'Horarios': 1, 'Contactos': 1, 'Notas': 1, 'gbram': 1, 'Quadcore': 1, 'Sensores': 1, 'Progresivo': 1, 'Encoder': 1, 'Codificador': 1, 'cuotas': 1, 'Vexley': 1, 'Vulcanizadas': 1, 'Jugu': 1, 'Desayunos': 1, 'Autorizado': 1, 'Dikang': 1, 'Quechua': 1, 'Nabaiji': 1, 'Decathlon': 1, 'Compostera': 1, 'Kompost': 1, 'Lombrices': 1, 'Polifuncional': 1, 'Pelopincho': 1, 'Cosrx': 1, 'Pimple': 1, 'Some': 1, 'Aha': 1, 'Bha': 1, 'Pha': 1, 'Days': 1, 'Mvh': 1, 'Aneroide': 1, 'Estetoscopio': 1, 'Dreams': 1, 'Poliamida': 1, 'Sublipolvo': 1, 'Moritzu': 1, 'Serpentina': 1, 'Cienfuegos': 1, 'Tuyu': 1, 'Abrasivo': 1, 'Soleros': 1, 'Sms': 1, 'Antibacteriana': 1, 'Lastre': 1, 'Newsventas': 1, 'Spear': 1, 'Hookah': 1, 'Shisha': 1, 'hookah': 1, 'shisha': 1, 'mazaya': 1, 'Adornos': 1, 'Coast': 1, 'Effect': 1, 'Jojoba': 1, 'organico': 1, 'puro': 1, 'Concentrados': 1, 'Canarias': 1, 'Uruguaya': 1, 'Trx': 1, 'bolso': 1, 'topes': 1, 'Agarres': 1, 'pluribol': 1, 'Typion': 1, 'Tarugo': 1, 'Apitoxia': 1, 'Cif': 1, 'trip': 1, 'Netmak': 1, 'Asts': 1, 'Code': 1, 'Frito': 1, 'Stainless': 1, 'Baldes': 1, 'Qga': 1, 'kasa': 1, 'Aykasa': 1, 'Pintado': 1, 'Juanetes': 1, 'Metatars': 1, 'Nantes': 1, 'Tote': 1, 'Susan': 1, 'Automovilistica': 1, 'Cel': 1, 'Ossono': 1, 'Prix': 1, 'Pipas': 1, 'Scrunch': 1, 'Colome': 1, 'Tannat': 1, 'Bolas': 1, 'Presostato': 1, 'Climatizador': 1, 'Peisa': 1, 'Indo': 1, 'Deli': 1, 'Girator': 1, 'Mtdp': 1, 'Catalpa': 1, 'Cercis': 1, 'Scrabble': 1, 'Dhurrie': 1, 'Contec': 1, 'Balastro': 1, 'Agro': 1, 'Proelec': 1, 'Grenador': 1, 'Ultimas': 1, 'Encarnadas': 1, 'Sindolor': 1, 'Slackline': 1, 'xplode': 1, 'Klug': 1, 'Botines': 1, 'Predator': 1, 'Mepam': 1, 'Afix': 1, 'Labor': 1, 'Tejer': 1, 'Dixter': 1, 'Deskjet': 1, 'Advantage': 1, 'Jim': 1, 'Beam': 1, 'Hexagonales': 1, 'Posavasos': 1, 'Sitec': 1, 'Sculpture': 1, 'Dslr': 1, 'Respuesta': 1, 'Caso': 1, 'gre': 1, 'Jala': 1, 'Neti': 1, 'Lauda': 1, 'Socks': 1, 'Kooky': 1, 'Bon': 1, 'Felfort': 1, 'Fournee': 1, 'Net': 1, 'Raquetas': 1, 'Salustri': 1, 'Feka': 1, 'Proyec': 1, 'Clash': 1, 'Disponibles': 1, 'Sportwear': 1, 'Zumba': 1, 'Videochat': 1, 'Skullcandy': 1, 'Indy': 1, 'Focusrite': 1, 'Scarlett': 1, 'Estilografos': 1, 'Edding': 1, 'Graduacion': 1, 'Plast': 1, 'Lavacoche': 1, 'Scoop': 1, 'Brembo': 1, 'Conquer': 1, 'Antimancha': 1, 'Autobronceante': 1, 'Rinon': 1, 'Start': 1, 'eritritol': 1, 'harina': 1, 'psyllium': 1}\n"
     ]
    }
   ],
   "source": [
    "# Analizando la frecuencia de palabras en titulos de los productos\n",
    "def word_counter(string_ls):\n",
    "    dic = {}\n",
    "    for string_full in string_ls:\n",
    "        for string in re.findall(r'[a-zA-Z]{3,}',unidecode(string_full)):\n",
    "            if string in dic.keys():\n",
    "                dic[string] += 1\n",
    "            else:\n",
    "                dic[string] = 1\n",
    "            \n",
    "    return dic\n",
    "title_count_dic = word_counter(list(df_main['title']))\n",
    "\n",
    "print({k: v for k, v in sorted(title_count_dic.items(), key=lambda item: item[1], reverse=True)})"
   ]
  },
  {
   "cell_type": "code",
   "execution_count": 468,
   "metadata": {},
   "outputs": [
    {
     "data": {
      "text/plain": [
       "count      214.000000\n",
       "mean      3493.733084\n",
       "std       2068.224177\n",
       "min        231.570000\n",
       "25%       2257.475000\n",
       "50%       3000.200000\n",
       "75%       4606.000000\n",
       "max      16054.050000\n",
       "Name: price, dtype: float64"
      ]
     },
     "execution_count": 468,
     "metadata": {},
     "output_type": "execute_result"
    }
   ],
   "source": [
    "df_main[df_main['title'].str.contains('Zapatilla')]['price'].describe()"
   ]
  },
  {
   "cell_type": "code",
   "execution_count": 470,
   "metadata": {
    "collapsed": true,
    "jupyter": {
     "outputs_hidden": true
    }
   },
   "outputs": [
    {
     "name": "stdout",
     "output_type": "stream",
     "text": [
      "{'Zapatillas': 151, 'Mujer': 78, 'Zapatilla': 64, 'Urbanas': 38, 'Plataforma': 36, 'Moda': 28, 'Hombre': 27, 'Urbana': 23, 'Zapato': 19, 'Sneaker': 19, 'Cuero': 18, 'Topper': 16, 'Olympikus': 16, 'Fila': 13, 'Running': 12, 'Dama': 12, 'Nuevos': 12, 'Modelos': 12, 'Deportiva': 11, 'Vacuno': 10, 'Deportivas': 10, 'Lona': 10, 'Savage': 10, 'Cordones': 9, 'Jaguar': 9, 'Hotsale': 9, 'Sneakers': 9, 'Del': 8, 'Nena': 7, 'Ninos': 7, 'Verano': 7, 'Con': 7, 'Atomik': 7, 'Originales': 6, 'Ninas': 6, 'Tela': 6, 'Pancha': 6, 'Acordonada': 6, 'Tenis': 5, 'Original': 5, 'Art': 5, 'Nuevo': 5, 'Stork': 5, 'Gratis': 5, 'Zapatos': 5, 'Blanca': 5, 'Alta': 5, 'Deportes': 5, 'Marvel': 5, 'Envios': 5, 'Cuotas': 4, 'Envio': 4, 'Cierre': 4, 'Elastizadas': 4, 'Tomas': 4, 'Lady': 4, 'Nautica': 4, 'Nauticas': 4, 'Botita': 4, 'Negro': 4, 'Livianas': 4, 'Calzados': 4, 'Fokker': 4, 'Cavatini': 4, 'Vestir': 4, 'Urbano': 4, 'Todo': 4, 'Pais': 4, 'Pata': 4, 'Sportif': 3, 'Unisex': 3, 'Negra': 3, 'Euro': 3, 'Jogger': 3, 'Montagne': 3, 'Azul': 3, 'tik': 3, 'Lateral': 3, 'Lanzamiento': 3, 'Gummi': 3, 'Fluid': 3, 'Padel': 3, 'Wardian': 3, 'Twist': 3, 'Divani': 3, 'Blanco': 3, 'Liviana': 3, 'Oferta': 3, 'Franciscana': 3, 'Fluo': 3, 'Elastizada': 3, 'Alexander': 3, 'Informal': 3, 'Narrow': 3, 'Trail': 2, 'Coq': 2, 'Negras': 2, 'Sport': 2, 'Gris': 2, 'Penalty': 2, 'Squat': 2, 'Nina': 2, 'Basquet': 2, 'Black': 2, 'Eco': 2, 'Bota': 2, 'Colores': 2, 'Acordonadas': 2, 'Tok': 2, 'Sin': 2, 'Day': 2, 'Chalpa': 2, 'Importada': 2, 'Calidad': 2, 'Morris': 2, 'Basketball': 2, 'Classic': 2, 'Traction': 2, 'Pie': 2, 'art': 2, 'Para': 2, 'Pares': 2, 'Brillo': 2, 'Full': 2, 'Glitter': 2, 'Tachas': 2, 'Head': 2, 'Duo': 2, 'Argos': 2, 'Addnice': 2, 'Positano': 2, 'Panchas': 2, 'Moleca': 2, 'Confort': 2, 'Sandalias': 2, 'Base': 2, 'Combinadas': 2, 'Cordon': 2, 'Kaosimport': 2, 'Flex': 2, 'run': 2, 'Elis': 2, 'Racer': 2, 'New': 2, 'Mcqueen': 2, 'Super': 2, 'Talles': 2, 'Especiales': 2, 'Avengers': 2, 'Avenger': 2, 'Dromo': 2, 'Unltd': 2, 'Hombres': 2, 'Clay': 2, 'Vicus': 2, 'Folk': 2, 'Acanalado': 2, 'Sandalia': 2, 'Balenciaga': 2, 'Kalop': 2, 'mts': 2, 'Andarin': 2, 'Irrompible': 2, 'Planeta': 2, 'Salomon': 1, 'Speedcross': 1, 'Bolivar': 1, 'Eclipse': 1, 'Thunderbolt': 1, 'Training': 1, 'Rod': 1, 'Blancas': 1, 'Action': 1, 'Chipre': 1, 'Wind': 1, 'Trainning': 1, 'Lecoq': 1, 'Courtset': 1, 'Rosa': 1, 'Botin': 1, 'Futbol': 1, 'Futsal': 1, 'Americas': 1, 'Anta': 1, 'Klay': 1, 'Thompson': 1, 'Gold': 1, 'Origina': 1, 'Botineta': 1, 'Rosas': 1, 'Env': 1, 'Lycra': 1, 'Flower': 1, 'track': 1, 'Jump': 1, 'Kids': 1, 'Flash': 1, 'Spartan': 1, 'Jhonny': 1, 'Lugano': 1, 'Forehand': 1, 'Dakota': 1, 'Index': 1, 'Element': 1, 'Breed': 1, 'Oxide': 1, 'Retro': 1, 'Jiro': 1, 'Modelo': 1, 'Exact': 1, 'Zap': 1, 'Rafa': 1, 'Canal': 1, 'Tension': 1, 'Rack': 1, 'Mural': 1, 'Prosoft': 1, 'Nadia': 1, 'Botas': 1, 'Good': 1, 'Year': 1, 'Descanso': 1, 'Neoprene': 1, 'Acuaticas': 1, 'Kayak': 1, 'Pesca': 1, 'Aqua': 1, 'Gym': 1, 'Plata': 1, 'Ultimos': 1, 'Marca': 1, 'Dorado': 1, 'Snekers': 1, 'Acuatica': 1, 'Aquagym': 1, 'Playa': 1, 'Pileta': 1, 'Rio': 1, 'Tejidas': 1, 'Eva': 1, 'Flexible': 1, 'Comoda': 1, 'Green': 1, 'Comodas': 1, 'Brenda': 1, 'Libra': 1, 'Tractor': 1, 'Chunky': 1, 'Dune': 1, 'Juniors': 1, 'Cuota': 1, 'Bajas': 1, 'Charol': 1, 'Modare': 1, 'Elasticos': 1, 'Sintetico': 1, 'Broche': 1, 'Gomon': 1, 'Fucsia': 1, 'Marilin': 1, 'Color': 1, 'Meet': 1, 'Urban': 1, 'Cira': 1, 'Boris': 1, 'Oud': 1, 'Line': 1, 'Life': 1, 'Style': 1, 'Botitas': 1, 'Informales': 1, 'Interceptor': 1, 'Wedge': 1, 'Roberto': 1, 'Move': 1, 'Balance': 1, 'Pony': 1, 'Asics': 1, 'Gel': 1, 'Dedicate': 1, 'Damas': 1, 'Diportto': 1, 'Amalfi': 1, 'Man': 1, 'Yuri': 1, 'Estilo': 1, 'Skater': 1, 'Elatizada': 1, 'Ambar': 1, 'Elastico': 1, 'Almendra': 1, 'Nuevas': 1, 'moda': 1, 'Amparo': 1, 'Guillermina': 1, 'Abrojo': 1, 'Bebe': 1, 'Citified': 1, 'Terra': 1, 'Trekking': 1, 'York': 1, 'Gamuzada': 1, 'Invierno': 1, 'NeopreneBase': 1, 'Ultraliviana': 1, 'Hush': 1, 'Puppies': 1, 'Piscis': 1, 'Litewave': 1, 'Ampere': 1, 'The': 1, 'North': 1, 'Face': 1, 'Salming': 1, 'Shocking': 1, 'Orange': 1, 'Originals': 1, 'Superheroes': 1, 'Ultra': 1, 'Amerika': 1, 'Vulcanizada': 1, 'Delicado': 1, 'Casual': 1, 'Storkman': 1, 'Deportivo': 1, 'Eslastizada': 1, 'Nene': 1, 'Infantil': 1, 'Heroes': 1, 'Athix': 1, 'Marino': 1, 'Babolat': 1, 'Jet': 1, 'Mach': 1, 'Impact': 1, 'Woman': 1, 'Trainer': 1, 'Energized': 1, 'Joma': 1, 'Set': 1, 'Comfort': 1, 'Balen': 1, 'Media': 1, 'Tik': 1, 'Kioshi': 1, 'Suela': 1, 'tipo': 1, 'Bordada': 1, 'Caramelo': 1, 'Canvas': 1, 'Reflex': 1, 'Oversize': 1, 'Tipo': 1, 'Queen': 1, 'multinorma': 1, 'cable': 1, 'Cable': 1, 'Multinorma': 1, 'Bca': 1, 'Mail': 1, 'Modernas': 1, 'Slipper': 1, 'interes': 1, 'Alargue': 1, 'Electrica': 1, 'Prolongador': 1, 'Termica': 1, 'Patin': 1, 'Unicornio': 1, 'Artisrtico': 1, 'Luces': 1, 'Led': 1, 'Luna': 1, 'Triple': 1, 'Importadas': 1, 'Vexley': 1, 'Vulcanizadas': 1, 'Juguete': 1, 'Pack': 1, 'Jugu': 1}\n"
     ]
    }
   ],
   "source": [
    "zapatillas_count_dic = word_counter(list(df_main[df_main['title'].str.contains('Zapatilla')]['title']))\n",
    "print({k: v for k, v in sorted(zapatillas_count_dic.items(), key=lambda item: item[1], reverse=True)})"
   ]
  },
  {
   "cell_type": "code",
   "execution_count": 473,
   "metadata": {},
   "outputs": [
    {
     "data": {
      "text/plain": [
       "count       29.000000\n",
       "mean      3781.803793\n",
       "std       2225.560834\n",
       "min       1001.000000\n",
       "25%       2325.000000\n",
       "50%       3816.500000\n",
       "75%       4417.060000\n",
       "max      13860.500000\n",
       "Name: price, dtype: float64"
      ]
     },
     "execution_count": 473,
     "metadata": {},
     "output_type": "execute_result"
    }
   ],
   "source": [
    "df_main[(df_main['title'].str.contains('Zapatilla'))&(df_main['title'].str.contains('Hombre'))]['price'].describe()"
   ]
  },
  {
   "cell_type": "code",
   "execution_count": 474,
   "metadata": {},
   "outputs": [
    {
     "data": {
      "text/plain": [
       "count      77.000000\n",
       "mean     3015.896494\n",
       "std      1416.887106\n",
       "min      1033.060000\n",
       "25%      2286.500000\n",
       "50%      2540.000000\n",
       "75%      3021.000000\n",
       "max      8599.000000\n",
       "Name: price, dtype: float64"
      ]
     },
     "execution_count": 474,
     "metadata": {},
     "output_type": "execute_result"
    }
   ],
   "source": [
    "df_main[(df_main['title'].str.contains('Zapatilla'))&(df_main['title'].str.contains('Mujer'))]['price'].describe()"
   ]
  },
  {
   "cell_type": "code",
   "execution_count": 469,
   "metadata": {},
   "outputs": [
    {
     "data": {
      "text/plain": [
       "count      133.000000\n",
       "mean      2144.687293\n",
       "std       4048.270987\n",
       "min         47.000000\n",
       "25%        489.300000\n",
       "50%        851.290000\n",
       "75%       2375.000000\n",
       "max      30899.000000\n",
       "Name: price, dtype: float64"
      ]
     },
     "execution_count": 469,
     "metadata": {},
     "output_type": "execute_result"
    }
   ],
   "source": [
    "df_main[df_main['title'].str.contains('Celular')]['price'].describe()"
   ]
  },
  {
   "cell_type": "code",
   "execution_count": 475,
   "metadata": {},
   "outputs": [
    {
     "data": {
      "text/plain": [
       "0.0    3895\n",
       "5.0    2519\n",
       "4.5    2490\n",
       "4.0     701\n",
       "3.5     136\n",
       "3.0      95\n",
       "2.5      25\n",
       "1.0      24\n",
       "2.0      21\n",
       "1.5       3\n",
       "Name: rating, dtype: int64"
      ]
     },
     "execution_count": 475,
     "metadata": {},
     "output_type": "execute_result"
    }
   ],
   "source": [
    "df_main['rating'].value_counts()"
   ]
  },
  {
   "cell_type": "code",
   "execution_count": 508,
   "metadata": {},
   "outputs": [],
   "source": [
    "health_mean = float(df_main['health'].mode())\n",
    "df_main['health'].fillna(health_mean,inplace=True)"
   ]
  },
  {
   "cell_type": "code",
   "execution_count": 509,
   "metadata": {},
   "outputs": [
    {
     "name": "stdout",
     "output_type": "stream",
     "text": [
      "<class 'pandas.core.frame.DataFrame'>\n",
      "Int64Index: 9909 entries, 0 to 10671\n",
      "Data columns (total 65 columns):\n",
      " #   Column                                           Non-Null Count  Dtype  \n",
      "---  ------                                           --------------  -----  \n",
      " 0   item_id                                          9909 non-null   object \n",
      " 1   seller_id                                        9909 non-null   int64  \n",
      " 2   available_quantity                               9909 non-null   int64  \n",
      " 3   tags                                             9909 non-null   object \n",
      " 4   price                                            9909 non-null   float64\n",
      " 5   original_price                                   9909 non-null   float64\n",
      " 6   catalog_listing                                  9909 non-null   int64  \n",
      " 7   listing_type_id                                  9909 non-null   object \n",
      " 8   shipping                                         9909 non-null   object \n",
      " 9   sold_quantity                                    9909 non-null   int64  \n",
      " 10  title                                            9909 non-null   object \n",
      " 11  attributes                                       9909 non-null   int64  \n",
      " 12  pictures                                         9909 non-null   int64  \n",
      " 13  health                                           9909 non-null   float64\n",
      " 14  rating                                           9909 non-null   float64\n",
      " 15  review_count                                     9909 non-null   int64  \n",
      " 16  description                                      9909 non-null   object \n",
      " 17  user_type                                        9909 non-null   int64  \n",
      " 18  seller_tags                                      9909 non-null   object \n",
      " 19  points                                           9909 non-null   int64  \n",
      " 20  seller_reputation_power_seller_status            9909 non-null   int64  \n",
      " 21  seller_reputation_transactions_canceled          9909 non-null   int64  \n",
      " 22  seller_reputation_transactions_completed         9909 non-null   int64  \n",
      " 23  seller_reputation_transactions_ratings_negative  9909 non-null   float64\n",
      " 24  seller_reputation_transactions_ratings_neutral   9909 non-null   float64\n",
      " 25  seller_reputation_transactions_ratings_positive  9909 non-null   float64\n",
      " 26  tags_brand_verified                              9909 non-null   int64  \n",
      " 27  tags_deal_of_the_day                             9909 non-null   int64  \n",
      " 28  tags_good_quality_picture                        9909 non-null   int64  \n",
      " 29  tags_good_quality_thumbnail                      9909 non-null   int64  \n",
      " 30  tags_immediate_payment                           9909 non-null   int64  \n",
      " 31  tags_cart_eligible                               9909 non-null   int64  \n",
      " 32  tags_ahora-12                                    9909 non-null   int64  \n",
      " 33  tags_extended_warranty_eligible                  9909 non-null   int64  \n",
      " 34  tags_loyalty_discount_eligible                   9909 non-null   int64  \n",
      " 35  tags_dragged_bids_and_visits                     9909 non-null   int64  \n",
      " 36  tags_catalog_listing_eligible                    9909 non-null   int64  \n",
      " 37  tags_supermarket_eligible                        9909 non-null   int64  \n",
      " 38  tags_lightning_deal                              9909 non-null   int64  \n",
      " 39  tags_incomplete_technical_specs                  9909 non-null   int64  \n",
      " 40  tags_poor_quality_picture                        9909 non-null   int64  \n",
      " 41  tags_poor_quality_thumbnail                      9909 non-null   int64  \n",
      " 42  tags_under_infractions                           9909 non-null   int64  \n",
      " 43  seller_tags_brand                                9909 non-null   int64  \n",
      " 44  seller_tags_user_info_verified                   9909 non-null   int64  \n",
      " 45  seller_tags_large_seller                         9909 non-null   int64  \n",
      " 46  seller_tags_eshop                                9909 non-null   int64  \n",
      " 47  seller_tags_mshops                               9909 non-null   int64  \n",
      " 48  seller_tags_normal                               9909 non-null   int64  \n",
      " 49  seller_tags_developer                            9909 non-null   int64  \n",
      " 50  seller_tags_medium_seller                        9909 non-null   int64  \n",
      " 51  seller_tags_medium_seller_advanced               9909 non-null   int64  \n",
      " 52  seller_tags_from_facebook                        9909 non-null   int64  \n",
      " 53  shipping_mode                                    9909 non-null   int64  \n",
      " 54  shipping_free_methods                            9909 non-null   int64  \n",
      " 55  shipping_tags                                    9909 non-null   int64  \n",
      " 56  shipping_dimensions                              9909 non-null   int64  \n",
      " 57  shipping_local_pick_up                           9909 non-null   int64  \n",
      " 58  shipping_free_shipping                           9909 non-null   int64  \n",
      " 59  shipping_logistic_type                           9909 non-null   int64  \n",
      " 60  shipping_store_pick_up                           9909 non-null   int64  \n",
      " 61  shipping_methods                                 9909 non-null   int64  \n",
      " 62  title_words                                      9909 non-null   int64  \n",
      " 63  description_words                                9909 non-null   int64  \n",
      " 64  discount                                         9909 non-null   float64\n",
      "dtypes: float64(8), int64(50), object(7)\n",
      "memory usage: 5.0+ MB\n"
     ]
    }
   ],
   "source": [
    "df_main.info()"
   ]
  },
  {
   "cell_type": "markdown",
   "metadata": {},
   "source": [
    "<h3> Analisis de la correlacion de los datos <\\h3>"
   ]
  },
  {
   "cell_type": "code",
   "execution_count": 529,
   "metadata": {},
   "outputs": [
    {
     "name": "stdout",
     "output_type": "stream",
     "text": [
      "seller_id                                          0.046982\n",
      "available_quantity                                 0.094992\n",
      "price                                              0.053000\n",
      "original_price                                     0.046198\n",
      "catalog_listing                                    0.089297\n",
      "pictures                                           0.138768\n",
      "rating                                             0.256467\n",
      "review_count                                       0.020999\n",
      "user_type                                          0.044461\n",
      "points                                             0.024502\n",
      "seller_reputation_power_seller_status              0.097872\n",
      "seller_reputation_transactions_ratings_negative    0.030096\n",
      "seller_reputation_transactions_ratings_positive    0.027378\n",
      "tags_deal_of_the_day                               0.101999\n",
      "tags_good_quality_thumbnail                        0.088943\n",
      "tags_dragged_bids_and_visits                       0.104750\n",
      "seller_tags_brand                                  0.044461\n",
      "seller_tags_large_seller                           0.044461\n",
      "seller_tags_eshop                                  0.031662\n",
      "seller_tags_normal                                 0.044461\n",
      "seller_tags_developer                              0.037930\n",
      "seller_tags_medium_seller                          0.042707\n",
      "seller_tags_medium_seller_advanced                 0.044776\n",
      "shipping_free_methods                              0.058234\n",
      "shipping_methods                                   0.058234\n",
      "title_words                                        0.048541\n",
      "description_words                                  0.096621\n",
      "discount                                           0.033641\n",
      "Name: sold_quantity, dtype: float64\n"
     ]
    }
   ],
   "source": [
    "corr_matrix = df_main.corr().abs()\n",
    "\n",
    "sold_cols_corr = corr_matrix[(corr_matrix['sold_quantity'] > 0.02) & (corr_matrix['sold_quantity'] < 0.95)]['sold_quantity'].keys()\n",
    "print(corr_matrix[(corr_matrix['sold_quantity'] > 0.02) & (corr_matrix['sold_quantity'] < 0.95)]['sold_quantity'])"
   ]
  },
  {
   "cell_type": "code",
   "execution_count": null,
   "metadata": {},
   "outputs": [],
   "source": [
    "plt.figure(figsize = (40,30))\n",
    "sns.heatmap(df_main.filter(sold_cols_corr),annot=True)"
   ]
  },
  {
   "cell_type": "markdown",
   "metadata": {},
   "source": [
    "<h3> Prueba inicial del algoritmo con los features seleccionados <h3>"
   ]
  },
  {
   "cell_type": "code",
   "execution_count": 520,
   "metadata": {},
   "outputs": [],
   "source": [
    "X = df_main.filter(sold_cols_corr)\n",
    "Y = df_main[\"sold_quantity\"]\n",
    "X_train, X_test, Y_train, Y_test = train_test_split(X, Y, test_size=0.2, random_state = 42)"
   ]
  },
  {
   "cell_type": "code",
   "execution_count": 518,
   "metadata": {},
   "outputs": [],
   "source": [
    "# MODELO CON FILTRO DE COLUMNAS POR IMPORTANCIA\n",
    "X = df_main.filter(ndrop_cols)\n",
    "Y = df_main[\"sold_quantity\"]\n",
    "X_train, X_test, Y_train, Y_test = train_test_split(X, Y, test_size=0.2, random_state = 42)"
   ]
  },
  {
   "cell_type": "code",
   "execution_count": 528,
   "metadata": {},
   "outputs": [
    {
     "name": "stdout",
     "output_type": "stream",
     "text": [
      "R^2 Training Score: 0.92 \n",
      "OOB Score: 0.35 \n",
      "R^2 Validation Score: 0.46\n"
     ]
    }
   ],
   "source": [
    "rf = RandomForestRegressor(n_estimators = 50,\n",
    "                           n_jobs = -1,\n",
    "                           oob_score = True,\n",
    "                           bootstrap = True,\n",
    "                           random_state = 42)\n",
    "rf.fit(X_train, Y_train)\n",
    "\n",
    "print('R^2 Training Score: {:.2f} \\nOOB Score: {:.2f} \\nR^2 Validation Score: {:.2f}'.format(rf.score(X_train, Y_train), \n",
    "                                                                                             rf.oob_score_,\n",
    "                                                                                             rf.score(X_test, Y_test)))"
   ]
  },
  {
   "cell_type": "code",
   "execution_count": 523,
   "metadata": {},
   "outputs": [],
   "source": [
    "from sklearn import metrics\n",
    "mae = []\n",
    "mse = []\n",
    "rmse = []\n",
    "for x in range(1,201):\n",
    "    rf = RandomForestRegressor(n_estimators = x,\n",
    "                           n_jobs = -1,\n",
    "                           oob_score = True,\n",
    "                           bootstrap = True,\n",
    "                           random_state = 42)\n",
    "    rf.fit(X_train, Y_train)\n",
    "    \n",
    "    mae.append(metrics.mean_absolute_error(Y_test, rf.predict(X_test)))\n",
    "    mse.append(metrics.mean_squared_error(Y_test, rf.predict(X_test)))\n",
    "    rmse.append(np.sqrt(metrics.mean_squared_error(Y_test, rf.predict(X_test))))"
   ]
  },
  {
   "cell_type": "code",
   "execution_count": 530,
   "metadata": {},
   "outputs": [
    {
     "data": {
      "text/plain": [
       "<AxesSubplot:>"
      ]
     },
     "execution_count": 530,
     "metadata": {},
     "output_type": "execute_result"
    },
    {
     "data": {
      "image/png": "[encoded data removed]",
      "text/plain": [
       "<Figure size 720x360 with 1 Axes>"
      ]
     },
     "metadata": {
      "needs_background": "light"
     },
     "output_type": "display_data"
    }
   ],
   "source": [
    "plt.figure(figsize = (10,5))\n",
    "sns.lineplot(data=mae)"
   ]
  },
  {
   "cell_type": "code",
   "execution_count": 525,
   "metadata": {},
   "outputs": [
    {
     "data": {
      "text/plain": [
       "<AxesSubplot:>"
      ]
     },
     "execution_count": 525,
     "metadata": {},
     "output_type": "execute_result"
    },
    {
     "data": {
      "image/png": "[encoded data removed]",
      "text/plain": [
       "<Figure size 720x360 with 1 Axes>"
      ]
     },
     "metadata": {
      "needs_background": "light"
     },
     "output_type": "display_data"
    }
   ],
   "source": [
    "plt.figure(figsize = (10,5))\n",
    "sns.lineplot(data=mse)"
   ]
  },
  {
   "cell_type": "code",
   "execution_count": 526,
   "metadata": {},
   "outputs": [
    {
     "data": {
      "text/plain": [
       "<AxesSubplot:>"
      ]
     },
     "execution_count": 526,
     "metadata": {},
     "output_type": "execute_result"
    },
    {
     "data": {
      "image/png": "[encoded data removed]",
      "text/plain": [
       "<Figure size 720x360 with 1 Axes>"
      ]
     },
     "metadata": {
      "needs_background": "light"
     },
     "output_type": "display_data"
    }
   ],
   "source": [
    "plt.figure(figsize = (10,5))\n",
    "sns.lineplot(data=rmse)"
   ]
  },
  {
   "cell_type": "code",
   "execution_count": null,
   "metadata": {},
   "outputs": [],
   "source": [
    "# Pareceria que en 50 estimadores se alcanza el minimo error del modelo"
   ]
  },
  {
   "cell_type": "markdown",
   "metadata": {},
   "source": [
    "<h3> Guardado del modelo </h3>"
   ]
  },
  {
   "cell_type": "code",
   "execution_count": 522,
   "metadata": {},
   "outputs": [],
   "source": [
    "import pickle\n",
    "pickle.dump(rf, open('ml_descuentos_RandFore_alto.sav', 'wb'))"
   ]
  },
  {
   "cell_type": "markdown",
   "metadata": {},
   "source": [
    "<h3> Importancia de los features <\\h3>"
   ]
  },
  {
   "cell_type": "code",
   "execution_count": 327,
   "metadata": {},
   "outputs": [],
   "source": [
    "from sklearn.metrics import r2_score\n",
    "from rfpimp import permutation_importances"
   ]
  },
  {
   "cell_type": "code",
   "execution_count": 344,
   "metadata": {},
   "outputs": [],
   "source": [
    "def r2(rf, X_train, y_train):\n",
    "    return r2_score(y_train, rf.predict(X_train))\n",
    "\n",
    "perm_imp_rfpimp = permutation_importances(rf, X_train, Y_train, r2)"
   ]
  },
  {
   "cell_type": "code",
   "execution_count": 345,
   "metadata": {},
   "outputs": [
    {
     "data": {
      "text/html": [
       "<div>\n",
       "<style scoped>\n",
       "    .dataframe tbody tr th:only-of-type {\n",
       "        vertical-align: middle;\n",
       "    }\n",
       "\n",
       "    .dataframe tbody tr th {\n",
       "        vertical-align: top;\n",
       "    }\n",
       "\n",
       "    .dataframe thead th {\n",
       "        text-align: right;\n",
       "    }\n",
       "</style>\n",
       "<table border=\"1\" class=\"dataframe\">\n",
       "  <thead>\n",
       "    <tr style=\"text-align: right;\">\n",
       "      <th></th>\n",
       "      <th>Importance</th>\n",
       "    </tr>\n",
       "    <tr>\n",
       "      <th>Feature</th>\n",
       "      <th></th>\n",
       "    </tr>\n",
       "  </thead>\n",
       "  <tbody>\n",
       "    <tr>\n",
       "      <th>review_count</th>\n",
       "      <td>0.711215</td>\n",
       "    </tr>\n",
       "    <tr>\n",
       "      <th>available_quantity</th>\n",
       "      <td>0.515458</td>\n",
       "    </tr>\n",
       "    <tr>\n",
       "      <th>rating</th>\n",
       "      <td>0.467843</td>\n",
       "    </tr>\n",
       "    <tr>\n",
       "      <th>pictures</th>\n",
       "      <td>0.342978</td>\n",
       "    </tr>\n",
       "    <tr>\n",
       "      <th>original_price</th>\n",
       "      <td>0.131658</td>\n",
       "    </tr>\n",
       "    <tr>\n",
       "      <th>price</th>\n",
       "      <td>0.126061</td>\n",
       "    </tr>\n",
       "    <tr>\n",
       "      <th>tags_dragged_bids_and_visits</th>\n",
       "      <td>0.085209</td>\n",
       "    </tr>\n",
       "    <tr>\n",
       "      <th>seller_reputation_transactions_completed</th>\n",
       "      <td>0.078918</td>\n",
       "    </tr>\n",
       "    <tr>\n",
       "      <th>seller_id</th>\n",
       "      <td>0.074984</td>\n",
       "    </tr>\n",
       "    <tr>\n",
       "      <th>discount</th>\n",
       "      <td>0.049217</td>\n",
       "    </tr>\n",
       "    <tr>\n",
       "      <th>seller_reputation_transactions_canceled</th>\n",
       "      <td>0.043940</td>\n",
       "    </tr>\n",
       "    <tr>\n",
       "      <th>description_words</th>\n",
       "      <td>0.036421</td>\n",
       "    </tr>\n",
       "    <tr>\n",
       "      <th>points</th>\n",
       "      <td>0.030063</td>\n",
       "    </tr>\n",
       "    <tr>\n",
       "      <th>seller_reputation_transactions_ratings_positive</th>\n",
       "      <td>0.023164</td>\n",
       "    </tr>\n",
       "    <tr>\n",
       "      <th>title_words</th>\n",
       "      <td>0.017474</td>\n",
       "    </tr>\n",
       "    <tr>\n",
       "      <th>catalog_listing</th>\n",
       "      <td>0.008019</td>\n",
       "    </tr>\n",
       "    <tr>\n",
       "      <th>tags_good_quality_thumbnail</th>\n",
       "      <td>0.007336</td>\n",
       "    </tr>\n",
       "    <tr>\n",
       "      <th>seller_reputation_transactions_ratings_negative</th>\n",
       "      <td>0.007327</td>\n",
       "    </tr>\n",
       "    <tr>\n",
       "      <th>seller_tags_medium_seller_advanced</th>\n",
       "      <td>0.002598</td>\n",
       "    </tr>\n",
       "    <tr>\n",
       "      <th>seller_reputation_power_seller_status</th>\n",
       "      <td>0.001847</td>\n",
       "    </tr>\n",
       "    <tr>\n",
       "      <th>shipping_methods</th>\n",
       "      <td>0.001673</td>\n",
       "    </tr>\n",
       "    <tr>\n",
       "      <th>shipping_free_methods</th>\n",
       "      <td>0.000521</td>\n",
       "    </tr>\n",
       "    <tr>\n",
       "      <th>tags_deal_of_the_day</th>\n",
       "      <td>0.000265</td>\n",
       "    </tr>\n",
       "    <tr>\n",
       "      <th>seller_tags_large_seller</th>\n",
       "      <td>0.000226</td>\n",
       "    </tr>\n",
       "    <tr>\n",
       "      <th>seller_tags_developer</th>\n",
       "      <td>0.000208</td>\n",
       "    </tr>\n",
       "    <tr>\n",
       "      <th>seller_tags_medium_seller</th>\n",
       "      <td>0.000205</td>\n",
       "    </tr>\n",
       "    <tr>\n",
       "      <th>seller_tags_brand</th>\n",
       "      <td>0.000123</td>\n",
       "    </tr>\n",
       "    <tr>\n",
       "      <th>seller_tags_normal</th>\n",
       "      <td>0.000098</td>\n",
       "    </tr>\n",
       "    <tr>\n",
       "      <th>user_type</th>\n",
       "      <td>0.000089</td>\n",
       "    </tr>\n",
       "  </tbody>\n",
       "</table>\n",
       "</div>"
      ],
      "text/plain": [
       "                                                 Importance\n",
       "Feature                                                    \n",
       "review_count                                       0.711215\n",
       "available_quantity                                 0.515458\n",
       "rating                                             0.467843\n",
       "pictures                                           0.342978\n",
       "original_price                                     0.131658\n",
       "price                                              0.126061\n",
       "tags_dragged_bids_and_visits                       0.085209\n",
       "seller_reputation_transactions_completed           0.078918\n",
       "seller_id                                          0.074984\n",
       "discount                                           0.049217\n",
       "seller_reputation_transactions_canceled            0.043940\n",
       "description_words                                  0.036421\n",
       "points                                             0.030063\n",
       "seller_reputation_transactions_ratings_positive    0.023164\n",
       "title_words                                        0.017474\n",
       "catalog_listing                                    0.008019\n",
       "tags_good_quality_thumbnail                        0.007336\n",
       "seller_reputation_transactions_ratings_negative    0.007327\n",
       "seller_tags_medium_seller_advanced                 0.002598\n",
       "seller_reputation_power_seller_status              0.001847\n",
       "shipping_methods                                   0.001673\n",
       "shipping_free_methods                              0.000521\n",
       "tags_deal_of_the_day                               0.000265\n",
       "seller_tags_large_seller                           0.000226\n",
       "seller_tags_developer                              0.000208\n",
       "seller_tags_medium_seller                          0.000205\n",
       "seller_tags_brand                                  0.000123\n",
       "seller_tags_normal                                 0.000098\n",
       "user_type                                          0.000089"
      ]
     },
     "execution_count": 345,
     "metadata": {},
     "output_type": "execute_result"
    }
   ],
   "source": [
    "perm_imp_rfpimp"
   ]
  },
  {
   "cell_type": "code",
   "execution_count": 347,
   "metadata": {},
   "outputs": [],
   "source": [
    "import eli5\n",
    "from eli5.sklearn import PermutationImportance\n",
    "\n",
    "perm = PermutationImportance(rf, cv = None, refit = False, n_iter = 50).fit(X_train, Y_train)\n",
    "\n",
    "def imp_df(column_names, importances):\n",
    "    df = pd.DataFrame({'feature': column_names,\n",
    "    'feature_importance': importances})\\\n",
    "    .sort_values('feature_importance', ascending = False)\\\n",
    "    .reset_index(drop = True)\n",
    "    return df\n",
    "perm_imp_eli5 = imp_df(X_train.columns, perm.feature_importances_)\n",
    "\n",
    "perm_imp_eli5"
   ]
  },
  {
   "cell_type": "code",
   "execution_count": 354,
   "metadata": {},
   "outputs": [],
   "source": [
    "from sklearn.base import clone \n",
    "\n",
    "def drop_col_feat_imp(model, X_train, y_train, random_state = 42):\n",
    "    \n",
    "    # clone the model to have the exact same specification as the one initially trained\n",
    "    model_clone = clone(model)\n",
    "    # set random_state for comparability\n",
    "    model_clone.random_state = random_state\n",
    "    # training and scoring the benchmark model\n",
    "    model_clone.fit(X_train, y_train)\n",
    "    benchmark_score = model_clone.score(X_train, y_train)\n",
    "    # list for storing feature importances\n",
    "    importances = []\n",
    "    \n",
    "    # iterating over all columns and storing feature importance (difference between benchmark and new model)\n",
    "    for col in X_train.columns:\n",
    "        model_clone = clone(model)\n",
    "        model_clone.random_state = random_state\n",
    "        model_clone.fit(X_train.drop(col, axis = 1), y_train)\n",
    "        drop_col_score = model_clone.score(X_train.drop(col, axis = 1), y_train)\n",
    "        importances.append(benchmark_score - drop_col_score)\n",
    "    \n",
    "    importances_df = imp_df(X_train.columns, importances)\n",
    "    return importances_df"
   ]
  },
  {
   "cell_type": "code",
   "execution_count": 355,
   "metadata": {},
   "outputs": [],
   "source": [
    "df_drop_imp = drop_col_feat_imp(rf, X_train, Y_train)"
   ]
  },
  {
   "cell_type": "code",
   "execution_count": 363,
   "metadata": {},
   "outputs": [],
   "source": [
    "ndrop_cols = list(df_drop_imp[df_drop_imp['feature_importance'] > 0]['feature'])"
   ]
  },
  {
   "cell_type": "code",
   "execution_count": 359,
   "metadata": {},
   "outputs": [
    {
     "data": {
      "text/plain": [
       "<AxesSubplot:>"
      ]
     },
     "execution_count": 359,
     "metadata": {},
     "output_type": "execute_result"
    },
    {
     "data": {
      "image/png": "[encoded data removed]",
      "text/plain": [
       "<Figure size 720x1080 with 1 Axes>"
      ]
     },
     "metadata": {
      "needs_background": "light"
     },
     "output_type": "display_data"
    }
   ],
   "source": [
    "df_drop_imp.plot(kind='barh',figsize=(10,15))"
   ]
  },
  {
   "cell_type": "markdown",
   "metadata": {},
   "source": [
    "<h3> Prueba con un algoritmo de clasificador XGBoost y comparacion con Random Forest <\\3>"
   ]
  },
  {
   "cell_type": "code",
   "execution_count": 435,
   "metadata": {},
   "outputs": [],
   "source": [
    "from xgboost import XGBClassifier\n",
    "xgbcl = XGBClassifier()\n",
    "\n",
    "from sklearn.ensemble import RandomForestClassifier\n",
    "from xgboost import XGBClassifier\n",
    "from sklearn.model_selection import train_test_split\n",
    "from sklearn.metrics import accuracy_score,classification_report\n",
    "\n",
    "rfcl = RandomForestClassifier()"
   ]
  },
  {
   "cell_type": "code",
   "execution_count": 531,
   "metadata": {},
   "outputs": [],
   "source": [
    "xgbcl.fit(X_train,Y_train)\n",
    "rfcl.fit(X_train,Y_train)\n",
    "\n",
    "y_rfcl = rfcl.predict(X_test)\n",
    "y_xgbcl = xgbcl.predict(X_test)"
   ]
  },
  {
   "cell_type": "code",
   "execution_count": 532,
   "metadata": {},
   "outputs": [
    {
     "name": "stdout",
     "output_type": "stream",
     "text": [
      "Random Forest Accuracy:  0.48234106962663975\n",
      "XGBoost Accuracy:  0.47780020181634714\n"
     ]
    }
   ],
   "source": [
    "print(\"Random Forest Accuracy: \", accuracy_score(y_rfcl,Y_test))\n",
    "print(\"XGBoost Accuracy: \", accuracy_score(y_xgbcl,Y_test))"
   ]
  }
 ],
 "metadata": {
  "colab": {
   "collapsed_sections": [],
   "name": "Meli_Desafio_Tecnico.ipynb",
   "provenance": []
  },
  "kernelspec": {
   "display_name": "Python 3",
   "language": "python",
   "name": "python3"
  },
  "language_info": {
   "codemirror_mode": {
    "name": "ipython",
    "version": 3
   },
   "file_extension": ".py",
   "mimetype": "text/x-python",
   "name": "python",
   "nbconvert_exporter": "python",
   "pygments_lexer": "ipython3",
   "version": "3.8.2"
  }
 },
 "nbformat": 4,
 "nbformat_minor": 4
}
